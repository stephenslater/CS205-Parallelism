{
 "cells": [
  {
   "cell_type": "code",
   "execution_count": 1,
   "metadata": {},
   "outputs": [],
   "source": [
    "import os\n",
    "import tensorflow as tf\n",
    "import numpy as np\n",
    "from matplotlib import pyplot as plt\n",
    "%matplotlib inline"
   ]
  },
  {
   "cell_type": "code",
   "execution_count": 2,
   "metadata": {},
   "outputs": [
    {
     "name": "stdout",
     "output_type": "stream",
     "text": [
      "1.13.1\n"
     ]
    }
   ],
   "source": [
    "print(tf.__version__)\n",
    "sess = tf.Session()"
   ]
  },
  {
   "cell_type": "code",
   "execution_count": 3,
   "metadata": {},
   "outputs": [
    {
     "data": {
      "text/plain": [
       "['mask_rcnn_resnet101_atrous_coco_2018_01_28.tar.gz',\n",
       " 'ssd_mobilenet_v1_quantized_300x300_coco14_sync_2018_07_18.tar.gz',\n",
       " 'ssd_mobilenet_v2_quantized_300x300_coco_2018_09_14.tar.gz',\n",
       " 'serving',\n",
       " 'ssd_mobilenet_v2_coco_2018_03_29.tar.gz',\n",
       " 'faster_rcnn_resnet50_coco_2018_01_28.tar.gz',\n",
       " 'ssd_mobilenet_v1_fpn_shared_box_predictor_640x640_coco14_sync_2018_07_03.tar.gz',\n",
       " 'rfcn_resnet101_coco_2018_01_28',\n",
       " 'ssd_mobilenet_v2_quantized_300x300_coco_2018_09_14',\n",
       " 'ssd_mobilenet_v1_fpn_shared_box_predictor_640x640_coco14_sync_2018_07_03',\n",
       " 'mask_rcnn_resnet50_atrous_coco_2018_01_28',\n",
       " 'faster_rcnn_inception_resnet_v2_atrous_lowproposals_coco_2018_01_28',\n",
       " 'mask_rcnn_inception_v2_coco_2018_01_28.tar.gz',\n",
       " 'faster_rcnn_inception_resnet_v2_atrous_coco_2018_01_28',\n",
       " 'ssd_resnet50_v1_fpn_shared_box_predictor_640x640_coco14_sync_2018_07_03',\n",
       " 'mask_rcnn_inception_v2_coco_2018_01_28',\n",
       " 'faster_rcnn_resnet101_coco_2018_01_28.tar.gz',\n",
       " 'ssd_mobilenet_v1_coco_2018_01_28.tar.gz',\n",
       " 'ssd_mobilenet_v1_0.75_depth_300x300_coco14_sync_2018_07_03.tar.gz',\n",
       " 'ssd_mobilenet_v1_ppn_shared_box_predictor_300x300_coco14_sync_2018_07_03.tar.gz',\n",
       " 'ssd_mobilenet_v1_quantized_300x300_coco14_sync_2018_07_18',\n",
       " 'faster_rcnn_nas_lowproposals_coco_2018_01_28',\n",
       " 'ssd_mobilenet_v1_0.75_depth_quantized_300x300_coco14_sync_2018_07_18.tar.gz',\n",
       " 'rfcn_resnet101_coco_2018_01_28.tar.gz',\n",
       " 'ssd_mobilenet_v1_ppn_shared_box_predictor_300x300_coco14_sync_2018_07_03',\n",
       " 'faster_rcnn_nas_coco_2018_01_28',\n",
       " 'mask_rcnn_inception_resnet_v2_atrous_coco_2018_01_28',\n",
       " 'ssd_mobilenet_v2_coco',\n",
       " 'mask_rcnn_inception_resnet_v2_atrous_coco_2018_01_28.tar.gz',\n",
       " 'ssd_mobilenet_v1_0.75_depth_quantized_300x300_coco14_sync_2018_07_18',\n",
       " 'faster_rcnn_inception_resnet_v2_atrous_lowproposals_coco_2018_01_28.tar.gz',\n",
       " 'ssd_resnet50_v1_coco',\n",
       " 'mask_rcnn_resnet101_atrous_coco_2018_01_28',\n",
       " 'ssdlite_mobilenet_v2_coco_2018_05_09',\n",
       " 'faster_rcnn_nas_coco_2018_01_28.tar.gz',\n",
       " 'ssd_inception_v2_coco_2018_01_28',\n",
       " 'faster_rcnn_resnet101_coco_2018_01_28',\n",
       " 'ssd_mobilenet_v2_coco_2018_03_29',\n",
       " 'faster_rcnn_resnet50_lowproposals_coco_2018_01_28.tar.gz',\n",
       " 'faster_rcnn_resnet101_lowproposals_coco_2018_01_28',\n",
       " 'faster_rcnn_resnet50_lowproposals_coco_2018_01_28',\n",
       " 'faster_rcnn_inception_resnet_v2_atrous_coco_2018_01_28.tar.gz',\n",
       " 'faster_rcnn_inception_v2_coco_2018_01_28',\n",
       " 'faster_rcnn_resnet50_coco_2018_01_28',\n",
       " 'ssd_resnet50_v1_fpn_shared_box_predictor_640x640_coco14_sync_2018_07_03.tar.gz',\n",
       " 'ssd_mobilenet_v1_0.75_depth_300x300_coco14_sync_2018_07_03',\n",
       " 'ssd_inception_v2_coco_2018_01_28.tar.gz',\n",
       " 'faster_rcnn_inception_v2_coco_2018_01_28.tar.gz',\n",
       " 'ssd_mobilenet_v1_coco_2018_01_28',\n",
       " 'faster_rcnn_resnet101_lowproposals_coco_2018_01_28.tar.gz',\n",
       " 'faster_rcnn_nas_lowproposals_coco_2018_01_28.tar.gz',\n",
       " 'mask_rcnn_resnet50_atrous_coco_2018_01_28.tar.gz',\n",
       " 'ssdlite_mobilenet_v2_coco_2018_05_09.tar.gz']"
      ]
     },
     "execution_count": 3,
     "metadata": {},
     "output_type": "execute_result"
    }
   ],
   "source": [
    "MODEL_PATH = os.path.join(os.environ['HOME'], \"models\")\n",
    "os.listdir(MODEL_PATH)"
   ]
  },
  {
   "cell_type": "code",
   "execution_count": 4,
   "metadata": {},
   "outputs": [
    {
     "name": "stdout",
     "output_type": "stream",
     "text": [
      "WARNING:tensorflow:From /home/reddi-rtx/.local/lib/python3.6/site-packages/tensorflow/python/training/saver.py:1266: checkpoint_exists (from tensorflow.python.training.checkpoint_management) is deprecated and will be removed in a future version.\n",
      "Instructions for updating:\n",
      "Use standard file APIs to check for files with this prefix.\n",
      "INFO:tensorflow:Restoring parameters from /home/reddi-rtx/models/faster_rcnn_resnet101_lowproposals_coco_2018_01_28/model.ckpt\n"
     ]
    }
   ],
   "source": [
    "CV_MODEL = 'faster_rcnn_resnet101_lowproposals_coco_2018_01_28'\n",
    "saver = tf.train.import_meta_graph(os.path.join(MODEL_PATH, CV_MODEL, 'model.ckpt.meta'))\n",
    "saver.restore(sess, tf.train.latest_checkpoint(os.path.join(MODEL_PATH, CV_MODEL)))"
   ]
  },
  {
   "cell_type": "code",
   "execution_count": 5,
   "metadata": {},
   "outputs": [],
   "source": [
    "input_nodes = [v for v in tf.get_default_graph().as_graph_def().node\n",
    "               if \"Placeholder\" in v.op]\n",
    "output_nodes = [v for v in tf.get_default_graph().as_graph_def().node\n",
    "                if \"detection\" in v.name]"
   ]
  },
  {
   "cell_type": "code",
   "execution_count": 6,
   "metadata": {},
   "outputs": [],
   "source": [
    "graph = tf.get_default_graph()"
   ]
  },
  {
   "cell_type": "code",
   "execution_count": 7,
   "metadata": {},
   "outputs": [],
   "source": [
    "input_tensor = graph.get_tensor_by_name('image_tensor:0')\n",
    "output_tensors = dict(\n",
    "    bboxes = graph.get_tensor_by_name('detection_boxes:0'),\n",
    "    classes = graph.get_tensor_by_name('detection_classes:0'),\n",
    "    n = graph.get_tensor_by_name('num_detections:0'),\n",
    "    scores = graph.get_tensor_by_name('detection_scores:0'),\n",
    ")"
   ]
  },
  {
   "cell_type": "markdown",
   "metadata": {},
   "source": [
    "### Load test video\n",
    "\n",
    "Videos are usually in the `~/videos` directory."
   ]
  },
  {
   "cell_type": "code",
   "execution_count": 8,
   "metadata": {},
   "outputs": [
    {
     "data": {
      "text/plain": [
       "['nacho.mkv',\n",
       " 'scicenplaza_test.mkv',\n",
       " 'cs121lecture1.mp4',\n",
       " 'boazobfuscation.mp4',\n",
       " '4-13-19-3-48pm.mkv',\n",
       " 'testnight.mkv',\n",
       " 'testday.mkv',\n",
       " 'chicken']"
      ]
     },
     "execution_count": 8,
     "metadata": {},
     "output_type": "execute_result"
    }
   ],
   "source": [
    "import cv2\n",
    "VIDEO_PATH = os.path.join(os.environ[\"HOME\"], \"videos\")\n",
    "os.listdir(VIDEO_PATH)"
   ]
  },
  {
   "cell_type": "markdown",
   "metadata": {},
   "source": [
    "## Processing Entire Video\n",
    "\n",
    "Now we process entire video and add the bboxes, scores, classes to a list."
   ]
  },
  {
   "cell_type": "code",
   "execution_count": 9,
   "metadata": {},
   "outputs": [],
   "source": [
    "def pred_from_frame(frames):\n",
    "    \"\"\"Takes a list of frames and runs it through our prediction\"\"\"\n",
    "    frame = np.stack(frames)\n",
    "    output = sess.run(output_tensors, \n",
    "         feed_dict={input_tensor: frame})\n",
    "    bboxes, score, classes = output['bboxes'], output['scores'], output['classes']\n",
    "    return bboxes, score, classes"
   ]
  },
  {
   "cell_type": "code",
   "execution_count": 10,
   "metadata": {},
   "outputs": [],
   "source": [
    "import time\n",
    "import tqdm\n",
    "def process_video(video_path, batch_size=32, num_batches=100):\n",
    "    cap = cv2.VideoCapture(video_path)\n",
    "    all_scores, all_classes, all_bboxes = [], [], []\n",
    "    start_time = time.time()\n",
    "    video_running = True\n",
    "    for _ in tqdm.tqdm(range(num_batches)):\n",
    "        frames = []\n",
    "        for _ in range(batch_size):\n",
    "            ret, frame = cap.read()\n",
    "            if not ret:\n",
    "                print(\"Video finished\")\n",
    "                video_running = False\n",
    "                break\n",
    "            frames.append(frame)\n",
    "        bboxes, scores, classes = pred_from_frame(frames)\n",
    "        all_scores.append(scores)\n",
    "        all_bboxes.append(bboxes)\n",
    "        all_classes.append(classes)\n",
    "\n",
    "        if not video_running:\n",
    "            break\n",
    "            \n",
    "    print(\"Total time: {} seconds\".format(int(time.time() - start_time)))\n",
    "    full_bboxes = np.row_stack(all_bboxes)\n",
    "    full_scores = np.row_stack(all_scores)\n",
    "    full_classes = np.row_stack(all_classes)\n",
    "    return full_bboxes, full_scores, full_classes"
   ]
  },
  {
   "cell_type": "code",
   "execution_count": 11,
   "metadata": {},
   "outputs": [],
   "source": [
    "VIDEO_NIGHT = os.path.join(VIDEO_PATH, 'testnight.mkv')\n",
    "VIDEO_DAY = os.path.join(VIDEO_PATH, 'testday.mkv')"
   ]
  },
  {
   "cell_type": "code",
   "execution_count": 12,
   "metadata": {},
   "outputs": [],
   "source": [
    "import numpy as np\n",
    "from pathlib import Path\n",
    "\n",
    "def make_predictions(videoname):\n",
    "    video = os.path.join(VIDEO_PATH, videoname)\n",
    "    BATCH_SIZE = 32\n",
    "    NUM_BATCHES = 250\n",
    "    start_time = time.time()\n",
    "    bboxes, scores, classes = process_video(\n",
    "        video, batch_size=BATCH_SIZE, num_batches=NUM_BATCHES)\n",
    "    end_time = time.time()\n",
    "    elapsed_time = np.array([end_time - start_time]) / BATCH_SIZE / NUM_BATCHES\n",
    "    \n",
    "    # saving everything\n",
    "    filename = '{}-{}'.format(os.path.splitext(videoname)[0], CV_MODEL)\n",
    "    np.savez(filename, bboxes=bboxes, scores=scores, classes=classes,\n",
    "             inftime=elapsed_time)"
   ]
  },
  {
   "cell_type": "code",
   "execution_count": 13,
   "metadata": {},
   "outputs": [
    {
     "name": "stderr",
     "output_type": "stream",
     "text": [
      "100%|██████████| 250/250 [06:06<00:00,  1.44s/it]\n",
      "  0%|          | 0/250 [00:00<?, ?it/s]"
     ]
    },
    {
     "name": "stdout",
     "output_type": "stream",
     "text": [
      "Total time: 366 seconds\n"
     ]
    },
    {
     "name": "stderr",
     "output_type": "stream",
     "text": [
      "100%|██████████| 250/250 [06:02<00:00,  1.45s/it]"
     ]
    },
    {
     "name": "stdout",
     "output_type": "stream",
     "text": [
      "Total time: 362 seconds\n"
     ]
    },
    {
     "name": "stderr",
     "output_type": "stream",
     "text": [
      "\n"
     ]
    }
   ],
   "source": [
    "make_predictions(\"testday.mkv\")\n",
    "make_predictions(\"testnight.mkv\")"
   ]
  },
  {
   "cell_type": "code",
   "execution_count": null,
   "metadata": {},
   "outputs": [],
   "source": []
  }
 ],
 "metadata": {
  "kernelspec": {
   "display_name": "Python 3",
   "language": "python",
   "name": "python3"
  },
  "language_info": {
   "codemirror_mode": {
    "name": "ipython",
    "version": 3
   },
   "file_extension": ".py",
   "mimetype": "text/x-python",
   "name": "python",
   "nbconvert_exporter": "python",
   "pygments_lexer": "ipython3",
   "version": "3.6.7"
  }
 },
 "nbformat": 4,
 "nbformat_minor": 2
}
