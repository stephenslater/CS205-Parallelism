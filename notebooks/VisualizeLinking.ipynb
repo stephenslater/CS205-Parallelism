{
  "nbformat": 4,
  "nbformat_minor": 0,
  "metadata": {
    "colab": {
      "name": "",
      "version": "0.3.2",
      "provenance": [],
      "collapsed_sections": []
    },
    "kernelspec": {
      "name": "python3",
      "display_name": "Python 3"
    }
  },
  "cells": [
    {
      "cell_type": "markdown",
      "metadata": {
        "id": "wX9zLed-kMPz",
        "colab_type": "text"
      },
      "source": [
        "# Link people between successive frames and visualize\n",
        "\n",
        "See example in ParseDev."
      ]
    },
    {
      "cell_type": "code",
      "metadata": {
        "id": "XVlT9QrtkBjw",
        "colab_type": "code",
        "colab": {}
      },
      "source": [
        "def plot_matches(frame_A, frame_B, assignments):\n",
        "    frame_A = np.array(frame_A)\n",
        "    frame_B = np.array(frame_B)\n",
        "    # Plot positions of people in frames A and B\n",
        "    plt.plot(frame_A[:, 0], frame_A[:, 1], 'bo', label='Frame A')\n",
        "    plt.plot(frame_B[:, 0], frame_B[:, 1], 'ro', label='Frame B')\n",
        "    \n",
        "    # Draw lines connecting matches\n",
        "    for p1, p2 in assignments:\n",
        "        xs = [frame_A[p1, 0], frame_B[p2, 0]]\n",
        "        ys = [frame_A[p1, 1], frame_B[p2, 1]]\n",
        "        plt.plot(xs, ys, 'g-')\n",
        "    plt.title('Positions of detected people between two successive frames, A and B')\n",
        "    plt.xlabel('X position')\n",
        "    plt.ylabel('Y position')\n",
        "    plt.legend()\n",
        "    plt.savefig('velocity_example.png')\n",
        "    plt.show()"
      ],
      "execution_count": 0,
      "outputs": []
    }
  ]
}