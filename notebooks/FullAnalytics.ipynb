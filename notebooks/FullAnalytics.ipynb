{
  "nbformat": 4,
  "nbformat_minor": 0,
  "metadata": {
    "colab": {
      "name": "FullAnalytics.ipynb",
      "version": "0.3.2",
      "provenance": [],
      "collapsed_sections": []
    },
    "kernelspec": {
      "name": "python3",
      "display_name": "Python 3"
    }
  },
  "cells": [
    {
      "cell_type": "markdown",
      "metadata": {
        "id": "j9ZMig7m1Cn4",
        "colab_type": "text"
      },
      "source": [
        "# PySpark Analytics for Crowd Dynamics\n",
        "# Harvard University\n",
        "# CS 205, Spring 2019\n",
        "# Group 1"
      ]
    },
    {
      "cell_type": "code",
      "metadata": {
        "id": "VtVHM3oEbixW",
        "colab_type": "code",
        "outputId": "e952fb44-7662-4404-e1fc-7838743b6c20",
        "colab": {
          "base_uri": "https://localhost:8080/",
          "height": 49
        }
      },
      "source": [
        "!pip install pyspark"
      ],
      "execution_count": 1,
      "outputs": [
        {
          "output_type": "stream",
          "text": [
            "Requirement already satisfied: pyspark in /usr/local/lib/python3.6/dist-packages (2.4.2)\n",
            "Requirement already satisfied: py4j==0.10.7 in /usr/local/lib/python3.6/dist-packages (from pyspark) (0.10.7)\n"
          ],
          "name": "stdout"
        }
      ]
    },
    {
      "cell_type": "code",
      "metadata": {
        "id": "dU6MHYtKbnLX",
        "colab_type": "code",
        "outputId": "d829fa91-4ce0-435d-be61-e3d4876a3392",
        "colab": {
          "base_uri": "https://localhost:8080/",
          "height": 33
        }
      },
      "source": [
        "from google.colab import drive\n",
        "import pandas as pd\n",
        "import numpy as np\n",
        "\n",
        "from pyspark import SparkConf, SparkContext\n",
        "from pyspark.sql import SQLContext, SparkSession\n",
        "from pyspark.mllib.linalg import Vectors\n",
        "from pyspark.sql.functions import udf, array, avg, col, size, struct, lag, window, countDistinct, monotonically_increasing_id\n",
        "import pyspark.sql.functions as F\n",
        "from pyspark.sql.types import DoubleType, IntegerType, StringType, ArrayType, LongType, FloatType\n",
        "from pyspark.sql.window import Window\n",
        "import re\n",
        "\n",
        "drive.mount('/content/gdrive', force_remount=True)"
      ],
      "execution_count": 9,
      "outputs": [
        {
          "output_type": "stream",
          "text": [
            "Mounted at /content/gdrive\n"
          ],
          "name": "stdout"
        }
      ]
    },
    {
      "cell_type": "code",
      "metadata": {
        "id": "3iHxYt95bqDW",
        "colab_type": "code",
        "colab": {}
      },
      "source": [
        "spark = SparkSession.builder.getOrCreate()\n",
        "directory = '/content/gdrive/My Drive/CS 205 Project/records/'"
      ],
      "execution_count": 0,
      "outputs": []
    },
    {
      "cell_type": "markdown",
      "metadata": {
        "id": "fmASLabX8UjX",
        "colab_type": "text"
      },
      "source": [
        "# Load data"
      ]
    },
    {
      "cell_type": "code",
      "metadata": {
        "id": "v8BzcE-P-RSQ",
        "colab_type": "code",
        "outputId": "cd77e57e-a5a2-419b-b37a-f2eed9064ae1",
        "colab": {
          "base_uri": "https://localhost:8080/",
          "height": 445
        }
      },
      "source": [
        "df = spark.read.json(directory + '1-min')\n",
        "df.show()"
      ],
      "execution_count": 30,
      "outputs": [
        {
          "output_type": "stream",
          "text": [
            "+--------------------+--------------------+\n",
            "|              bboxes|              scores|\n",
            "+--------------------+--------------------+\n",
            "|[0.59336024522781...|[0.93980032205581...|\n",
            "|[0.62502855062484...|[0.89926099777221...|\n",
            "|[0.72911220788955...|[0.98777532577514...|\n",
            "|[0.78701549768447...|[0.97126829624176...|\n",
            "|[0.48519986867904...|[0.93738293647766...|\n",
            "|[0.67814970016479...|[0.97286134958267...|\n",
            "|[0.57940828800201...|[0.98793494701385...|\n",
            "|[0.71229845285415...|[0.98705601692199...|\n",
            "|[0.34067243337631...|[0.77425789833068...|\n",
            "|[0.78984218835830...|[0.97743964195251...|\n",
            "|[0.39440840482711...|[0.92999798059463...|\n",
            "|[0.60313117504119...|[0.93863993883132...|\n",
            "|[0.82778960466384...|[0.91649687290191...|\n",
            "|[0.51006656885147...|[0.97323024272918...|\n",
            "|[0.56186217069625...|[0.89469927549362...|\n",
            "|[0.67285186052322...|[0.97309362888336...|\n",
            "|[0.35979881882667...|[0.84619909524917...|\n",
            "|[0.39222764968872...|[0.71783727407455...|\n",
            "|[0.47849225997924...|[0.92085105180740...|\n",
            "|[0.51487535238265...|[0.81251215934753...|\n",
            "+--------------------+--------------------+\n",
            "only showing top 20 rows\n",
            "\n"
          ],
          "name": "stdout"
        }
      ]
    },
    {
      "cell_type": "markdown",
      "metadata": {
        "id": "xL46J7P0u1tx",
        "colab_type": "text"
      },
      "source": [
        "# Add Frame Index (Timestep) and Display Schema"
      ]
    },
    {
      "cell_type": "code",
      "metadata": {
        "id": "icllunSMu1Tp",
        "colab_type": "code",
        "colab": {
          "base_uri": "https://localhost:8080/",
          "height": 445
        },
        "outputId": "82db7773-82f6-4350-9c3a-70a3acd0821d"
      },
      "source": [
        "df = df.withColumn(\"frame\", monotonically_increasing_id().cast(\"timestamp\")).select(\"frame\", \"bboxes\", \"scores\")\n",
        "df.show()"
      ],
      "execution_count": 31,
      "outputs": [
        {
          "output_type": "stream",
          "text": [
            "+-------------------+--------------------+--------------------+\n",
            "|              frame|              bboxes|              scores|\n",
            "+-------------------+--------------------+--------------------+\n",
            "|1970-01-01 00:00:00|[0.59336024522781...|[0.93980032205581...|\n",
            "|1970-01-01 00:00:01|[0.62502855062484...|[0.89926099777221...|\n",
            "|1970-01-01 00:00:02|[0.72911220788955...|[0.98777532577514...|\n",
            "|1970-01-01 00:00:03|[0.78701549768447...|[0.97126829624176...|\n",
            "|1970-01-01 00:00:04|[0.48519986867904...|[0.93738293647766...|\n",
            "|1970-01-01 00:00:05|[0.67814970016479...|[0.97286134958267...|\n",
            "|1970-01-01 00:00:06|[0.57940828800201...|[0.98793494701385...|\n",
            "|1970-01-01 00:00:07|[0.71229845285415...|[0.98705601692199...|\n",
            "|1970-01-01 00:00:08|[0.34067243337631...|[0.77425789833068...|\n",
            "|1970-01-01 00:00:09|[0.78984218835830...|[0.97743964195251...|\n",
            "|1970-01-01 00:00:10|[0.39440840482711...|[0.92999798059463...|\n",
            "|1970-01-01 00:00:11|[0.60313117504119...|[0.93863993883132...|\n",
            "|1970-01-01 00:00:12|[0.82778960466384...|[0.91649687290191...|\n",
            "|1970-01-01 00:00:13|[0.51006656885147...|[0.97323024272918...|\n",
            "|1970-01-01 00:00:14|[0.56186217069625...|[0.89469927549362...|\n",
            "|1970-01-01 00:00:15|[0.67285186052322...|[0.97309362888336...|\n",
            "|1970-01-01 00:00:16|[0.35979881882667...|[0.84619909524917...|\n",
            "|1970-01-01 00:00:17|[0.39222764968872...|[0.71783727407455...|\n",
            "|1970-01-01 00:00:18|[0.47849225997924...|[0.92085105180740...|\n",
            "|1970-01-01 00:00:19|[0.51487535238265...|[0.81251215934753...|\n",
            "+-------------------+--------------------+--------------------+\n",
            "only showing top 20 rows\n",
            "\n"
          ],
          "name": "stdout"
        }
      ]
    },
    {
      "cell_type": "code",
      "metadata": {
        "id": "thMWSpX2xCe2",
        "colab_type": "code",
        "colab": {
          "base_uri": "https://localhost:8080/",
          "height": 132
        },
        "outputId": "1e43c9d4-b77a-4485-94f4-cb9c65c96976"
      },
      "source": [
        "df.printSchema()"
      ],
      "execution_count": 32,
      "outputs": [
        {
          "output_type": "stream",
          "text": [
            "root\n",
            " |-- frame: timestamp (nullable = false)\n",
            " |-- bboxes: array (nullable = true)\n",
            " |    |-- element: double (containsNull = true)\n",
            " |-- scores: array (nullable = true)\n",
            " |    |-- element: double (containsNull = true)\n",
            "\n"
          ],
          "name": "stdout"
        }
      ]
    },
    {
      "cell_type": "markdown",
      "metadata": {
        "id": "R9IEO0298Z3C",
        "colab_type": "text"
      },
      "source": [
        "# Functions used for UDFs (including velocity and group size)"
      ]
    },
    {
      "cell_type": "code",
      "metadata": {
        "id": "2exW6frCbtP7",
        "colab_type": "code",
        "colab": {}
      },
      "source": [
        "def count(column):\n",
        "    return len(column)\n",
        "  \n",
        "def sum_vals(column):\n",
        "    return float(sum(column))\n",
        "  \n",
        "def avg_vals(columns):\n",
        "    return float(columns[0] / columns[1])\n",
        "  \n",
        "def get_center(values):\n",
        "    res = []\n",
        "    for i in range(int(len(values)/4)):\n",
        "        y1, x1, y2, x2 = values[4*i:4*i+4]\n",
        "        x_mean, y_mean = round(float(x1+x2)/2, 3), round(float(y1+y2)/2, 3)\n",
        "        res.extend([x_mean, y_mean])\n",
        "    return res"
      ],
      "execution_count": 0,
      "outputs": []
    },
    {
      "cell_type": "code",
      "metadata": {
        "id": "JwRM-h2B6jzE",
        "colab_type": "code",
        "colab": {}
      },
      "source": [
        "def compute_velocities(cols, fps=0.7, threshold=0.3):\n",
        "    # Assume frame_1 = [x_i, y_i, x_{i+1}, y_{i+1}, ...]\n",
        "    f_1 = iter(cols[0])\n",
        "    f_2 = iter(cols[1])\n",
        "    frame_1 = list(zip(f_1, f_1))\n",
        "    frame_2 = list(zip(f_2, f_2))\n",
        "    \n",
        "    val_1 = {k: v for k, v in enumerate(frame_1)}\n",
        "    val_2 = {k: v for k, v in enumerate(frame_2)}\n",
        "\n",
        "    # Compute pairwise distances\n",
        "    distances = {}\n",
        "    for i in range(len(frame_1)):\n",
        "        for j in range(len(frame_2)):\n",
        "            # Euclidean distance between two people\n",
        "            distances[i, j] = np.sqrt(\n",
        "                (val_1[i][0] - val_2[j][0]) ** 2 + (val_1[i][1] - val_2[j][1]) ** 2)\n",
        "\n",
        "    # Assigned ids from frame 1 (reference frame), {id_i: vel_i}\n",
        "    velocities = dict()\n",
        "\n",
        "    # Assigned ids from frame 2 (with values as match in frame 1)\n",
        "    targets = dict()\n",
        "    num_assigned = 0\n",
        "    num_ids = min(len(frame_1), len(frame_2))\n",
        "\n",
        "    # Sort distances by key: (id in frame 1, id in frame 2)\n",
        "    pairs = sorted(distances.items(), key=lambda v:v[1])\n",
        "    for p, dist in pairs:\n",
        "        # Stop assigning ids when the distance exceeds a user-defined threshold\n",
        "        # i.e. this covers the case when a person leaves one end of the image\n",
        "        # and another person enters at the opposite side. We should not match\n",
        "        # these ids to each other.\n",
        "        if dist > threshold:\n",
        "            break\n",
        "\n",
        "        # Found closest ids between frames\n",
        "        if p[0] not in velocities and p[1] not in targets and num_assigned < num_ids:\n",
        "            num_assigned += 1\n",
        "            # Velocity (distance units per second)\n",
        "            velocities[p[0]] = dist * fps\n",
        "            targets[p[1]] = p[0]\n",
        "\n",
        "            \n",
        "    return [float(v) for v in velocities.values()]\n",
        "\n",
        "  \n",
        "def dfs_all(graph):\n",
        "    def dfs(node, graph):\n",
        "        stack = [node]\n",
        "        cc = [node]\n",
        "        while stack:\n",
        "            u = stack.pop()\n",
        "            for v in graph[u]:\n",
        "                if not visited[v]:\n",
        "                    visited[v] = True\n",
        "                    cc.append(v)\n",
        "                    stack.append(v)\n",
        "        return cc\n",
        "\n",
        "    ccs = []\n",
        "    visited = [False for _ in range(len(graph))]\n",
        "    for i in range(len(graph)):\n",
        "        if not visited[i]:\n",
        "            visited[i] = True\n",
        "            cc = dfs(i, graph)\n",
        "            ccs.append(cc)\n",
        "    return list(map(len, ccs))\n",
        "\n",
        "  \n",
        "def compute_groups(positions, threshold=0.1):\n",
        "    p_1 = iter(positions)\n",
        "    positions = list(zip(p_1, p_1))\n",
        "                   \n",
        "    # Compute pairwise distances\n",
        "    graph = {i: set() for i in range(len(positions))}\n",
        "    for i in range(len(positions)):\n",
        "        for j in range(i, len(positions)):\n",
        "            # Euclidean distance between two people\n",
        "            dist = np.sqrt(\n",
        "                (positions[i][0] - positions[j][0]) ** 2 + (positions[i][1] - positions[j][1]) ** 2)\n",
        "            # Add edge to graph \n",
        "            if dist < threshold:\n",
        "                graph[i].add(j)\n",
        "                graph[j].add(i)\n",
        "    lengths = dfs_all(graph)           \n",
        "    return lengths"
      ],
      "execution_count": 0,
      "outputs": []
    },
    {
      "cell_type": "markdown",
      "metadata": {
        "id": "8YzPdjAQ8YIN",
        "colab_type": "text"
      },
      "source": [
        "# UDFs"
      ]
    },
    {
      "cell_type": "code",
      "metadata": {
        "id": "DS2CsxSUggwh",
        "colab_type": "code",
        "colab": {}
      },
      "source": [
        "count_udf = udf(count, IntegerType())\n",
        "sum_udf = udf(sum_vals, DoubleType())\n",
        "avg_udf = udf(lambda arr: avg_vals(arr), DoubleType())\n",
        "center_udf = udf(get_center, ArrayType(FloatType()))\n",
        "velocity_udf = udf(lambda arr: compute_velocities(arr), ArrayType(DoubleType()))\n",
        "group_udf = udf(compute_groups, ArrayType(IntegerType()))"
      ],
      "execution_count": 0,
      "outputs": []
    },
    {
      "cell_type": "markdown",
      "metadata": {
        "id": "YRJEGj8dWHac",
        "colab_type": "text"
      },
      "source": [
        "# Window size for pairwise shifting"
      ]
    },
    {
      "cell_type": "code",
      "metadata": {
        "id": "czV9xoexWKka",
        "colab_type": "code",
        "colab": {}
      },
      "source": [
        "w_pair = Window().partitionBy().orderBy(col(\"frame\"))"
      ],
      "execution_count": 0,
      "outputs": []
    },
    {
      "cell_type": "markdown",
      "metadata": {
        "id": "A88Tq50vWEJY",
        "colab_type": "text"
      },
      "source": [
        "# Create and Modify Columns"
      ]
    },
    {
      "cell_type": "code",
      "metadata": {
        "id": "mW5QnXx-clQW",
        "colab_type": "code",
        "outputId": "cd42d744-4f29-424b-f700-7dd9f5cfc0ff",
        "colab": {
          "base_uri": "https://localhost:8080/",
          "height": 465
        }
      },
      "source": [
        "df = (df.withColumn('num_people', count_udf('scores'))\n",
        "        .withColumn('centers', center_udf('bboxes'))\n",
        "        .withColumn('group_sizes', group_udf('centers'))\n",
        "        .withColumn('num_groups', count_udf('group_sizes'))\n",
        "        .withColumn('next_frame_centers', lag(\"centers\", -1).over(w_pair)).na.drop()\n",
        "        .withColumn('velocities', velocity_udf(struct('centers', 'next_frame_centers')))\n",
        "        .withColumn('num_velocities', count_udf('velocities'))\n",
        "        .withColumn('sum_velocities', sum_udf('velocities')))\n",
        "df.show()"
      ],
      "execution_count": 55,
      "outputs": [
        {
          "output_type": "stream",
          "text": [
            "+-------------------+--------------------+--------------------+----------+--------------------+------------------+----------+--------------------+--------------------+--------------+-------------------+\n",
            "|              frame|              bboxes|              scores|num_people|             centers|       group_sizes|num_groups|  next_frame_centers|          velocities|num_velocities|     sum_velocities|\n",
            "+-------------------+--------------------+--------------------+----------+--------------------+------------------+----------+--------------------+--------------------+--------------+-------------------+\n",
            "|1970-01-01 00:00:00|[0.59336024522781...|[0.93980032205581...|         9|[0.543, 0.636, 0....|         [3, 3, 3]|         3|[0.512, 0.674, 0....|[0.00773177782449...|             8|0.24668608255553603|\n",
            "|1970-01-01 00:00:01|[0.62502855062484...|[0.89926099777221...|        11|[0.512, 0.674, 0....|[1, 4, 1, 3, 1, 1]|         6|[0.393, 0.787, 0....|[0.02815707300243...|             9| 0.7733711467744928|\n",
            "|1970-01-01 00:00:02|[0.72911220788955...|[0.98777532577514...|         9|[0.393, 0.787, 0....|      [1, 3, 2, 3]|         4|[0.349, 0.846, 0....|[0.00209997296333...|             8| 0.2665096770443216|\n",
            "|1970-01-01 00:00:03|[0.78701549768447...|[0.97126829624176...|         9|[0.349, 0.846, 0....|   [1, 2, 3, 2, 1]|         5|[0.368, 0.525, 0....|[0.01320758929416...|             7|0.43268791563231956|\n",
            "|1970-01-01 00:00:04|[0.48519986867904...|[0.93738293647766...|         9|[0.368, 0.525, 0....|[1, 1, 1, 1, 3, 2]|         6|[0.461, 0.73, 0.4...|[0.00313050151262...|             7|0.18394333788672113|\n",
            "|1970-01-01 00:00:05|[0.67814970016479...|[0.97286134958267...|         8|[0.461, 0.73, 0.4...|   [1, 2, 3, 1, 1]|         5|[0.483, 0.627, 0....|[0.01496429041473...|             6| 0.3831855062206368|\n",
            "|1970-01-01 00:00:06|[0.57940828800201...|[0.98793494701385...|         8|[0.483, 0.627, 0....|   [1, 3, 2, 1, 1]|         5|[0.444, 0.774, 0....|[0.02523886726005...|             6|   0.47139411714587|\n",
            "|1970-01-01 00:00:07|[0.71229845285415...|[0.98705601692199...|         6|[0.444, 0.774, 0....|      [2, 2, 1, 1]|         4|[0.439, 0.367, 0....|[0.01733116906757...|             5|0.42399722043804067|\n",
            "|1970-01-01 00:00:08|[0.34067243337631...|[0.77425789833068...|         7|[0.439, 0.367, 0....|      [4, 1, 1, 1]|         4|[0.339, 0.858, 0....|[0.01535218732297...|             3|0.10157631659425287|\n",
            "|1970-01-01 00:00:09|[0.78984218835830...|[0.97743964195251...|         6|[0.339, 0.858, 0....|   [2, 1, 1, 1, 1]|         5|[0.273, 0.421, 0....|[0.02376912578718...|             4| 0.4387003908962337|\n",
            "|1970-01-01 00:00:10|[0.39440840482711...|[0.92999798059463...|         7|[0.273, 0.421, 0....|      [2, 1, 3, 1]|         4|[0.551, 0.646, 0....|[0.03292978838893...|             6| 0.5912999119047839|\n",
            "|1970-01-01 00:00:11|[0.60313117504119...|[0.93863993883132...|         6|[0.551, 0.646, 0....|      [1, 2, 2, 1]|         4|[0.597, 0.895, 0....|[0.03150776744072...|             6| 0.5463189821158994|\n",
            "|1970-01-01 00:00:12|[0.82778960466384...|[0.91649687290191...|         6|[0.597, 0.895, 0....|      [1, 3, 1, 1]|         4|[0.267, 0.551, 0....|[0.01208387930835...|             4|0.14129437485501473|\n",
            "|1970-01-01 00:00:13|[0.51006656885147...|[0.97323024272918...|         7|[0.267, 0.551, 0....|      [1, 1, 4, 1]|         4|[0.589, 0.615, 0....|[0.01502963043846...|             5|0.24212322146467408|\n",
            "|1970-01-01 00:00:14|[0.56186217069625...|[0.89469927549362...|        13|[0.589, 0.615, 0....|   [3, 6, 2, 1, 1]|         5|[0.472, 0.737, 0....|[0.02058761644614...|            12|  0.876420522980327|\n",
            "|1970-01-01 00:00:15|[0.67285186052322...|[0.97309362888336...|        12|[0.472, 0.737, 0....|   [2, 1, 4, 2, 3]|         5|[0.471, 0.393, 0....|[0.01302076447386...|             5| 0.2813737203686809|\n",
            "|1970-01-01 00:00:16|[0.35979881882667...|[0.84619909524917...|         5|[0.471, 0.393, 0....|            [3, 2]|         2|[0.495, 0.418, 0....|[0.00490002036094...|             5|0.21344222163878537|\n",
            "|1970-01-01 00:00:17|[0.39222764968872...|[0.71783727407455...|         5|[0.495, 0.418, 0....|            [3, 2]|         2|[0.61, 0.515, 0.7...|[0.04603532477741...|             5|0.43764212876315445|\n",
            "|1970-01-01 00:00:18|[0.47849225997924...|[0.92085105180740...|         6|[0.61, 0.515, 0.7...|      [2, 2, 1, 1]|         4|[0.622, 0.553, 0....|[0.02605091263404...|             4|0.29058343824546573|\n",
            "|1970-01-01 00:00:19|[0.51487535238265...|[0.81251215934753...|         4|[0.622, 0.553, 0....|      [1, 1, 1, 1]|         4|[0.576, 0.402, 0....|[0.04135334947545...|             4| 0.3602413520545201|\n",
            "+-------------------+--------------------+--------------------+----------+--------------------+------------------+----------+--------------------+--------------------+--------------+-------------------+\n",
            "only showing top 20 rows\n",
            "\n"
          ],
          "name": "stdout"
        }
      ]
    },
    {
      "cell_type": "markdown",
      "metadata": {
        "id": "bKvkxJXdnTml",
        "colab_type": "text"
      },
      "source": [
        "# Aggregate each 5 minute window to compute:\n",
        "- average number of people detected\n",
        "- average group size\n",
        "- average velocity"
      ]
    },
    {
      "cell_type": "code",
      "metadata": {
        "id": "41j9407Kf92N",
        "colab_type": "code",
        "colab": {}
      },
      "source": [
        "# 0.7 frames/second => 210 frames for 300 seconds (5 minutes)\n",
        "agg_df = (df.groupBy(window(\"frame\", windowDuration=\"3 seconds\", slideDuration=\"3 seconds\"))\n",
        "            .agg(F.sum('num_people'), F.sum('num_groups'), F.sum('sum_velocities'), F.sum('num_velocities'), avg('num_people'))\n",
        "            .withColumn('avg_group_size', avg_udf(struct('sum(num_people)', 'sum(num_groups)'))).withColumn('avg_velocity', avg_udf(struct('sum(sum_velocities)', 'sum(num_velocities)')))\n",
        "            .withColumnRenamed('avg(num_people)', 'avg_num_people'))\n",
        "      "
      ],
      "execution_count": 0,
      "outputs": []
    },
    {
      "cell_type": "code",
      "metadata": {
        "id": "AgoVmE0Uz8jg",
        "colab_type": "code",
        "colab": {
          "base_uri": "https://localhost:8080/",
          "height": 346
        },
        "outputId": "6c6e1098-8ed7-4b02-e668-307e8d91dcee"
      },
      "source": [
        "agg_df.show()"
      ],
      "execution_count": 78,
      "outputs": [
        {
          "output_type": "stream",
          "text": [
            "+--------------------+---------------+---------------+-------------------+-------------------+-----------------+------------------+--------------------+\n",
            "|              window|sum(num_people)|sum(num_groups)|sum(sum_velocities)|sum(num_velocities)|   avg_num_people|    avg_group_size|        avg_velocity|\n",
            "+--------------------+---------------+---------------+-------------------+-------------------+-----------------+------------------+--------------------+\n",
            "|[2242-03-16 12:56...|             16|             10| 0.9262603911961054|                 11|5.333333333333333|               1.6| 0.08420549010873685|\n",
            "|[1970-01-01 00:00...|             22|              9| 0.9324580707706207|                 15|7.333333333333333|2.4444444444444446|0.062163871384708046|\n",
            "|[1970-01-01 00:00...|             19|             13|  1.576319284916917|                 16|6.333333333333333|1.4615384615384615| 0.09851995530730731|\n",
            "|[1970-01-01 00:00...|             27|             12| 1.7254376403353469|                 20|              9.0|              2.25| 0.08627188201676735|\n",
            "|[2242-03-16 12:56...|              4|              4|0.15277989381972756|                  2|              4.0|               1.0| 0.07638994690986378|\n",
            "|[1970-01-01 00:00...|             26|             16| 0.9998167597396774|                 20|8.666666666666666|             1.625| 0.04999083798698387|\n",
            "|[2242-03-16 12:56...|             12|              7| 0.9111395437744143|                 12|              4.0|1.7142857142857142| 0.07592829531453453|\n",
            "|[1970-01-01 00:00...|             20|             11| 1.4957067080830173|                 17|6.666666666666667|1.8181818181818181| 0.08798274753429514|\n",
            "|[1970-01-01 00:00...|             29|             13| 1.2865669063743503|                 25|9.666666666666666| 2.230769230769231| 0.05146267625497401|\n",
            "|[2242-03-16 12:56...|             21|             14| 1.4292492826488286|                 17|              7.0|               1.5| 0.08407348721463698|\n",
            "|[1970-01-01 00:00...|             26|             13| 1.2598381193000159|                 21|8.666666666666666|               2.0| 0.05999229139523885|\n",
            "|[2242-03-16 12:56...|              7|              3| 0.5972176776779013|                  6|              7.0|2.3333333333333335| 0.09953627961298356|\n",
            "|[1970-01-01 00:00...|              8|              3| 0.5262929924332954|                  6|              8.0|2.6666666666666665| 0.08771549873888257|\n",
            "|[2242-03-16 12:56...|             18|             11| 1.7660193385045235|                 14|              6.0|1.6363636363636365| 0.12614423846460882|\n",
            "|[1970-01-01 00:00...|             21|             13| 0.9969676541781636|                 14|              7.0|1.6153846153846154| 0.07121197529844026|\n",
            "+--------------------+---------------+---------------+-------------------+-------------------+-----------------+------------------+--------------------+\n",
            "\n"
          ],
          "name": "stdout"
        }
      ]
    },
    {
      "cell_type": "code",
      "metadata": {
        "id": "Ooj4MwGl4fgT",
        "colab_type": "code",
        "colab": {}
      },
      "source": [
        "pdf = agg_df.orderBy(\"window\").toPandas()"
      ],
      "execution_count": 0,
      "outputs": []
    },
    {
      "cell_type": "code",
      "metadata": {
        "id": "fTTlmoT342Q-",
        "colab_type": "code",
        "colab": {
          "base_uri": "https://localhost:8080/",
          "height": 474
        },
        "outputId": "b955355e-0701-46e1-93b7-749596589bbe"
      },
      "source": [
        "pdf"
      ],
      "execution_count": 80,
      "outputs": [
        {
          "output_type": "execute_result",
          "data": {
            "text/html": [
              "<div>\n",
              "<style scoped>\n",
              "    .dataframe tbody tr th:only-of-type {\n",
              "        vertical-align: middle;\n",
              "    }\n",
              "\n",
              "    .dataframe tbody tr th {\n",
              "        vertical-align: top;\n",
              "    }\n",
              "\n",
              "    .dataframe thead th {\n",
              "        text-align: right;\n",
              "    }\n",
              "</style>\n",
              "<table border=\"1\" class=\"dataframe\">\n",
              "  <thead>\n",
              "    <tr style=\"text-align: right;\">\n",
              "      <th></th>\n",
              "      <th>window</th>\n",
              "      <th>sum(num_people)</th>\n",
              "      <th>sum(num_groups)</th>\n",
              "      <th>sum(sum_velocities)</th>\n",
              "      <th>sum(num_velocities)</th>\n",
              "      <th>avg_num_people</th>\n",
              "      <th>avg_group_size</th>\n",
              "      <th>avg_velocity</th>\n",
              "    </tr>\n",
              "  </thead>\n",
              "  <tbody>\n",
              "    <tr>\n",
              "      <th>0</th>\n",
              "      <td>(1970-01-01 00:00:00, 1970-01-01 00:00:03)</td>\n",
              "      <td>29</td>\n",
              "      <td>13</td>\n",
              "      <td>1.286567</td>\n",
              "      <td>25</td>\n",
              "      <td>9.666667</td>\n",
              "      <td>2.230769</td>\n",
              "      <td>0.051463</td>\n",
              "    </tr>\n",
              "    <tr>\n",
              "      <th>1</th>\n",
              "      <td>(1970-01-01 00:00:03, 1970-01-01 00:00:06)</td>\n",
              "      <td>26</td>\n",
              "      <td>16</td>\n",
              "      <td>0.999817</td>\n",
              "      <td>20</td>\n",
              "      <td>8.666667</td>\n",
              "      <td>1.625000</td>\n",
              "      <td>0.049991</td>\n",
              "    </tr>\n",
              "    <tr>\n",
              "      <th>2</th>\n",
              "      <td>(1970-01-01 00:00:06, 1970-01-01 00:00:09)</td>\n",
              "      <td>21</td>\n",
              "      <td>13</td>\n",
              "      <td>0.996968</td>\n",
              "      <td>14</td>\n",
              "      <td>7.000000</td>\n",
              "      <td>1.615385</td>\n",
              "      <td>0.071212</td>\n",
              "    </tr>\n",
              "    <tr>\n",
              "      <th>3</th>\n",
              "      <td>(1970-01-01 00:00:09, 1970-01-01 00:00:12)</td>\n",
              "      <td>19</td>\n",
              "      <td>13</td>\n",
              "      <td>1.576319</td>\n",
              "      <td>16</td>\n",
              "      <td>6.333333</td>\n",
              "      <td>1.461538</td>\n",
              "      <td>0.098520</td>\n",
              "    </tr>\n",
              "    <tr>\n",
              "      <th>4</th>\n",
              "      <td>(1970-01-01 00:00:12, 1970-01-01 00:00:15)</td>\n",
              "      <td>26</td>\n",
              "      <td>13</td>\n",
              "      <td>1.259838</td>\n",
              "      <td>21</td>\n",
              "      <td>8.666667</td>\n",
              "      <td>2.000000</td>\n",
              "      <td>0.059992</td>\n",
              "    </tr>\n",
              "    <tr>\n",
              "      <th>5</th>\n",
              "      <td>(1970-01-01 00:00:15, 1970-01-01 00:00:18)</td>\n",
              "      <td>22</td>\n",
              "      <td>9</td>\n",
              "      <td>0.932458</td>\n",
              "      <td>15</td>\n",
              "      <td>7.333333</td>\n",
              "      <td>2.444444</td>\n",
              "      <td>0.062164</td>\n",
              "    </tr>\n",
              "    <tr>\n",
              "      <th>6</th>\n",
              "      <td>(1970-01-01 00:00:18, 1970-01-01 00:00:21)</td>\n",
              "      <td>20</td>\n",
              "      <td>11</td>\n",
              "      <td>1.495707</td>\n",
              "      <td>17</td>\n",
              "      <td>6.666667</td>\n",
              "      <td>1.818182</td>\n",
              "      <td>0.087983</td>\n",
              "    </tr>\n",
              "    <tr>\n",
              "      <th>7</th>\n",
              "      <td>(1970-01-01 00:00:21, 1970-01-01 00:00:24)</td>\n",
              "      <td>27</td>\n",
              "      <td>12</td>\n",
              "      <td>1.725438</td>\n",
              "      <td>20</td>\n",
              "      <td>9.000000</td>\n",
              "      <td>2.250000</td>\n",
              "      <td>0.086272</td>\n",
              "    </tr>\n",
              "    <tr>\n",
              "      <th>8</th>\n",
              "      <td>(1970-01-01 00:00:24, 1970-01-01 00:00:27)</td>\n",
              "      <td>8</td>\n",
              "      <td>3</td>\n",
              "      <td>0.526293</td>\n",
              "      <td>6</td>\n",
              "      <td>8.000000</td>\n",
              "      <td>2.666667</td>\n",
              "      <td>0.087715</td>\n",
              "    </tr>\n",
              "    <tr>\n",
              "      <th>9</th>\n",
              "      <td>(2242-03-16 12:56:30, 2242-03-16 12:56:33)</td>\n",
              "      <td>7</td>\n",
              "      <td>3</td>\n",
              "      <td>0.597218</td>\n",
              "      <td>6</td>\n",
              "      <td>7.000000</td>\n",
              "      <td>2.333333</td>\n",
              "      <td>0.099536</td>\n",
              "    </tr>\n",
              "    <tr>\n",
              "      <th>10</th>\n",
              "      <td>(2242-03-16 12:56:33, 2242-03-16 12:56:36)</td>\n",
              "      <td>21</td>\n",
              "      <td>14</td>\n",
              "      <td>1.429249</td>\n",
              "      <td>17</td>\n",
              "      <td>7.000000</td>\n",
              "      <td>1.500000</td>\n",
              "      <td>0.084073</td>\n",
              "    </tr>\n",
              "    <tr>\n",
              "      <th>11</th>\n",
              "      <td>(2242-03-16 12:56:36, 2242-03-16 12:56:39)</td>\n",
              "      <td>18</td>\n",
              "      <td>11</td>\n",
              "      <td>1.766019</td>\n",
              "      <td>14</td>\n",
              "      <td>6.000000</td>\n",
              "      <td>1.636364</td>\n",
              "      <td>0.126144</td>\n",
              "    </tr>\n",
              "    <tr>\n",
              "      <th>12</th>\n",
              "      <td>(2242-03-16 12:56:39, 2242-03-16 12:56:42)</td>\n",
              "      <td>16</td>\n",
              "      <td>10</td>\n",
              "      <td>0.926260</td>\n",
              "      <td>11</td>\n",
              "      <td>5.333333</td>\n",
              "      <td>1.600000</td>\n",
              "      <td>0.084205</td>\n",
              "    </tr>\n",
              "    <tr>\n",
              "      <th>13</th>\n",
              "      <td>(2242-03-16 12:56:42, 2242-03-16 12:56:45)</td>\n",
              "      <td>12</td>\n",
              "      <td>7</td>\n",
              "      <td>0.911140</td>\n",
              "      <td>12</td>\n",
              "      <td>4.000000</td>\n",
              "      <td>1.714286</td>\n",
              "      <td>0.075928</td>\n",
              "    </tr>\n",
              "    <tr>\n",
              "      <th>14</th>\n",
              "      <td>(2242-03-16 12:56:45, 2242-03-16 12:56:48)</td>\n",
              "      <td>4</td>\n",
              "      <td>4</td>\n",
              "      <td>0.152780</td>\n",
              "      <td>2</td>\n",
              "      <td>4.000000</td>\n",
              "      <td>1.000000</td>\n",
              "      <td>0.076390</td>\n",
              "    </tr>\n",
              "  </tbody>\n",
              "</table>\n",
              "</div>"
            ],
            "text/plain": [
              "                                        window  sum(num_people)  \\\n",
              "0   (1970-01-01 00:00:00, 1970-01-01 00:00:03)               29   \n",
              "1   (1970-01-01 00:00:03, 1970-01-01 00:00:06)               26   \n",
              "2   (1970-01-01 00:00:06, 1970-01-01 00:00:09)               21   \n",
              "3   (1970-01-01 00:00:09, 1970-01-01 00:00:12)               19   \n",
              "4   (1970-01-01 00:00:12, 1970-01-01 00:00:15)               26   \n",
              "5   (1970-01-01 00:00:15, 1970-01-01 00:00:18)               22   \n",
              "6   (1970-01-01 00:00:18, 1970-01-01 00:00:21)               20   \n",
              "7   (1970-01-01 00:00:21, 1970-01-01 00:00:24)               27   \n",
              "8   (1970-01-01 00:00:24, 1970-01-01 00:00:27)                8   \n",
              "9   (2242-03-16 12:56:30, 2242-03-16 12:56:33)                7   \n",
              "10  (2242-03-16 12:56:33, 2242-03-16 12:56:36)               21   \n",
              "11  (2242-03-16 12:56:36, 2242-03-16 12:56:39)               18   \n",
              "12  (2242-03-16 12:56:39, 2242-03-16 12:56:42)               16   \n",
              "13  (2242-03-16 12:56:42, 2242-03-16 12:56:45)               12   \n",
              "14  (2242-03-16 12:56:45, 2242-03-16 12:56:48)                4   \n",
              "\n",
              "    sum(num_groups)  sum(sum_velocities)  sum(num_velocities)  avg_num_people  \\\n",
              "0                13             1.286567                   25        9.666667   \n",
              "1                16             0.999817                   20        8.666667   \n",
              "2                13             0.996968                   14        7.000000   \n",
              "3                13             1.576319                   16        6.333333   \n",
              "4                13             1.259838                   21        8.666667   \n",
              "5                 9             0.932458                   15        7.333333   \n",
              "6                11             1.495707                   17        6.666667   \n",
              "7                12             1.725438                   20        9.000000   \n",
              "8                 3             0.526293                    6        8.000000   \n",
              "9                 3             0.597218                    6        7.000000   \n",
              "10               14             1.429249                   17        7.000000   \n",
              "11               11             1.766019                   14        6.000000   \n",
              "12               10             0.926260                   11        5.333333   \n",
              "13                7             0.911140                   12        4.000000   \n",
              "14                4             0.152780                    2        4.000000   \n",
              "\n",
              "    avg_group_size  avg_velocity  \n",
              "0         2.230769      0.051463  \n",
              "1         1.625000      0.049991  \n",
              "2         1.615385      0.071212  \n",
              "3         1.461538      0.098520  \n",
              "4         2.000000      0.059992  \n",
              "5         2.444444      0.062164  \n",
              "6         1.818182      0.087983  \n",
              "7         2.250000      0.086272  \n",
              "8         2.666667      0.087715  \n",
              "9         2.333333      0.099536  \n",
              "10        1.500000      0.084073  \n",
              "11        1.636364      0.126144  \n",
              "12        1.600000      0.084205  \n",
              "13        1.714286      0.075928  \n",
              "14        1.000000      0.076390  "
            ]
          },
          "metadata": {
            "tags": []
          },
          "execution_count": 80
        }
      ]
    },
    {
      "cell_type": "code",
      "metadata": {
        "id": "3Q83pCXv4AXJ",
        "colab_type": "code",
        "colab": {
          "base_uri": "https://localhost:8080/",
          "height": 597
        },
        "outputId": "ac044d95-1a40-4fae-f55d-b0ee8ff767c7"
      },
      "source": [
        "from pathlib import Path\n",
        "\n",
        "from bokeh.plotting import figure, show, output_notebook\n",
        "from bokeh.models import ColumnDataSource, HoverTool\n",
        "from bokeh.models.widgets import Tabs, Panel\n",
        "\n",
        "output_notebook()\n",
        "pdf.index.name = 'index'\n",
        "\n",
        "colors = ['red', 'blue', 'green']\n",
        "colnames = ['avg_velocity', 'avg_group_size', 'avg_num_people']\n",
        "plot_titles = ['Average Velocities During the Day',\n",
        "               'Average Group Size During the Day',\n",
        "               'Average Number of People During the Day']\n",
        "tab_titles = ['Velocity', 'Group Size', 'Number of People']\n",
        "ylabels = ['Average Velocity (m/s)',\n",
        "           'Average Group size (number of people)',\n",
        "           'Average Number of People']\n",
        "\n",
        "# Create panels for each tab of the visualization\n",
        "panels = []\n",
        "for i in range(len(colors)):\n",
        "    hover = HoverTool()\n",
        "    hover.tooltips = [('Timestamp', '@{}'.format(colnames[i]))]\n",
        "    p = figure(title=plot_titles[i],\n",
        "               plot_height=500, \n",
        "               plot_width=500,\n",
        "               tools=[hover, \"pan,reset,wheel_zoom\"])\n",
        "    p.vbar(x='index', \n",
        "           top=colnames[i],\n",
        "           width=0.9,\n",
        "           color=colors[i],\n",
        "           source=pdf)\n",
        "    p.xaxis.axis_label = \"Time of Day (5 minute windows)\"\n",
        "    p.yaxis.axis_label = ylabels[i]\n",
        "    panels.append(Panel(child=p, title=tab_titles[i]))\n",
        "\n",
        "tabs = Tabs(tabs=panels)\n",
        "show(tabs)\n"
      ],
      "execution_count": 81,
      "outputs": [
        {
          "output_type": "display_data",
          "data": {
            "text/html": [
              "\n",
              "    <div class=\"bk-root\">\n",
              "        <a href=\"https://bokeh.pydata.org\" target=\"_blank\" class=\"bk-logo bk-logo-small bk-logo-notebook\"></a>\n",
              "        <span id=\"2568\">Loading BokehJS ...</span>\n",
              "    </div>"
            ]
          },
          "metadata": {
            "tags": []
          }
        },
        {
          "output_type": "display_data",
          "data": {
            "application/javascript": [
              "\n",
              "(function(root) {\n",
              "  function now() {\n",
              "    return new Date();\n",
              "  }\n",
              "\n",
              "  var force = true;\n",
              "\n",
              "  if (typeof (root._bokeh_onload_callbacks) === \"undefined\" || force === true) {\n",
              "    root._bokeh_onload_callbacks = [];\n",
              "    root._bokeh_is_loading = undefined;\n",
              "  }\n",
              "\n",
              "  var JS_MIME_TYPE = 'application/javascript';\n",
              "  var HTML_MIME_TYPE = 'text/html';\n",
              "  var EXEC_MIME_TYPE = 'application/vnd.bokehjs_exec.v0+json';\n",
              "  var CLASS_NAME = 'output_bokeh rendered_html';\n",
              "\n",
              "  /**\n",
              "   * Render data to the DOM node\n",
              "   */\n",
              "  function render(props, node) {\n",
              "    var script = document.createElement(\"script\");\n",
              "    node.appendChild(script);\n",
              "  }\n",
              "\n",
              "  /**\n",
              "   * Handle when an output is cleared or removed\n",
              "   */\n",
              "  function handleClearOutput(event, handle) {\n",
              "    var cell = handle.cell;\n",
              "\n",
              "    var id = cell.output_area._bokeh_element_id;\n",
              "    var server_id = cell.output_area._bokeh_server_id;\n",
              "    // Clean up Bokeh references\n",
              "    if (id != null && id in Bokeh.index) {\n",
              "      Bokeh.index[id].model.document.clear();\n",
              "      delete Bokeh.index[id];\n",
              "    }\n",
              "\n",
              "    if (server_id !== undefined) {\n",
              "      // Clean up Bokeh references\n",
              "      var cmd = \"from bokeh.io.state import curstate; print(curstate().uuid_to_server['\" + server_id + \"'].get_sessions()[0].document.roots[0]._id)\";\n",
              "      cell.notebook.kernel.execute(cmd, {\n",
              "        iopub: {\n",
              "          output: function(msg) {\n",
              "            var id = msg.content.text.trim();\n",
              "            if (id in Bokeh.index) {\n",
              "              Bokeh.index[id].model.document.clear();\n",
              "              delete Bokeh.index[id];\n",
              "            }\n",
              "          }\n",
              "        }\n",
              "      });\n",
              "      // Destroy server and session\n",
              "      var cmd = \"import bokeh.io.notebook as ion; ion.destroy_server('\" + server_id + \"')\";\n",
              "      cell.notebook.kernel.execute(cmd);\n",
              "    }\n",
              "  }\n",
              "\n",
              "  /**\n",
              "   * Handle when a new output is added\n",
              "   */\n",
              "  function handleAddOutput(event, handle) {\n",
              "    var output_area = handle.output_area;\n",
              "    var output = handle.output;\n",
              "\n",
              "    // limit handleAddOutput to display_data with EXEC_MIME_TYPE content only\n",
              "    if ((output.output_type != \"display_data\") || (!output.data.hasOwnProperty(EXEC_MIME_TYPE))) {\n",
              "      return\n",
              "    }\n",
              "\n",
              "    var toinsert = output_area.element.find(\".\" + CLASS_NAME.split(' ')[0]);\n",
              "\n",
              "    if (output.metadata[EXEC_MIME_TYPE][\"id\"] !== undefined) {\n",
              "      toinsert[toinsert.length - 1].firstChild.textContent = output.data[JS_MIME_TYPE];\n",
              "      // store reference to embed id on output_area\n",
              "      output_area._bokeh_element_id = output.metadata[EXEC_MIME_TYPE][\"id\"];\n",
              "    }\n",
              "    if (output.metadata[EXEC_MIME_TYPE][\"server_id\"] !== undefined) {\n",
              "      var bk_div = document.createElement(\"div\");\n",
              "      bk_div.innerHTML = output.data[HTML_MIME_TYPE];\n",
              "      var script_attrs = bk_div.children[0].attributes;\n",
              "      for (var i = 0; i < script_attrs.length; i++) {\n",
              "        toinsert[toinsert.length - 1].firstChild.setAttribute(script_attrs[i].name, script_attrs[i].value);\n",
              "      }\n",
              "      // store reference to server id on output_area\n",
              "      output_area._bokeh_server_id = output.metadata[EXEC_MIME_TYPE][\"server_id\"];\n",
              "    }\n",
              "  }\n",
              "\n",
              "  function register_renderer(events, OutputArea) {\n",
              "\n",
              "    function append_mime(data, metadata, element) {\n",
              "      // create a DOM node to render to\n",
              "      var toinsert = this.create_output_subarea(\n",
              "        metadata,\n",
              "        CLASS_NAME,\n",
              "        EXEC_MIME_TYPE\n",
              "      );\n",
              "      this.keyboard_manager.register_events(toinsert);\n",
              "      // Render to node\n",
              "      var props = {data: data, metadata: metadata[EXEC_MIME_TYPE]};\n",
              "      render(props, toinsert[toinsert.length - 1]);\n",
              "      element.append(toinsert);\n",
              "      return toinsert\n",
              "    }\n",
              "\n",
              "    /* Handle when an output is cleared or removed */\n",
              "    events.on('clear_output.CodeCell', handleClearOutput);\n",
              "    events.on('delete.Cell', handleClearOutput);\n",
              "\n",
              "    /* Handle when a new output is added */\n",
              "    events.on('output_added.OutputArea', handleAddOutput);\n",
              "\n",
              "    /**\n",
              "     * Register the mime type and append_mime function with output_area\n",
              "     */\n",
              "    OutputArea.prototype.register_mime_type(EXEC_MIME_TYPE, append_mime, {\n",
              "      /* Is output safe? */\n",
              "      safe: true,\n",
              "      /* Index of renderer in `output_area.display_order` */\n",
              "      index: 0\n",
              "    });\n",
              "  }\n",
              "\n",
              "  // register the mime type if in Jupyter Notebook environment and previously unregistered\n",
              "  if (root.Jupyter !== undefined) {\n",
              "    var events = require('base/js/events');\n",
              "    var OutputArea = require('notebook/js/outputarea').OutputArea;\n",
              "\n",
              "    if (OutputArea.prototype.mime_types().indexOf(EXEC_MIME_TYPE) == -1) {\n",
              "      register_renderer(events, OutputArea);\n",
              "    }\n",
              "  }\n",
              "\n",
              "  \n",
              "  if (typeof (root._bokeh_timeout) === \"undefined\" || force === true) {\n",
              "    root._bokeh_timeout = Date.now() + 5000;\n",
              "    root._bokeh_failed_load = false;\n",
              "  }\n",
              "\n",
              "  var NB_LOAD_WARNING = {'data': {'text/html':\n",
              "     \"<div style='background-color: #fdd'>\\n\"+\n",
              "     \"<p>\\n\"+\n",
              "     \"BokehJS does not appear to have successfully loaded. If loading BokehJS from CDN, this \\n\"+\n",
              "     \"may be due to a slow or bad network connection. Possible fixes:\\n\"+\n",
              "     \"</p>\\n\"+\n",
              "     \"<ul>\\n\"+\n",
              "     \"<li>re-rerun `output_notebook()` to attempt to load from CDN again, or</li>\\n\"+\n",
              "     \"<li>use INLINE resources instead, as so:</li>\\n\"+\n",
              "     \"</ul>\\n\"+\n",
              "     \"<code>\\n\"+\n",
              "     \"from bokeh.resources import INLINE\\n\"+\n",
              "     \"output_notebook(resources=INLINE)\\n\"+\n",
              "     \"</code>\\n\"+\n",
              "     \"</div>\"}};\n",
              "\n",
              "  function display_loaded() {\n",
              "    var el = document.getElementById(\"2568\");\n",
              "    if (el != null) {\n",
              "      el.textContent = \"BokehJS is loading...\";\n",
              "    }\n",
              "    if (root.Bokeh !== undefined) {\n",
              "      if (el != null) {\n",
              "        el.textContent = \"BokehJS \" + root.Bokeh.version + \" successfully loaded.\";\n",
              "      }\n",
              "    } else if (Date.now() < root._bokeh_timeout) {\n",
              "      setTimeout(display_loaded, 100)\n",
              "    }\n",
              "  }\n",
              "\n",
              "\n",
              "  function run_callbacks() {\n",
              "    try {\n",
              "      root._bokeh_onload_callbacks.forEach(function(callback) { callback() });\n",
              "    }\n",
              "    finally {\n",
              "      delete root._bokeh_onload_callbacks\n",
              "    }\n",
              "    console.info(\"Bokeh: all callbacks have finished\");\n",
              "  }\n",
              "\n",
              "  function load_libs(js_urls, callback) {\n",
              "    root._bokeh_onload_callbacks.push(callback);\n",
              "    if (root._bokeh_is_loading > 0) {\n",
              "      console.log(\"Bokeh: BokehJS is being loaded, scheduling callback at\", now());\n",
              "      return null;\n",
              "    }\n",
              "    if (js_urls == null || js_urls.length === 0) {\n",
              "      run_callbacks();\n",
              "      return null;\n",
              "    }\n",
              "    console.log(\"Bokeh: BokehJS not loaded, scheduling load and callback at\", now());\n",
              "    root._bokeh_is_loading = js_urls.length;\n",
              "    for (var i = 0; i < js_urls.length; i++) {\n",
              "      var url = js_urls[i];\n",
              "      var s = document.createElement('script');\n",
              "      s.src = url;\n",
              "      s.async = false;\n",
              "      s.onreadystatechange = s.onload = function() {\n",
              "        root._bokeh_is_loading--;\n",
              "        if (root._bokeh_is_loading === 0) {\n",
              "          console.log(\"Bokeh: all BokehJS libraries loaded\");\n",
              "          run_callbacks()\n",
              "        }\n",
              "      };\n",
              "      s.onerror = function() {\n",
              "        console.warn(\"failed to load library \" + url);\n",
              "      };\n",
              "      console.log(\"Bokeh: injecting script tag for BokehJS library: \", url);\n",
              "      document.getElementsByTagName(\"head\")[0].appendChild(s);\n",
              "    }\n",
              "  };var element = document.getElementById(\"2568\");\n",
              "  if (element == null) {\n",
              "    console.log(\"Bokeh: ERROR: autoload.js configured with elementid '2568' but no matching script tag was found. \")\n",
              "    return false;\n",
              "  }\n",
              "\n",
              "  var js_urls = [\"https://cdn.pydata.org/bokeh/release/bokeh-1.0.4.min.js\", \"https://cdn.pydata.org/bokeh/release/bokeh-widgets-1.0.4.min.js\", \"https://cdn.pydata.org/bokeh/release/bokeh-tables-1.0.4.min.js\", \"https://cdn.pydata.org/bokeh/release/bokeh-gl-1.0.4.min.js\"];\n",
              "\n",
              "  var inline_js = [\n",
              "    function(Bokeh) {\n",
              "      Bokeh.set_log_level(\"info\");\n",
              "    },\n",
              "    \n",
              "    function(Bokeh) {\n",
              "      \n",
              "    },\n",
              "    function(Bokeh) {\n",
              "      console.log(\"Bokeh: injecting CSS: https://cdn.pydata.org/bokeh/release/bokeh-1.0.4.min.css\");\n",
              "      Bokeh.embed.inject_css(\"https://cdn.pydata.org/bokeh/release/bokeh-1.0.4.min.css\");\n",
              "      console.log(\"Bokeh: injecting CSS: https://cdn.pydata.org/bokeh/release/bokeh-widgets-1.0.4.min.css\");\n",
              "      Bokeh.embed.inject_css(\"https://cdn.pydata.org/bokeh/release/bokeh-widgets-1.0.4.min.css\");\n",
              "      console.log(\"Bokeh: injecting CSS: https://cdn.pydata.org/bokeh/release/bokeh-tables-1.0.4.min.css\");\n",
              "      Bokeh.embed.inject_css(\"https://cdn.pydata.org/bokeh/release/bokeh-tables-1.0.4.min.css\");\n",
              "    }\n",
              "  ];\n",
              "\n",
              "  function run_inline_js() {\n",
              "    \n",
              "    if ((root.Bokeh !== undefined) || (force === true)) {\n",
              "      for (var i = 0; i < inline_js.length; i++) {\n",
              "        inline_js[i].call(root, root.Bokeh);\n",
              "      }if (force === true) {\n",
              "        display_loaded();\n",
              "      }} else if (Date.now() < root._bokeh_timeout) {\n",
              "      setTimeout(run_inline_js, 100);\n",
              "    } else if (!root._bokeh_failed_load) {\n",
              "      console.log(\"Bokeh: BokehJS failed to load within specified timeout.\");\n",
              "      root._bokeh_failed_load = true;\n",
              "    } else if (force !== true) {\n",
              "      var cell = $(document.getElementById(\"2568\")).parents('.cell').data().cell;\n",
              "      cell.output_area.append_execute_result(NB_LOAD_WARNING)\n",
              "    }\n",
              "\n",
              "  }\n",
              "\n",
              "  if (root._bokeh_is_loading === 0) {\n",
              "    console.log(\"Bokeh: BokehJS loaded, going straight to plotting\");\n",
              "    run_inline_js();\n",
              "  } else {\n",
              "    load_libs(js_urls, function() {\n",
              "      console.log(\"Bokeh: BokehJS plotting callback run at\", now());\n",
              "      run_inline_js();\n",
              "    });\n",
              "  }\n",
              "}(window));"
            ],
            "application/vnd.bokehjs_load.v0+json": "\n(function(root) {\n  function now() {\n    return new Date();\n  }\n\n  var force = true;\n\n  if (typeof (root._bokeh_onload_callbacks) === \"undefined\" || force === true) {\n    root._bokeh_onload_callbacks = [];\n    root._bokeh_is_loading = undefined;\n  }\n\n  \n\n  \n  if (typeof (root._bokeh_timeout) === \"undefined\" || force === true) {\n    root._bokeh_timeout = Date.now() + 5000;\n    root._bokeh_failed_load = false;\n  }\n\n  var NB_LOAD_WARNING = {'data': {'text/html':\n     \"<div style='background-color: #fdd'>\\n\"+\n     \"<p>\\n\"+\n     \"BokehJS does not appear to have successfully loaded. If loading BokehJS from CDN, this \\n\"+\n     \"may be due to a slow or bad network connection. Possible fixes:\\n\"+\n     \"</p>\\n\"+\n     \"<ul>\\n\"+\n     \"<li>re-rerun `output_notebook()` to attempt to load from CDN again, or</li>\\n\"+\n     \"<li>use INLINE resources instead, as so:</li>\\n\"+\n     \"</ul>\\n\"+\n     \"<code>\\n\"+\n     \"from bokeh.resources import INLINE\\n\"+\n     \"output_notebook(resources=INLINE)\\n\"+\n     \"</code>\\n\"+\n     \"</div>\"}};\n\n  function display_loaded() {\n    var el = document.getElementById(\"2568\");\n    if (el != null) {\n      el.textContent = \"BokehJS is loading...\";\n    }\n    if (root.Bokeh !== undefined) {\n      if (el != null) {\n        el.textContent = \"BokehJS \" + root.Bokeh.version + \" successfully loaded.\";\n      }\n    } else if (Date.now() < root._bokeh_timeout) {\n      setTimeout(display_loaded, 100)\n    }\n  }\n\n\n  function run_callbacks() {\n    try {\n      root._bokeh_onload_callbacks.forEach(function(callback) { callback() });\n    }\n    finally {\n      delete root._bokeh_onload_callbacks\n    }\n    console.info(\"Bokeh: all callbacks have finished\");\n  }\n\n  function load_libs(js_urls, callback) {\n    root._bokeh_onload_callbacks.push(callback);\n    if (root._bokeh_is_loading > 0) {\n      console.log(\"Bokeh: BokehJS is being loaded, scheduling callback at\", now());\n      return null;\n    }\n    if (js_urls == null || js_urls.length === 0) {\n      run_callbacks();\n      return null;\n    }\n    console.log(\"Bokeh: BokehJS not loaded, scheduling load and callback at\", now());\n    root._bokeh_is_loading = js_urls.length;\n    for (var i = 0; i < js_urls.length; i++) {\n      var url = js_urls[i];\n      var s = document.createElement('script');\n      s.src = url;\n      s.async = false;\n      s.onreadystatechange = s.onload = function() {\n        root._bokeh_is_loading--;\n        if (root._bokeh_is_loading === 0) {\n          console.log(\"Bokeh: all BokehJS libraries loaded\");\n          run_callbacks()\n        }\n      };\n      s.onerror = function() {\n        console.warn(\"failed to load library \" + url);\n      };\n      console.log(\"Bokeh: injecting script tag for BokehJS library: \", url);\n      document.getElementsByTagName(\"head\")[0].appendChild(s);\n    }\n  };var element = document.getElementById(\"2568\");\n  if (element == null) {\n    console.log(\"Bokeh: ERROR: autoload.js configured with elementid '2568' but no matching script tag was found. \")\n    return false;\n  }\n\n  var js_urls = [\"https://cdn.pydata.org/bokeh/release/bokeh-1.0.4.min.js\", \"https://cdn.pydata.org/bokeh/release/bokeh-widgets-1.0.4.min.js\", \"https://cdn.pydata.org/bokeh/release/bokeh-tables-1.0.4.min.js\", \"https://cdn.pydata.org/bokeh/release/bokeh-gl-1.0.4.min.js\"];\n\n  var inline_js = [\n    function(Bokeh) {\n      Bokeh.set_log_level(\"info\");\n    },\n    \n    function(Bokeh) {\n      \n    },\n    function(Bokeh) {\n      console.log(\"Bokeh: injecting CSS: https://cdn.pydata.org/bokeh/release/bokeh-1.0.4.min.css\");\n      Bokeh.embed.inject_css(\"https://cdn.pydata.org/bokeh/release/bokeh-1.0.4.min.css\");\n      console.log(\"Bokeh: injecting CSS: https://cdn.pydata.org/bokeh/release/bokeh-widgets-1.0.4.min.css\");\n      Bokeh.embed.inject_css(\"https://cdn.pydata.org/bokeh/release/bokeh-widgets-1.0.4.min.css\");\n      console.log(\"Bokeh: injecting CSS: https://cdn.pydata.org/bokeh/release/bokeh-tables-1.0.4.min.css\");\n      Bokeh.embed.inject_css(\"https://cdn.pydata.org/bokeh/release/bokeh-tables-1.0.4.min.css\");\n    }\n  ];\n\n  function run_inline_js() {\n    \n    if ((root.Bokeh !== undefined) || (force === true)) {\n      for (var i = 0; i < inline_js.length; i++) {\n        inline_js[i].call(root, root.Bokeh);\n      }if (force === true) {\n        display_loaded();\n      }} else if (Date.now() < root._bokeh_timeout) {\n      setTimeout(run_inline_js, 100);\n    } else if (!root._bokeh_failed_load) {\n      console.log(\"Bokeh: BokehJS failed to load within specified timeout.\");\n      root._bokeh_failed_load = true;\n    } else if (force !== true) {\n      var cell = $(document.getElementById(\"2568\")).parents('.cell').data().cell;\n      cell.output_area.append_execute_result(NB_LOAD_WARNING)\n    }\n\n  }\n\n  if (root._bokeh_is_loading === 0) {\n    console.log(\"Bokeh: BokehJS loaded, going straight to plotting\");\n    run_inline_js();\n  } else {\n    load_libs(js_urls, function() {\n      console.log(\"Bokeh: BokehJS plotting callback run at\", now());\n      run_inline_js();\n    });\n  }\n}(window));"
          },
          "metadata": {
            "tags": []
          }
        },
        {
          "output_type": "display_data",
          "data": {
            "text/html": [
              "\n",
              "\n",
              "\n",
              "\n",
              "\n",
              "\n",
              "  <div class=\"bk-root\" id=\"4743022b-440a-4fc5-ac8e-ce71f580e8db\" data-root-id=\"2680\"></div>\n"
            ]
          },
          "metadata": {
            "tags": []
          }
        },
        {
          "output_type": "display_data",
          "data": {
            "application/javascript": [
              "(function(root) {\n",
              "  function embed_document(root) {\n",
              "    \n",
              "  var docs_json = {\"dde8aea1-ba40-4103-b0fa-fed27cb08770\":{\"roots\":{\"references\":[{\"attributes\":{\"callback\":null,\"tabs\":[{\"id\":\"2605\",\"type\":\"Panel\"},{\"id\":\"2642\",\"type\":\"Panel\"},{\"id\":\"2679\",\"type\":\"Panel\"}]},\"id\":\"2680\",\"type\":\"Tabs\"},{\"attributes\":{},\"id\":\"2765\",\"type\":\"BasicTickFormatter\"},{\"attributes\":{},\"id\":\"2579\",\"type\":\"LinearScale\"},{\"attributes\":{},\"id\":\"2614\",\"type\":\"LinearScale\"},{\"attributes\":{\"axis_label\":\"Time of Day (5 minute windows)\",\"formatter\":{\"id\":\"2769\",\"type\":\"BasicTickFormatter\"},\"plot\":{\"id\":\"2645\",\"subtype\":\"Figure\",\"type\":\"Plot\"},\"ticker\":{\"id\":\"2656\",\"type\":\"BasicTicker\"}},\"id\":\"2655\",\"type\":\"LinearAxis\"},{\"attributes\":{\"fill_color\":{\"value\":\"green\"},\"line_color\":{\"value\":\"green\"},\"top\":{\"field\":\"avg_num_people\"},\"width\":{\"value\":0.9},\"x\":{\"field\":\"index\"}},\"id\":\"2675\",\"type\":\"VBar\"},{\"attributes\":{\"callback\":null,\"data\":{\"avg_group_size\":{\"__ndarray__\":\"ip3YiZ3YAUAAAAAAAAD6P4qd2Imd2Pk/J3ZiJ3Zi9z8AAAAAAAAAQOQ4juM4jgNAF1100UUX/T8AAAAAAAACQFVVVVVVVQVAq6qqqqqqAkAAAAAAAAD4Py+66KKLLvo/mpmZmZmZ+T/btm3btm37PwAAAAAAAPA/\",\"dtype\":\"float64\",\"shape\":[15]},\"avg_num_people\":{\"__ndarray__\":\"VVVVVVVVI0BVVVVVVVUhQAAAAAAAABxAVVVVVVVVGUBVVVVVVVUhQFVVVVVVVR1Aq6qqqqqqGkAAAAAAAAAiQAAAAAAAACBAAAAAAAAAHEAAAAAAAAAcQAAAAAAAABhAVVVVVVVVFUAAAAAAAAAQQAAAAAAAABBA\",\"dtype\":\"float64\",\"shape\":[15]},\"avg_velocity\":{\"__ndarray__\":\"rqH13lBZqj/t6IEsZpipP0iI/bDyOrI/MlsMkpo4uT99+xtDT7euP9MdLmXx068/QKNFjwmGtj8NjtP/6RW2P4ySb96FdLY/5Am0qTV7uT+UKwwO14W1P5pkZJF+JcA/FCIpsn2OtT9rijdpCXCzPyiWuKNKjrM/\",\"dtype\":\"float64\",\"shape\":[15]},\"index\":[0,1,2,3,4,5,6,7,8,9,10,11,12,13,14],\"sum(num_groups)\":[13,16,13,13,13,9,11,12,3,3,14,11,10,7,4],\"sum(num_people)\":[29,26,21,19,26,22,20,27,8,7,21,18,16,12,4],\"sum(num_velocities)\":[25,20,14,16,21,15,17,20,6,6,17,14,11,12,2],\"sum(sum_velocities)\":{\"__ndarray__\":\"UOYvLseV9D8oY6K3f/7vP36uu7Uo5+8/MlsMkpo4+T8KXQoETCj0P/Y7206y1u0/dP05KGru9z+Qcch/ZJv7P+mt02Zk1+A/awdHP2gc4z9N7ux+NN72Pw6wb36dQfw/3I741Oyj7T+gT9MdDijtPyiWuKNKjsM/\",\"dtype\":\"float64\",\"shape\":[15]},\"window\":[[0.0,3000.0],[3000.0,6000.0],[6000.0,9000.0],[9000.0,12000.0],[12000.0,15000.0],[15000.0,18000.0],[18000.0,21000.0],[21000.0,24000.0],[24000.0,27000.0],[8589934590000.0,8589934593000.0],[8589934593000.0,8589934596000.0],[8589934596000.0,8589934599000.0],[8589934599000.0,8589934602000.0],[8589934602000.0,8589934605000.0],[8589934605000.0,8589934608000.0]]},\"selected\":{\"id\":\"2778\",\"type\":\"Selection\"},\"selection_policy\":{\"id\":\"2777\",\"type\":\"UnionRenderers\"}},\"id\":\"2673\",\"type\":\"ColumnDataSource\"},{\"attributes\":{\"plot\":{\"id\":\"2608\",\"subtype\":\"Figure\",\"type\":\"Plot\"},\"ticker\":{\"id\":\"2619\",\"type\":\"BasicTicker\"}},\"id\":\"2622\",\"type\":\"Grid\"},{\"attributes\":{\"fill_alpha\":{\"value\":0.1},\"fill_color\":{\"value\":\"#1f77b4\"},\"line_alpha\":{\"value\":0.1},\"line_color\":{\"value\":\"#1f77b4\"},\"top\":{\"field\":\"avg_num_people\"},\"width\":{\"value\":0.9},\"x\":{\"field\":\"index\"}},\"id\":\"2676\",\"type\":\"VBar\"},{\"attributes\":{\"plot\":{\"id\":\"2571\",\"subtype\":\"Figure\",\"type\":\"Plot\"},\"ticker\":{\"id\":\"2582\",\"type\":\"BasicTicker\"}},\"id\":\"2585\",\"type\":\"Grid\"},{\"attributes\":{},\"id\":\"2616\",\"type\":\"LinearScale\"},{\"attributes\":{\"callback\":null},\"id\":\"2649\",\"type\":\"DataRange1d\"},{\"attributes\":{\"dimension\":1,\"plot\":{\"id\":\"2645\",\"subtype\":\"Figure\",\"type\":\"Plot\"},\"ticker\":{\"id\":\"2661\",\"type\":\"BasicTicker\"}},\"id\":\"2664\",\"type\":\"Grid\"},{\"attributes\":{\"callback\":null,\"tooltips\":[[\"Timestamp\",\"@avg_num_people\"]]},\"id\":\"2643\",\"type\":\"HoverTool\"},{\"attributes\":{\"plot\":null,\"text\":\"Average Group Size During the Day\"},\"id\":\"2607\",\"type\":\"Title\"},{\"attributes\":{},\"id\":\"2582\",\"type\":\"BasicTicker\"},{\"attributes\":{\"callback\":null},\"id\":\"2612\",\"type\":\"DataRange1d\"},{\"attributes\":{\"plot\":null,\"text\":\"Average Velocities During the Day\"},\"id\":\"2570\",\"type\":\"Title\"},{\"attributes\":{\"fill_alpha\":{\"value\":0.1},\"fill_color\":{\"value\":\"#1f77b4\"},\"line_alpha\":{\"value\":0.1},\"line_color\":{\"value\":\"#1f77b4\"},\"top\":{\"field\":\"avg_group_size\"},\"width\":{\"value\":0.9},\"x\":{\"field\":\"index\"}},\"id\":\"2639\",\"type\":\"VBar\"},{\"attributes\":{},\"id\":\"2667\",\"type\":\"WheelZoomTool\"},{\"attributes\":{},\"id\":\"2767\",\"type\":\"BasicTickFormatter\"},{\"attributes\":{\"child\":{\"id\":\"2571\",\"subtype\":\"Figure\",\"type\":\"Plot\"},\"title\":\"Velocity\"},\"id\":\"2605\",\"type\":\"Panel\"},{\"attributes\":{},\"id\":\"2776\",\"type\":\"Selection\"},{\"attributes\":{},\"id\":\"2666\",\"type\":\"ResetTool\"},{\"attributes\":{\"axis_label\":\"Average Group size (number of people)\",\"formatter\":{\"id\":\"2767\",\"type\":\"BasicTickFormatter\"},\"plot\":{\"id\":\"2608\",\"subtype\":\"Figure\",\"type\":\"Plot\"},\"ticker\":{\"id\":\"2624\",\"type\":\"BasicTicker\"}},\"id\":\"2623\",\"type\":\"LinearAxis\"},{\"attributes\":{\"fill_color\":{\"value\":\"red\"},\"line_color\":{\"value\":\"red\"},\"top\":{\"field\":\"avg_velocity\"},\"width\":{\"value\":0.9},\"x\":{\"field\":\"index\"}},\"id\":\"2601\",\"type\":\"VBar\"},{\"attributes\":{},\"id\":\"2628\",\"type\":\"PanTool\"},{\"attributes\":{},\"id\":\"2656\",\"type\":\"BasicTicker\"},{\"attributes\":{\"data_source\":{\"id\":\"2599\",\"type\":\"ColumnDataSource\"},\"glyph\":{\"id\":\"2601\",\"type\":\"VBar\"},\"hover_glyph\":null,\"muted_glyph\":null,\"nonselection_glyph\":{\"id\":\"2602\",\"type\":\"VBar\"},\"selection_glyph\":null,\"view\":{\"id\":\"2604\",\"type\":\"CDSView\"}},\"id\":\"2603\",\"type\":\"GlyphRenderer\"},{\"attributes\":{\"axis_label\":\"Time of Day (5 minute windows)\",\"formatter\":{\"id\":\"2765\",\"type\":\"BasicTickFormatter\"},\"plot\":{\"id\":\"2608\",\"subtype\":\"Figure\",\"type\":\"Plot\"},\"ticker\":{\"id\":\"2619\",\"type\":\"BasicTicker\"}},\"id\":\"2618\",\"type\":\"LinearAxis\"},{\"attributes\":{\"data_source\":{\"id\":\"2636\",\"type\":\"ColumnDataSource\"},\"glyph\":{\"id\":\"2638\",\"type\":\"VBar\"},\"hover_glyph\":null,\"muted_glyph\":null,\"nonselection_glyph\":{\"id\":\"2639\",\"type\":\"VBar\"},\"selection_glyph\":null,\"view\":{\"id\":\"2641\",\"type\":\"CDSView\"}},\"id\":\"2640\",\"type\":\"GlyphRenderer\"},{\"attributes\":{\"below\":[{\"id\":\"2581\",\"type\":\"LinearAxis\"}],\"left\":[{\"id\":\"2586\",\"type\":\"LinearAxis\"}],\"plot_height\":500,\"plot_width\":500,\"renderers\":[{\"id\":\"2581\",\"type\":\"LinearAxis\"},{\"id\":\"2585\",\"type\":\"Grid\"},{\"id\":\"2586\",\"type\":\"LinearAxis\"},{\"id\":\"2590\",\"type\":\"Grid\"},{\"id\":\"2603\",\"type\":\"GlyphRenderer\"}],\"title\":{\"id\":\"2570\",\"type\":\"Title\"},\"toolbar\":{\"id\":\"2594\",\"type\":\"Toolbar\"},\"x_range\":{\"id\":\"2573\",\"type\":\"DataRange1d\"},\"x_scale\":{\"id\":\"2577\",\"type\":\"LinearScale\"},\"y_range\":{\"id\":\"2575\",\"type\":\"DataRange1d\"},\"y_scale\":{\"id\":\"2579\",\"type\":\"LinearScale\"}},\"id\":\"2571\",\"subtype\":\"Figure\",\"type\":\"Plot\"},{\"attributes\":{},\"id\":\"2653\",\"type\":\"LinearScale\"},{\"attributes\":{\"plot\":null,\"text\":\"Average Number of People During the Day\"},\"id\":\"2644\",\"type\":\"Title\"},{\"attributes\":{},\"id\":\"2593\",\"type\":\"WheelZoomTool\"},{\"attributes\":{\"callback\":null},\"id\":\"2610\",\"type\":\"DataRange1d\"},{\"attributes\":{\"active_drag\":\"auto\",\"active_inspect\":\"auto\",\"active_multi\":null,\"active_scroll\":\"auto\",\"active_tap\":\"auto\",\"tools\":[{\"id\":\"2643\",\"type\":\"HoverTool\"},{\"id\":\"2665\",\"type\":\"PanTool\"},{\"id\":\"2666\",\"type\":\"ResetTool\"},{\"id\":\"2667\",\"type\":\"WheelZoomTool\"}]},\"id\":\"2668\",\"type\":\"Toolbar\"},{\"attributes\":{\"axis_label\":\"Average Number of People\",\"formatter\":{\"id\":\"2771\",\"type\":\"BasicTickFormatter\"},\"plot\":{\"id\":\"2645\",\"subtype\":\"Figure\",\"type\":\"Plot\"},\"ticker\":{\"id\":\"2661\",\"type\":\"BasicTicker\"}},\"id\":\"2660\",\"type\":\"LinearAxis\"},{\"attributes\":{\"dimension\":1,\"plot\":{\"id\":\"2571\",\"subtype\":\"Figure\",\"type\":\"Plot\"},\"ticker\":{\"id\":\"2587\",\"type\":\"BasicTicker\"}},\"id\":\"2590\",\"type\":\"Grid\"},{\"attributes\":{},\"id\":\"2619\",\"type\":\"BasicTicker\"},{\"attributes\":{\"fill_alpha\":{\"value\":0.1},\"fill_color\":{\"value\":\"#1f77b4\"},\"line_alpha\":{\"value\":0.1},\"line_color\":{\"value\":\"#1f77b4\"},\"top\":{\"field\":\"avg_velocity\"},\"width\":{\"value\":0.9},\"x\":{\"field\":\"index\"}},\"id\":\"2602\",\"type\":\"VBar\"},{\"attributes\":{},\"id\":\"2629\",\"type\":\"ResetTool\"},{\"attributes\":{\"fill_color\":{\"value\":\"blue\"},\"line_color\":{\"value\":\"blue\"},\"top\":{\"field\":\"avg_group_size\"},\"width\":{\"value\":0.9},\"x\":{\"field\":\"index\"}},\"id\":\"2638\",\"type\":\"VBar\"},{\"attributes\":{\"source\":{\"id\":\"2599\",\"type\":\"ColumnDataSource\"}},\"id\":\"2604\",\"type\":\"CDSView\"},{\"attributes\":{\"source\":{\"id\":\"2636\",\"type\":\"ColumnDataSource\"}},\"id\":\"2641\",\"type\":\"CDSView\"},{\"attributes\":{\"dimension\":1,\"plot\":{\"id\":\"2608\",\"subtype\":\"Figure\",\"type\":\"Plot\"},\"ticker\":{\"id\":\"2624\",\"type\":\"BasicTicker\"}},\"id\":\"2627\",\"type\":\"Grid\"},{\"attributes\":{},\"id\":\"2661\",\"type\":\"BasicTicker\"},{\"attributes\":{},\"id\":\"2773\",\"type\":\"UnionRenderers\"},{\"attributes\":{\"below\":[{\"id\":\"2655\",\"type\":\"LinearAxis\"}],\"left\":[{\"id\":\"2660\",\"type\":\"LinearAxis\"}],\"plot_height\":500,\"plot_width\":500,\"renderers\":[{\"id\":\"2655\",\"type\":\"LinearAxis\"},{\"id\":\"2659\",\"type\":\"Grid\"},{\"id\":\"2660\",\"type\":\"LinearAxis\"},{\"id\":\"2664\",\"type\":\"Grid\"},{\"id\":\"2677\",\"type\":\"GlyphRenderer\"}],\"title\":{\"id\":\"2644\",\"type\":\"Title\"},\"toolbar\":{\"id\":\"2668\",\"type\":\"Toolbar\"},\"x_range\":{\"id\":\"2647\",\"type\":\"DataRange1d\"},\"x_scale\":{\"id\":\"2651\",\"type\":\"LinearScale\"},\"y_range\":{\"id\":\"2649\",\"type\":\"DataRange1d\"},\"y_scale\":{\"id\":\"2653\",\"type\":\"LinearScale\"}},\"id\":\"2645\",\"subtype\":\"Figure\",\"type\":\"Plot\"},{\"attributes\":{},\"id\":\"2651\",\"type\":\"LinearScale\"},{\"attributes\":{},\"id\":\"2587\",\"type\":\"BasicTicker\"},{\"attributes\":{},\"id\":\"2630\",\"type\":\"WheelZoomTool\"},{\"attributes\":{\"callback\":null,\"tooltips\":[[\"Timestamp\",\"@avg_group_size\"]]},\"id\":\"2606\",\"type\":\"HoverTool\"},{\"attributes\":{\"axis_label\":\"Time of Day (5 minute windows)\",\"formatter\":{\"id\":\"2761\",\"type\":\"BasicTickFormatter\"},\"plot\":{\"id\":\"2571\",\"subtype\":\"Figure\",\"type\":\"Plot\"},\"ticker\":{\"id\":\"2582\",\"type\":\"BasicTicker\"}},\"id\":\"2581\",\"type\":\"LinearAxis\"},{\"attributes\":{\"active_drag\":\"auto\",\"active_inspect\":\"auto\",\"active_multi\":null,\"active_scroll\":\"auto\",\"active_tap\":\"auto\",\"tools\":[{\"id\":\"2606\",\"type\":\"HoverTool\"},{\"id\":\"2628\",\"type\":\"PanTool\"},{\"id\":\"2629\",\"type\":\"ResetTool\"},{\"id\":\"2630\",\"type\":\"WheelZoomTool\"}]},\"id\":\"2631\",\"type\":\"Toolbar\"},{\"attributes\":{},\"id\":\"2591\",\"type\":\"PanTool\"},{\"attributes\":{},\"id\":\"2769\",\"type\":\"BasicTickFormatter\"},{\"attributes\":{\"callback\":null},\"id\":\"2575\",\"type\":\"DataRange1d\"},{\"attributes\":{},\"id\":\"2771\",\"type\":\"BasicTickFormatter\"},{\"attributes\":{},\"id\":\"2777\",\"type\":\"UnionRenderers\"},{\"attributes\":{},\"id\":\"2592\",\"type\":\"ResetTool\"},{\"attributes\":{},\"id\":\"2774\",\"type\":\"Selection\"},{\"attributes\":{},\"id\":\"2577\",\"type\":\"LinearScale\"},{\"attributes\":{\"below\":[{\"id\":\"2618\",\"type\":\"LinearAxis\"}],\"left\":[{\"id\":\"2623\",\"type\":\"LinearAxis\"}],\"plot_height\":500,\"plot_width\":500,\"renderers\":[{\"id\":\"2618\",\"type\":\"LinearAxis\"},{\"id\":\"2622\",\"type\":\"Grid\"},{\"id\":\"2623\",\"type\":\"LinearAxis\"},{\"id\":\"2627\",\"type\":\"Grid\"},{\"id\":\"2640\",\"type\":\"GlyphRenderer\"}],\"title\":{\"id\":\"2607\",\"type\":\"Title\"},\"toolbar\":{\"id\":\"2631\",\"type\":\"Toolbar\"},\"x_range\":{\"id\":\"2610\",\"type\":\"DataRange1d\"},\"x_scale\":{\"id\":\"2614\",\"type\":\"LinearScale\"},\"y_range\":{\"id\":\"2612\",\"type\":\"DataRange1d\"},\"y_scale\":{\"id\":\"2616\",\"type\":\"LinearScale\"}},\"id\":\"2608\",\"subtype\":\"Figure\",\"type\":\"Plot\"},{\"attributes\":{\"callback\":null},\"id\":\"2573\",\"type\":\"DataRange1d\"},{\"attributes\":{},\"id\":\"2761\",\"type\":\"BasicTickFormatter\"},{\"attributes\":{\"child\":{\"id\":\"2645\",\"subtype\":\"Figure\",\"type\":\"Plot\"},\"title\":\"Number of People\"},\"id\":\"2679\",\"type\":\"Panel\"},{\"attributes\":{\"data_source\":{\"id\":\"2673\",\"type\":\"ColumnDataSource\"},\"glyph\":{\"id\":\"2675\",\"type\":\"VBar\"},\"hover_glyph\":null,\"muted_glyph\":null,\"nonselection_glyph\":{\"id\":\"2676\",\"type\":\"VBar\"},\"selection_glyph\":null,\"view\":{\"id\":\"2678\",\"type\":\"CDSView\"}},\"id\":\"2677\",\"type\":\"GlyphRenderer\"},{\"attributes\":{\"callback\":null,\"tooltips\":[[\"Timestamp\",\"@avg_velocity\"]]},\"id\":\"2569\",\"type\":\"HoverTool\"},{\"attributes\":{\"axis_label\":\"Average Velocity (m/s)\",\"formatter\":{\"id\":\"2763\",\"type\":\"BasicTickFormatter\"},\"plot\":{\"id\":\"2571\",\"subtype\":\"Figure\",\"type\":\"Plot\"},\"ticker\":{\"id\":\"2587\",\"type\":\"BasicTicker\"}},\"id\":\"2586\",\"type\":\"LinearAxis\"},{\"attributes\":{},\"id\":\"2775\",\"type\":\"UnionRenderers\"},{\"attributes\":{\"callback\":null},\"id\":\"2647\",\"type\":\"DataRange1d\"},{\"attributes\":{\"callback\":null,\"data\":{\"avg_group_size\":{\"__ndarray__\":\"ip3YiZ3YAUAAAAAAAAD6P4qd2Imd2Pk/J3ZiJ3Zi9z8AAAAAAAAAQOQ4juM4jgNAF1100UUX/T8AAAAAAAACQFVVVVVVVQVAq6qqqqqqAkAAAAAAAAD4Py+66KKLLvo/mpmZmZmZ+T/btm3btm37PwAAAAAAAPA/\",\"dtype\":\"float64\",\"shape\":[15]},\"avg_num_people\":{\"__ndarray__\":\"VVVVVVVVI0BVVVVVVVUhQAAAAAAAABxAVVVVVVVVGUBVVVVVVVUhQFVVVVVVVR1Aq6qqqqqqGkAAAAAAAAAiQAAAAAAAACBAAAAAAAAAHEAAAAAAAAAcQAAAAAAAABhAVVVVVVVVFUAAAAAAAAAQQAAAAAAAABBA\",\"dtype\":\"float64\",\"shape\":[15]},\"avg_velocity\":{\"__ndarray__\":\"rqH13lBZqj/t6IEsZpipP0iI/bDyOrI/MlsMkpo4uT99+xtDT7euP9MdLmXx068/QKNFjwmGtj8NjtP/6RW2P4ySb96FdLY/5Am0qTV7uT+UKwwO14W1P5pkZJF+JcA/FCIpsn2OtT9rijdpCXCzPyiWuKNKjrM/\",\"dtype\":\"float64\",\"shape\":[15]},\"index\":[0,1,2,3,4,5,6,7,8,9,10,11,12,13,14],\"sum(num_groups)\":[13,16,13,13,13,9,11,12,3,3,14,11,10,7,4],\"sum(num_people)\":[29,26,21,19,26,22,20,27,8,7,21,18,16,12,4],\"sum(num_velocities)\":[25,20,14,16,21,15,17,20,6,6,17,14,11,12,2],\"sum(sum_velocities)\":{\"__ndarray__\":\"UOYvLseV9D8oY6K3f/7vP36uu7Uo5+8/MlsMkpo4+T8KXQoETCj0P/Y7206y1u0/dP05KGru9z+Qcch/ZJv7P+mt02Zk1+A/awdHP2gc4z9N7ux+NN72Pw6wb36dQfw/3I741Oyj7T+gT9MdDijtPyiWuKNKjsM/\",\"dtype\":\"float64\",\"shape\":[15]},\"window\":[[0.0,3000.0],[3000.0,6000.0],[6000.0,9000.0],[9000.0,12000.0],[12000.0,15000.0],[15000.0,18000.0],[18000.0,21000.0],[21000.0,24000.0],[24000.0,27000.0],[8589934590000.0,8589934593000.0],[8589934593000.0,8589934596000.0],[8589934596000.0,8589934599000.0],[8589934599000.0,8589934602000.0],[8589934602000.0,8589934605000.0],[8589934605000.0,8589934608000.0]]},\"selected\":{\"id\":\"2774\",\"type\":\"Selection\"},\"selection_policy\":{\"id\":\"2773\",\"type\":\"UnionRenderers\"}},\"id\":\"2599\",\"type\":\"ColumnDataSource\"},{\"attributes\":{\"source\":{\"id\":\"2673\",\"type\":\"ColumnDataSource\"}},\"id\":\"2678\",\"type\":\"CDSView\"},{\"attributes\":{},\"id\":\"2624\",\"type\":\"BasicTicker\"},{\"attributes\":{\"callback\":null,\"data\":{\"avg_group_size\":{\"__ndarray__\":\"ip3YiZ3YAUAAAAAAAAD6P4qd2Imd2Pk/J3ZiJ3Zi9z8AAAAAAAAAQOQ4juM4jgNAF1100UUX/T8AAAAAAAACQFVVVVVVVQVAq6qqqqqqAkAAAAAAAAD4Py+66KKLLvo/mpmZmZmZ+T/btm3btm37PwAAAAAAAPA/\",\"dtype\":\"float64\",\"shape\":[15]},\"avg_num_people\":{\"__ndarray__\":\"VVVVVVVVI0BVVVVVVVUhQAAAAAAAABxAVVVVVVVVGUBVVVVVVVUhQFVVVVVVVR1Aq6qqqqqqGkAAAAAAAAAiQAAAAAAAACBAAAAAAAAAHEAAAAAAAAAcQAAAAAAAABhAVVVVVVVVFUAAAAAAAAAQQAAAAAAAABBA\",\"dtype\":\"float64\",\"shape\":[15]},\"avg_velocity\":{\"__ndarray__\":\"rqH13lBZqj/t6IEsZpipP0iI/bDyOrI/MlsMkpo4uT99+xtDT7euP9MdLmXx068/QKNFjwmGtj8NjtP/6RW2P4ySb96FdLY/5Am0qTV7uT+UKwwO14W1P5pkZJF+JcA/FCIpsn2OtT9rijdpCXCzPyiWuKNKjrM/\",\"dtype\":\"float64\",\"shape\":[15]},\"index\":[0,1,2,3,4,5,6,7,8,9,10,11,12,13,14],\"sum(num_groups)\":[13,16,13,13,13,9,11,12,3,3,14,11,10,7,4],\"sum(num_people)\":[29,26,21,19,26,22,20,27,8,7,21,18,16,12,4],\"sum(num_velocities)\":[25,20,14,16,21,15,17,20,6,6,17,14,11,12,2],\"sum(sum_velocities)\":{\"__ndarray__\":\"UOYvLseV9D8oY6K3f/7vP36uu7Uo5+8/MlsMkpo4+T8KXQoETCj0P/Y7206y1u0/dP05KGru9z+Qcch/ZJv7P+mt02Zk1+A/awdHP2gc4z9N7ux+NN72Pw6wb36dQfw/3I741Oyj7T+gT9MdDijtPyiWuKNKjsM/\",\"dtype\":\"float64\",\"shape\":[15]},\"window\":[[0.0,3000.0],[3000.0,6000.0],[6000.0,9000.0],[9000.0,12000.0],[12000.0,15000.0],[15000.0,18000.0],[18000.0,21000.0],[21000.0,24000.0],[24000.0,27000.0],[8589934590000.0,8589934593000.0],[8589934593000.0,8589934596000.0],[8589934596000.0,8589934599000.0],[8589934599000.0,8589934602000.0],[8589934602000.0,8589934605000.0],[8589934605000.0,8589934608000.0]]},\"selected\":{\"id\":\"2776\",\"type\":\"Selection\"},\"selection_policy\":{\"id\":\"2775\",\"type\":\"UnionRenderers\"}},\"id\":\"2636\",\"type\":\"ColumnDataSource\"},{\"attributes\":{},\"id\":\"2665\",\"type\":\"PanTool\"},{\"attributes\":{},\"id\":\"2778\",\"type\":\"Selection\"},{\"attributes\":{\"active_drag\":\"auto\",\"active_inspect\":\"auto\",\"active_multi\":null,\"active_scroll\":\"auto\",\"active_tap\":\"auto\",\"tools\":[{\"id\":\"2569\",\"type\":\"HoverTool\"},{\"id\":\"2591\",\"type\":\"PanTool\"},{\"id\":\"2592\",\"type\":\"ResetTool\"},{\"id\":\"2593\",\"type\":\"WheelZoomTool\"}]},\"id\":\"2594\",\"type\":\"Toolbar\"},{\"attributes\":{\"child\":{\"id\":\"2608\",\"subtype\":\"Figure\",\"type\":\"Plot\"},\"title\":\"Group Size\"},\"id\":\"2642\",\"type\":\"Panel\"},{\"attributes\":{\"plot\":{\"id\":\"2645\",\"subtype\":\"Figure\",\"type\":\"Plot\"},\"ticker\":{\"id\":\"2656\",\"type\":\"BasicTicker\"}},\"id\":\"2659\",\"type\":\"Grid\"},{\"attributes\":{},\"id\":\"2763\",\"type\":\"BasicTickFormatter\"}],\"root_ids\":[\"2680\"]},\"title\":\"Bokeh Application\",\"version\":\"1.0.4\"}};\n",
              "  var render_items = [{\"docid\":\"dde8aea1-ba40-4103-b0fa-fed27cb08770\",\"roots\":{\"2680\":\"4743022b-440a-4fc5-ac8e-ce71f580e8db\"}}];\n",
              "  root.Bokeh.embed.embed_items_notebook(docs_json, render_items);\n",
              "\n",
              "  }\n",
              "  if (root.Bokeh !== undefined) {\n",
              "    embed_document(root);\n",
              "  } else {\n",
              "    var attempts = 0;\n",
              "    var timer = setInterval(function(root) {\n",
              "      if (root.Bokeh !== undefined) {\n",
              "        embed_document(root);\n",
              "        clearInterval(timer);\n",
              "      }\n",
              "      attempts++;\n",
              "      if (attempts > 100) {\n",
              "        console.log(\"Bokeh: ERROR: Unable to run BokehJS code because BokehJS library is missing\");\n",
              "        clearInterval(timer);\n",
              "      }\n",
              "    }, 10, root)\n",
              "  }\n",
              "})(window);"
            ],
            "application/vnd.bokehjs_exec.v0+json": ""
          },
          "metadata": {
            "tags": [],
            "application/vnd.bokehjs_exec.v0+json": {
              "id": "2680"
            }
          }
        }
      ]
    },
    {
      "cell_type": "code",
      "metadata": {
        "id": "c7ZVcTGC44ir",
        "colab_type": "code",
        "colab": {}
      },
      "source": [
        ""
      ],
      "execution_count": 0,
      "outputs": []
    }
  ]
}