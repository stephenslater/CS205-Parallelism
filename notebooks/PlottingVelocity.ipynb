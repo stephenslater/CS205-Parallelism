{
 "cells": [
  {
   "cell_type": "markdown",
   "metadata": {},
   "source": [
    "# Visualizing Aggregated Analytics\n",
    "\n",
    "We used spark to get the average velocity, average groupsize, and other nice analytics\n",
    "from the Spark EMR cluster."
   ]
  },
  {
   "cell_type": "code",
   "execution_count": 1,
   "metadata": {},
   "outputs": [],
   "source": [
    "import pandas as pd\n",
    "import numpy as np\n",
    "import os\n",
    "\n",
    "from bokeh.plotting import figure, show, output_file\n",
    "from bokeh.models import ColumnDataSource, HoverTool"
   ]
  },
  {
   "cell_type": "code",
   "execution_count": 2,
   "metadata": {},
   "outputs": [],
   "source": [
    "df = pd.read_csv('/Users/wfu/data/full_paired-10mins.csv')"
   ]
  },
  {
   "cell_type": "code",
   "execution_count": 45,
   "metadata": {},
   "outputs": [
    {
     "data": {
      "text/plain": [
       "Index(['Unnamed: 0', 'window', 'sum(num_people)', 'sum(num_groups)',\n",
       "       'sum(sum_velocities)', 'sum(num_velocities)', 'avg(num_people)',\n",
       "       'x_centers', 'y_centers', 'start', 'start_string'],\n",
       "      dtype='object')"
      ]
     },
     "execution_count": 45,
     "metadata": {},
     "output_type": "execute_result"
    }
   ],
   "source": [
    "df.columns"
   ]
  },
  {
   "cell_type": "code",
   "execution_count": 3,
   "metadata": {},
   "outputs": [
    {
     "data": {
      "text/html": [
       "<div>\n",
       "<style scoped>\n",
       "    .dataframe tbody tr th:only-of-type {\n",
       "        vertical-align: middle;\n",
       "    }\n",
       "\n",
       "    .dataframe tbody tr th {\n",
       "        vertical-align: top;\n",
       "    }\n",
       "\n",
       "    .dataframe thead th {\n",
       "        text-align: right;\n",
       "    }\n",
       "</style>\n",
       "<table border=\"1\" class=\"dataframe\">\n",
       "  <thead>\n",
       "    <tr style=\"text-align: right;\">\n",
       "      <th></th>\n",
       "      <th>Unnamed: 0</th>\n",
       "      <th>window</th>\n",
       "      <th>sum(num_people)</th>\n",
       "      <th>sum(num_groups)</th>\n",
       "      <th>sum(sum_velocities)</th>\n",
       "      <th>sum(num_velocities)</th>\n",
       "      <th>avg(num_people)</th>\n",
       "      <th>x_centers</th>\n",
       "      <th>y_centers</th>\n",
       "    </tr>\n",
       "  </thead>\n",
       "  <tbody>\n",
       "    <tr>\n",
       "      <th>0</th>\n",
       "      <td>0</td>\n",
       "      <td>Row(start=datetime.datetime(2019, 4, 10, 0, 20...</td>\n",
       "      <td>1</td>\n",
       "      <td>1</td>\n",
       "      <td>0.000000</td>\n",
       "      <td>0</td>\n",
       "      <td>0.001389</td>\n",
       "      <td>[0.449]</td>\n",
       "      <td>[0.335]</td>\n",
       "    </tr>\n",
       "    <tr>\n",
       "      <th>1</th>\n",
       "      <td>1</td>\n",
       "      <td>Row(start=datetime.datetime(2019, 4, 10, 0, 30...</td>\n",
       "      <td>7</td>\n",
       "      <td>7</td>\n",
       "      <td>0.014000</td>\n",
       "      <td>1</td>\n",
       "      <td>0.005833</td>\n",
       "      <td>[0.709, 0.691, 0.718, 0.718, 0.455, 0.421, 0.812]</td>\n",
       "      <td>[0.339, 0.362, 0.459, 0.466, 0.731, 0.764, 0.56]</td>\n",
       "    </tr>\n",
       "    <tr>\n",
       "      <th>2</th>\n",
       "      <td>2</td>\n",
       "      <td>Row(start=datetime.datetime(2019, 4, 10, 0, 40...</td>\n",
       "      <td>66</td>\n",
       "      <td>36</td>\n",
       "      <td>0.714577</td>\n",
       "      <td>33</td>\n",
       "      <td>0.055000</td>\n",
       "      <td>[0.694, 0.691, 0.693, 0.7, 0.688, 0.688, 0.685...</td>\n",
       "      <td>[0.334, 0.337, 0.331, 0.33, 0.334, 0.329, 0.33...</td>\n",
       "    </tr>\n",
       "  </tbody>\n",
       "</table>\n",
       "</div>"
      ],
      "text/plain": [
       "   Unnamed: 0                                             window  \\\n",
       "0           0  Row(start=datetime.datetime(2019, 4, 10, 0, 20...   \n",
       "1           1  Row(start=datetime.datetime(2019, 4, 10, 0, 30...   \n",
       "2           2  Row(start=datetime.datetime(2019, 4, 10, 0, 40...   \n",
       "\n",
       "   sum(num_people)  sum(num_groups)  sum(sum_velocities)  sum(num_velocities)  \\\n",
       "0                1                1             0.000000                    0   \n",
       "1                7                7             0.014000                    1   \n",
       "2               66               36             0.714577                   33   \n",
       "\n",
       "   avg(num_people)                                          x_centers  \\\n",
       "0         0.001389                                            [0.449]   \n",
       "1         0.005833  [0.709, 0.691, 0.718, 0.718, 0.455, 0.421, 0.812]   \n",
       "2         0.055000  [0.694, 0.691, 0.693, 0.7, 0.688, 0.688, 0.685...   \n",
       "\n",
       "                                           y_centers  \n",
       "0                                            [0.335]  \n",
       "1   [0.339, 0.362, 0.459, 0.466, 0.731, 0.764, 0.56]  \n",
       "2  [0.334, 0.337, 0.331, 0.33, 0.334, 0.329, 0.33...  "
      ]
     },
     "execution_count": 3,
     "metadata": {},
     "output_type": "execute_result"
    }
   ],
   "source": [
    "df[:3]"
   ]
  },
  {
   "cell_type": "markdown",
   "metadata": {},
   "source": [
    "Lets first plot the average velocity.\n",
    "Currently the window is in the format of a string.\n",
    "We want to make it in the units of datetime, where datetime\n",
    "is when the windows starts."
   ]
  },
  {
   "cell_type": "code",
   "execution_count": 4,
   "metadata": {},
   "outputs": [
    {
     "data": {
      "text/plain": [
       "'Row(start=datetime.datetime(2019, 4, 10, 0, 20), end=datetime.datetime(2019, 4, 10, 0, 30))'"
      ]
     },
     "execution_count": 4,
     "metadata": {},
     "output_type": "execute_result"
    }
   ],
   "source": [
    "df.window[0]"
   ]
  },
  {
   "cell_type": "markdown",
   "metadata": {},
   "source": [
    "Let's take off the row and the parens, and `start=` and `end=`."
   ]
  },
  {
   "cell_type": "code",
   "execution_count": 5,
   "metadata": {},
   "outputs": [
    {
     "name": "stdout",
     "output_type": "stream",
     "text": [
      "datetime(2019, 4, 10, 0, 20)\n",
      "datetime(2019, 4, 10, 0, 30)\n"
     ]
    }
   ],
   "source": [
    "start, end = df.window[0][4:-1].replace('start=', '').replace('end=', '').split(', datetime.')\n",
    "start = start.replace(\"datetime.\", \"\")\n",
    "end = end.replace('datetime.', '')\n",
    "print(start)\n",
    "print(end)"
   ]
  },
  {
   "cell_type": "code",
   "execution_count": 6,
   "metadata": {},
   "outputs": [],
   "source": [
    "from datetime import datetime\n",
    "def filter_window_row(row):\n",
    "    start, end = row[4:-1].replace('start=', '').replace('end=', '').split(', datetime.')\n",
    "    start = start.replace(\"datetime.\", \"\")\n",
    "    end = end.replace('datetime.', '')\n",
    "    return eval(start)"
   ]
  },
  {
   "cell_type": "code",
   "execution_count": 7,
   "metadata": {},
   "outputs": [],
   "source": [
    "df['start'] = df.window.map(filter_window_row)\n",
    "df['start_string'] = df['start'].map(lambda timestamp: timestamp.strftime(\"%b %d %Y %H:%M:%S %p\"))\n",
    "df.index.name = 'index'"
   ]
  },
  {
   "cell_type": "code",
   "execution_count": 8,
   "metadata": {},
   "outputs": [
    {
     "data": {
      "text/html": [
       "<div>\n",
       "<style scoped>\n",
       "    .dataframe tbody tr th:only-of-type {\n",
       "        vertical-align: middle;\n",
       "    }\n",
       "\n",
       "    .dataframe tbody tr th {\n",
       "        vertical-align: top;\n",
       "    }\n",
       "\n",
       "    .dataframe thead th {\n",
       "        text-align: right;\n",
       "    }\n",
       "</style>\n",
       "<table border=\"1\" class=\"dataframe\">\n",
       "  <thead>\n",
       "    <tr style=\"text-align: right;\">\n",
       "      <th></th>\n",
       "      <th>Unnamed: 0</th>\n",
       "      <th>window</th>\n",
       "      <th>sum(num_people)</th>\n",
       "      <th>sum(num_groups)</th>\n",
       "      <th>sum(sum_velocities)</th>\n",
       "      <th>sum(num_velocities)</th>\n",
       "      <th>avg(num_people)</th>\n",
       "      <th>x_centers</th>\n",
       "      <th>y_centers</th>\n",
       "      <th>start</th>\n",
       "      <th>start_string</th>\n",
       "    </tr>\n",
       "    <tr>\n",
       "      <th>index</th>\n",
       "      <th></th>\n",
       "      <th></th>\n",
       "      <th></th>\n",
       "      <th></th>\n",
       "      <th></th>\n",
       "      <th></th>\n",
       "      <th></th>\n",
       "      <th></th>\n",
       "      <th></th>\n",
       "      <th></th>\n",
       "      <th></th>\n",
       "    </tr>\n",
       "  </thead>\n",
       "  <tbody>\n",
       "    <tr>\n",
       "      <th>0</th>\n",
       "      <td>0</td>\n",
       "      <td>Row(start=datetime.datetime(2019, 4, 10, 0, 20...</td>\n",
       "      <td>1</td>\n",
       "      <td>1</td>\n",
       "      <td>0.000000</td>\n",
       "      <td>0</td>\n",
       "      <td>0.001389</td>\n",
       "      <td>[0.449]</td>\n",
       "      <td>[0.335]</td>\n",
       "      <td>2019-04-10 00:20:00</td>\n",
       "      <td>Apr 10 2019 00:20:00 AM</td>\n",
       "    </tr>\n",
       "    <tr>\n",
       "      <th>1</th>\n",
       "      <td>1</td>\n",
       "      <td>Row(start=datetime.datetime(2019, 4, 10, 0, 30...</td>\n",
       "      <td>7</td>\n",
       "      <td>7</td>\n",
       "      <td>0.014000</td>\n",
       "      <td>1</td>\n",
       "      <td>0.005833</td>\n",
       "      <td>[0.709, 0.691, 0.718, 0.718, 0.455, 0.421, 0.812]</td>\n",
       "      <td>[0.339, 0.362, 0.459, 0.466, 0.731, 0.764, 0.56]</td>\n",
       "      <td>2019-04-10 00:30:00</td>\n",
       "      <td>Apr 10 2019 00:30:00 AM</td>\n",
       "    </tr>\n",
       "    <tr>\n",
       "      <th>2</th>\n",
       "      <td>2</td>\n",
       "      <td>Row(start=datetime.datetime(2019, 4, 10, 0, 40...</td>\n",
       "      <td>66</td>\n",
       "      <td>36</td>\n",
       "      <td>0.714577</td>\n",
       "      <td>33</td>\n",
       "      <td>0.055000</td>\n",
       "      <td>[0.694, 0.691, 0.693, 0.7, 0.688, 0.688, 0.685...</td>\n",
       "      <td>[0.334, 0.337, 0.331, 0.33, 0.334, 0.329, 0.33...</td>\n",
       "      <td>2019-04-10 00:40:00</td>\n",
       "      <td>Apr 10 2019 00:40:00 AM</td>\n",
       "    </tr>\n",
       "  </tbody>\n",
       "</table>\n",
       "</div>"
      ],
      "text/plain": [
       "       Unnamed: 0                                             window  \\\n",
       "index                                                                  \n",
       "0               0  Row(start=datetime.datetime(2019, 4, 10, 0, 20...   \n",
       "1               1  Row(start=datetime.datetime(2019, 4, 10, 0, 30...   \n",
       "2               2  Row(start=datetime.datetime(2019, 4, 10, 0, 40...   \n",
       "\n",
       "       sum(num_people)  sum(num_groups)  sum(sum_velocities)  \\\n",
       "index                                                          \n",
       "0                    1                1             0.000000   \n",
       "1                    7                7             0.014000   \n",
       "2                   66               36             0.714577   \n",
       "\n",
       "       sum(num_velocities)  avg(num_people)  \\\n",
       "index                                         \n",
       "0                        0         0.001389   \n",
       "1                        1         0.005833   \n",
       "2                       33         0.055000   \n",
       "\n",
       "                                               x_centers  \\\n",
       "index                                                      \n",
       "0                                                [0.449]   \n",
       "1      [0.709, 0.691, 0.718, 0.718, 0.455, 0.421, 0.812]   \n",
       "2      [0.694, 0.691, 0.693, 0.7, 0.688, 0.688, 0.685...   \n",
       "\n",
       "                                               y_centers               start  \\\n",
       "index                                                                          \n",
       "0                                                [0.335] 2019-04-10 00:20:00   \n",
       "1       [0.339, 0.362, 0.459, 0.466, 0.731, 0.764, 0.56] 2019-04-10 00:30:00   \n",
       "2      [0.334, 0.337, 0.331, 0.33, 0.334, 0.329, 0.33... 2019-04-10 00:40:00   \n",
       "\n",
       "                  start_string  \n",
       "index                           \n",
       "0      Apr 10 2019 00:20:00 AM  \n",
       "1      Apr 10 2019 00:30:00 AM  \n",
       "2      Apr 10 2019 00:40:00 AM  "
      ]
     },
     "execution_count": 8,
     "metadata": {},
     "output_type": "execute_result"
    }
   ],
   "source": [
    "df[:3]"
   ]
  },
  {
   "cell_type": "markdown",
   "metadata": {},
   "source": [
    "These are now string with the datetime object."
   ]
  },
  {
   "cell_type": "code",
   "execution_count": 9,
   "metadata": {},
   "outputs": [],
   "source": [
    "HEIGHT = 360\n",
    "WIDTH = 640"
   ]
  },
  {
   "cell_type": "code",
   "execution_count": 10,
   "metadata": {},
   "outputs": [],
   "source": [
    "# Bokeh Library\n",
    "from bokeh.io import output_file, output_notebook\n",
    "from bokeh.models.widgets import Tabs, Panel\n",
    "from bokeh.plotting import show\n",
    "\n",
    "# Output to file\n",
    "# output_notebook()"
   ]
  },
  {
   "cell_type": "code",
   "execution_count": 12,
   "metadata": {},
   "outputs": [],
   "source": [
    "filtered_df = df.drop(columns=[\"x_centers\", \"y_centers\"])"
   ]
  },
  {
   "cell_type": "code",
   "execution_count": 20,
   "metadata": {},
   "outputs": [
    {
     "data": {
      "text/plain": [
       "Index(['Unnamed: 0', 'window', 'sum(num_people)', 'sum(num_groups)',\n",
       "       'sum(sum_velocities)', 'sum(num_velocities)', 'avg(num_people)',\n",
       "       'start', 'start_string'],\n",
       "      dtype='object')"
      ]
     },
     "execution_count": 20,
     "metadata": {},
     "output_type": "execute_result"
    }
   ],
   "source": [
    "filtered_df.columns"
   ]
  },
  {
   "cell_type": "code",
   "execution_count": 21,
   "metadata": {},
   "outputs": [],
   "source": [
    "filtered_df.columns = [\"index\", \"window\", \"sum_num_people\", \"sum_num_groups\", \"sum_sum_velocities\", \n",
    "                       \"sum_num_velocities\", \"avg_num_people\", \"start\", \"start_string\"]"
   ]
  },
  {
   "cell_type": "code",
   "execution_count": 37,
   "metadata": {},
   "outputs": [],
   "source": [
    "def average_velocity(row):\n",
    "    try:\n",
    "        return row['sum_sum_velocities'] / row['sum_num_velocities']\n",
    "    except ZeroDivisionError:\n",
    "        return 0\n",
    "\n",
    "filtered_df['avg_velocity'] = filtered_df.apply(average_velocity, axis=1)\n",
    "filtered_df"
   ]
  },
  {
   "cell_type": "code",
   "execution_count": 46,
   "metadata": {},
   "outputs": [],
   "source": [
    "filtered_df['avg_group_size'] = 1. * filtered_df['sum_num_people'] / filtered_df['sum_num_groups']"
   ]
  },
  {
   "cell_type": "code",
   "execution_count": 51,
   "metadata": {},
   "outputs": [],
   "source": [
    "hover = HoverTool()\n",
    "hover.tooltips = [('Timestamp', '@start_string'),\n",
    "                  ('Average Number of People', '@avg_num_people)'),]\n",
    "\n",
    "num_people_graph = figure(title=\"Number of People in Science Center Plaza\",\n",
    "    plot_height=500, \n",
    "    plot_width=900,\n",
    "    # y_range=(0, 20),\n",
    "    match_aspect=True,\n",
    "    tools=[hover, \"pan,reset,wheel_zoom\"])\n",
    "\n",
    "num_people_graph.vbar(x='index',\n",
    "       top='avg_num_people',\n",
    "       width=0.9,\n",
    "       color='red',\n",
    "       source=ColumnDataSource(filtered_df))\n",
    "\n",
    "num_people_graph.xaxis.axis_label = \"Time Window (Hover for Timestamp)\"\n",
    "num_people_graph.yaxis.axis_label = \"Average Number of People in Camera\"\n",
    "\n",
    "hover.tooltips = [('Timestamp', '@start_string'),\n",
    "                  ('Average Velocity', '@avg_velocity)'),]\n",
    "\n",
    "avg_velocity_graph = figure(title=\"Average Velocity\",\n",
    "    plot_height=500, \n",
    "    plot_width=900,\n",
    "    match_aspect=True,\n",
    "    y_range=(0, 1),\n",
    "    tools=[hover, \"pan,reset,wheel_zoom\"])\n",
    "\n",
    "avg_velocity_graph.vbar(x='index',\n",
    "       top='avg_velocity',\n",
    "       width=0.9,\n",
    "       color='blue',\n",
    "       source=ColumnDataSource(filtered_df))\n",
    "\n",
    "hover.tooltips = [('Timestamp', '@start_string'),\n",
    "                  ('Average Group Size', '@avg_group_size)'),]\n",
    "\n",
    "avg_group_size_graph = figure(title=\"Average Group Size\",\n",
    "    plot_height=500, \n",
    "    plot_width=900,\n",
    "    match_aspect=True,\n",
    "    y_range=(0, 4),\n",
    "    tools=[hover, \"pan,reset,wheel_zoom\"])\n",
    "\n",
    "avg_group_size_graph.vbar(x='index',\n",
    "       top='avg_group_size',\n",
    "       width=0.9,\n",
    "       color='green',\n",
    "       source=ColumnDataSource(filtered_df))\n",
    "\n",
    "\n",
    "panel1 = Panel(child=num_people_graph, title='Average Number of People')\n",
    "panel2 = Panel(child=avg_velocity_graph, title='Average Velocity')\n",
    "panel3 = Panel(child=avg_group_size_graph, title='Average Group Size')\n",
    "\n",
    "# Assign the panels to Tabs\n",
    "tabs = Tabs(tabs=[panel1, panel2, panel3])"
   ]
  },
  {
   "cell_type": "code",
   "execution_count": 52,
   "metadata": {},
   "outputs": [],
   "source": [
    "show(tabs)"
   ]
  },
  {
   "cell_type": "markdown",
   "metadata": {},
   "source": [
    "## Making the Heatmap Over Time\n",
    "\n",
    "Now, we make the heatmap over time.\n",
    "We couldn't just display the heatmap for the interactive graph because there is too much data,\n",
    "on the order of 150 MB.\n",
    "This would essentially be too much work for the browser on my computer.\n",
    "Therefore, I will render these visualizations into a video."
   ]
  },
  {
   "cell_type": "code",
   "execution_count": 55,
   "metadata": {},
   "outputs": [
    {
     "data": {
      "text/html": [
       "<div>\n",
       "<style scoped>\n",
       "    .dataframe tbody tr th:only-of-type {\n",
       "        vertical-align: middle;\n",
       "    }\n",
       "\n",
       "    .dataframe tbody tr th {\n",
       "        vertical-align: top;\n",
       "    }\n",
       "\n",
       "    .dataframe thead th {\n",
       "        text-align: right;\n",
       "    }\n",
       "</style>\n",
       "<table border=\"1\" class=\"dataframe\">\n",
       "  <thead>\n",
       "    <tr style=\"text-align: right;\">\n",
       "      <th></th>\n",
       "      <th>Unnamed: 0</th>\n",
       "      <th>window</th>\n",
       "      <th>sum(num_people)</th>\n",
       "      <th>sum(num_groups)</th>\n",
       "      <th>sum(sum_velocities)</th>\n",
       "      <th>sum(num_velocities)</th>\n",
       "      <th>avg(num_people)</th>\n",
       "      <th>x_centers</th>\n",
       "      <th>y_centers</th>\n",
       "      <th>start</th>\n",
       "      <th>start_string</th>\n",
       "    </tr>\n",
       "    <tr>\n",
       "      <th>index</th>\n",
       "      <th></th>\n",
       "      <th></th>\n",
       "      <th></th>\n",
       "      <th></th>\n",
       "      <th></th>\n",
       "      <th></th>\n",
       "      <th></th>\n",
       "      <th></th>\n",
       "      <th></th>\n",
       "      <th></th>\n",
       "      <th></th>\n",
       "    </tr>\n",
       "  </thead>\n",
       "  <tbody>\n",
       "    <tr>\n",
       "      <th>0</th>\n",
       "      <td>0</td>\n",
       "      <td>Row(start=datetime.datetime(2019, 4, 10, 0, 20...</td>\n",
       "      <td>1</td>\n",
       "      <td>1</td>\n",
       "      <td>0.0</td>\n",
       "      <td>0</td>\n",
       "      <td>0.001389</td>\n",
       "      <td>[0.449]</td>\n",
       "      <td>[0.335]</td>\n",
       "      <td>2019-04-10 00:20:00</td>\n",
       "      <td>Apr 10 2019 00:20:00 AM</td>\n",
       "    </tr>\n",
       "  </tbody>\n",
       "</table>\n",
       "</div>"
      ],
      "text/plain": [
       "       Unnamed: 0                                             window  \\\n",
       "index                                                                  \n",
       "0               0  Row(start=datetime.datetime(2019, 4, 10, 0, 20...   \n",
       "\n",
       "       sum(num_people)  sum(num_groups)  sum(sum_velocities)  \\\n",
       "index                                                          \n",
       "0                    1                1                  0.0   \n",
       "\n",
       "       sum(num_velocities)  avg(num_people) x_centers y_centers  \\\n",
       "index                                                             \n",
       "0                        0         0.001389   [0.449]   [0.335]   \n",
       "\n",
       "                    start             start_string  \n",
       "index                                               \n",
       "0     2019-04-10 00:20:00  Apr 10 2019 00:20:00 AM  "
      ]
     },
     "execution_count": 55,
     "metadata": {},
     "output_type": "execute_result"
    }
   ],
   "source": [
    "df[:1]"
   ]
  },
  {
   "cell_type": "markdown",
   "metadata": {},
   "source": [
    "For each window, we see that the centers show up as a list.\n",
    "Let's try just plotting one of these rows and making a heatmap.\n",
    "We may also have to batch some of these together for a larger aggregate, or else there might not be enough data."
   ]
  },
  {
   "cell_type": "code",
   "execution_count": 113,
   "metadata": {},
   "outputs": [],
   "source": [
    "import matplotlib\n",
    "from matplotlib import pyplot as plt\n",
    "%matplotlib inline\n",
    "import numpy as np\n",
    "import cv2\n",
    "import copy\n",
    "\n",
    "# Make the color stuff with alpha on top of it\n",
    "red_alpha = copy.copy(matplotlib.cm.Reds)\n",
    "blue_alpha = copy.copy(matplotlib.cm.Blues)\n",
    "green_alpha = copy.copy(matplotlib.cm.Greens)\n",
    "red_alpha._init()\n",
    "blue_alpha._init()\n",
    "green_alpha._init()\n",
    "red_alpha._lut[0,3] = 0\n",
    "blue_alpha._lut[0,3] = 0\n",
    "green_alpha._lut[0,3] = 0"
   ]
  },
  {
   "cell_type": "code",
   "execution_count": 103,
   "metadata": {},
   "outputs": [],
   "source": [
    "def get_range_of_locations(start, end):\n",
    "    \"\"\"gets all the bounding box centers from entry `start` to entry `end`\n",
    "    of our dataframe. returns it as two lists.\"\"\"\n",
    "    data_x, data_y = [], []\n",
    "    for index in range(start, end):\n",
    "        test_row = df.iloc[index]\n",
    "        data_x += list(eval(test_row['x_centers']))\n",
    "        data_y += list(eval(test_row['y_centers']))\n",
    "    return np.array(data_x), np.array(data_y)"
   ]
  },
  {
   "cell_type": "code",
   "execution_count": 104,
   "metadata": {},
   "outputs": [],
   "source": [
    "test_row = df.iloc[300]\n",
    "# print(test_row)\n",
    "test_x, test_y = np.array(eval(test_row['x_centers'])), np.array(eval(test_row['y_centers']))"
   ]
  },
  {
   "cell_type": "code",
   "execution_count": 105,
   "metadata": {},
   "outputs": [
    {
     "name": "stdout",
     "output_type": "stream",
     "text": [
      "Number of detections in this window: 173\n"
     ]
    }
   ],
   "source": [
    "print(\"Number of detections in this window: %d\" % len(test_x))"
   ]
  },
  {
   "cell_type": "code",
   "execution_count": 106,
   "metadata": {},
   "outputs": [],
   "source": [
    "WIDTH = 640\n",
    "HEIGHT = 360"
   ]
  },
  {
   "cell_type": "code",
   "execution_count": 158,
   "metadata": {},
   "outputs": [],
   "source": [
    "matplotlib.rcParams['font.size'] = 16\n",
    "def heatmap_between_ranges(start, end, save_path=None):\n",
    "    \"\"\"Generate heatmap from entry `start` to entry `end`\n",
    "    of our dataframe.\"\"\"\n",
    "    fig = plt.figure(figsize=(16, 9))\n",
    "    picture_range = np.array([[0, 1], [0, 1]])\n",
    "    data_x, data_y = get_range_of_locations(start, end)\n",
    "    start_date = df.iloc[start]['start_string']\n",
    "\n",
    "    \n",
    "    plt.title(start_date)\n",
    "    plt.hist2d(data_x, data_y, range=picture_range, bins=(160, 90), cmap=red_alpha)\n",
    "    if save_path:\n",
    "        # Save it to whatever save path name we give it.\n",
    "        fig.savefig(save_path)\n",
    "        plt.close()\n",
    "    else:\n",
    "        plt.show()"
   ]
  },
  {
   "cell_type": "code",
   "execution_count": 159,
   "metadata": {},
   "outputs": [],
   "source": [
    "heatmap_between_ranges(20, 30)"
   ]
  },
  {
   "cell_type": "code",
   "execution_count": 162,
   "metadata": {},
   "outputs": [
    {
     "name": "stderr",
     "output_type": "stream",
     "text": [
      "100%|██████████| 70/70 [00:25<00:00,  5.19it/s]\n"
     ]
    }
   ],
   "source": [
    "import tqdm\n",
    "ctr = 0\n",
    "for i in tqdm.tqdm(range(50, 120)):\n",
    "    file_path = \"/tmp/heatmaptime%06d.png\" % ctr\n",
    "    heatmap_between_ranges(i, i + 4, save_path=file_path)\n",
    "    ctr += 1"
   ]
  },
  {
   "cell_type": "code",
   "execution_count": 165,
   "metadata": {},
   "outputs": [
    {
     "name": "stderr",
     "output_type": "stream",
     "text": [
      "ffmpeg version 4.0.2 Copyright (c) 2000-2018 the FFmpeg developers\n",
      "  built with Apple LLVM version 9.1.0 (clang-902.0.39.2)\n",
      "  configuration: --prefix=/usr/local/Cellar/ffmpeg/4.0.2 --enable-shared --enable-pthreads --enable-version3 --enable-hardcoded-tables --enable-avresample --cc=clang --host-cflags= --host-ldflags= --enable-gpl --enable-libmp3lame --enable-libx264 --enable-libxvid --enable-opencl --enable-videotoolbox --disable-lzma\n",
      "  libavutil      56. 14.100 / 56. 14.100\n",
      "  libavcodec     58. 18.100 / 58. 18.100\n",
      "  libavformat    58. 12.100 / 58. 12.100\n",
      "  libavdevice    58.  3.100 / 58.  3.100\n",
      "  libavfilter     7. 16.100 /  7. 16.100\n",
      "  libavresample   4.  0.  0 /  4.  0.  0\n",
      "  libswscale      5.  1.100 /  5.  1.100\n",
      "  libswresample   3.  1.100 /  3.  1.100\n",
      "  libpostproc    55.  1.100 / 55.  1.100\n",
      "Input #0, image2, from '/tmp/heatmaptime%06d.png':\n",
      "  Duration: 00:00:35.00, start: 0.000000, bitrate: N/A\n",
      "    Stream #0:0: Video: png, rgba(pc), 1152x648 [SAR 2834:2834 DAR 16:9], 2 fps, 2 tbr, 2 tbn, 2 tbc\n",
      "Stream mapping:\n",
      "  Stream #0:0 -> #0:0 (png (native) -> h264 (libx264))\n",
      "Press [q] to stop, [?] for help\n",
      "[libx264 @ 0x7f9fd1810800] using SAR=1/1\n",
      "[libx264 @ 0x7f9fd1810800] using cpu capabilities: MMX2 SSE2Fast SSSE3 SSE4.2 AVX FMA3 BMI2 AVX2\n",
      "[libx264 @ 0x7f9fd1810800] profile High 4:4:4 Predictive, level 3.1, 4:4:4 8-bit\n",
      "[libx264 @ 0x7f9fd1810800] 264 - core 152 r2854 e9a5903 - H.264/MPEG-4 AVC codec - Copyleft 2003-2017 - http://www.videolan.org/x264.html - options: cabac=1 ref=3 deblock=1:0:0 analyse=0x1:0x111 me=hex subme=7 psy=1 psy_rd=1.00:0.00 mixed_ref=1 me_range=16 chroma_me=1 trellis=1 8x8dct=0 cqm=0 deadzone=21,11 fast_pskip=1 chroma_qp_offset=4 threads=12 lookahead_threads=2 sliced_threads=0 nr=0 decimate=1 interlaced=0 bluray_compat=0 constrained_intra=0 bframes=3 b_pyramid=2 b_adapt=1 b_bias=0 direct=1 weightb=1 open_gop=0 weightp=2 keyint=250 keyint_min=2 scenecut=40 intra_refresh=0 rc_lookahead=40 rc=crf mbtree=1 crf=23.0 qcomp=0.60 qpmin=0 qpmax=69 qpstep=4 ip_ratio=1.40 aq=1:1.00\n",
      "Output #0, mp4, to 'test.mp4':\n",
      "  Metadata:\n",
      "    encoder         : Lavf58.12.100\n",
      "    Stream #0:0: Video: h264 (libx264) (avc1 / 0x31637661), yuv444p, 1152x648 [SAR 1:1 DAR 16:9], q=-1--1, 2 fps, 16384 tbn, 2 tbc\n",
      "    Metadata:\n",
      "      encoder         : Lavc58.18.100 libx264\n",
      "    Side data:\n",
      "      cpb: bitrate max/min/avg: 0/0/0 buffer size: 0 vbv_delay: -1\n",
      "frame=   70 fps=0.0 q=-1.0 Lsize=     508kB time=00:00:33.50 bitrate= 124.3kbits/s speed=52.1x    \n",
      "video:507kB audio:0kB subtitle:0kB other streams:0kB global headers:0kB muxing overhead: 0.326226%\n",
      "[libx264 @ 0x7f9fd1810800] frame I:1     Avg QP: 5.92  size: 30554\n",
      "[libx264 @ 0x7f9fd1810800] frame P:18    Avg QP: 8.56  size: 10630\n",
      "[libx264 @ 0x7f9fd1810800] frame B:51    Avg QP:15.46  size:  5811\n",
      "[libx264 @ 0x7f9fd1810800] consecutive B-frames:  2.9%  0.0%  0.0% 97.1%\n",
      "[libx264 @ 0x7f9fd1810800] mb I  I16..4: 68.8%  0.0% 31.2%\n",
      "[libx264 @ 0x7f9fd1810800] mb P  I16..4:  3.8%  0.0%  9.5%  P16..4:  2.2%  2.8%  2.7%  0.0%  0.0%    skip:78.9%\n",
      "[libx264 @ 0x7f9fd1810800] mb B  I16..4:  0.4%  0.0%  2.4%  B16..8:  7.2%  3.8%  3.0%  direct: 2.4%  skip:81.0%  L0:51.2% L1:43.3% BI: 5.6%\n",
      "[libx264 @ 0x7f9fd1810800] coded y,u,v intra: 54.2% 40.7% 44.9% inter: 5.3% 1.7% 2.6%\n",
      "[libx264 @ 0x7f9fd1810800] i16 v,h,dc,p: 80% 15%  5%  0%\n",
      "[libx264 @ 0x7f9fd1810800] i4 v,h,dc,ddl,ddr,vr,hd,vl,hu: 40% 37% 15%  1%  2%  1%  1%  1%  1%\n",
      "[libx264 @ 0x7f9fd1810800] Weighted P-Frames: Y:0.0% UV:0.0%\n",
      "[libx264 @ 0x7f9fd1810800] ref P L0: 44.0%  4.3% 26.5% 25.2%\n",
      "[libx264 @ 0x7f9fd1810800] ref B L0: 84.2% 11.6%  4.2%\n",
      "[libx264 @ 0x7f9fd1810800] ref B L1: 95.8%  4.2%\n",
      "[libx264 @ 0x7f9fd1810800] kb/s:118.46\n"
     ]
    }
   ],
   "source": [
    "%%bash\n",
    "ffmpeg -y -framerate 2 -i /tmp/heatmaptime%06d.png test.mp4"
   ]
  },
  {
   "cell_type": "code",
   "execution_count": null,
   "metadata": {},
   "outputs": [],
   "source": []
  }
 ],
 "metadata": {
  "kernelspec": {
   "display_name": "Python 3",
   "language": "python",
   "name": "python3"
  },
  "language_info": {
   "codemirror_mode": {
    "name": "ipython",
    "version": 3
   },
   "file_extension": ".py",
   "mimetype": "text/x-python",
   "name": "python",
   "nbconvert_exporter": "python",
   "pygments_lexer": "ipython3",
   "version": "3.7.2"
  }
 },
 "nbformat": 4,
 "nbformat_minor": 2
}
