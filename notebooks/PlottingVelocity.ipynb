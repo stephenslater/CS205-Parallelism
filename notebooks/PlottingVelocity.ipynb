{
 "cells": [
  {
   "cell_type": "markdown",
   "metadata": {},
   "source": [
    "# Visualizing Aggregated Analytics\n",
    "\n",
    "We used spark to get the average velocity, average groupsize, and other nice analytics\n",
    "from the Spark EMR cluster."
   ]
  },
  {
   "cell_type": "code",
   "execution_count": 1,
   "metadata": {},
   "outputs": [],
   "source": [
    "import pandas as pd\n",
    "import numpy as np\n",
    "import os\n",
    "\n",
    "from bokeh.plotting import figure, show, output_file\n",
    "from bokeh.models import ColumnDataSource, HoverTool"
   ]
  },
  {
   "cell_type": "code",
   "execution_count": 2,
   "metadata": {},
   "outputs": [],
   "source": [
    "df = pd.read_csv('/Users/wfu/data/full-20mins.csv')"
   ]
  },
  {
   "cell_type": "code",
   "execution_count": 3,
   "metadata": {},
   "outputs": [
    {
     "data": {
      "text/html": [
       "<div>\n",
       "<style scoped>\n",
       "    .dataframe tbody tr th:only-of-type {\n",
       "        vertical-align: middle;\n",
       "    }\n",
       "\n",
       "    .dataframe tbody tr th {\n",
       "        vertical-align: top;\n",
       "    }\n",
       "\n",
       "    .dataframe thead th {\n",
       "        text-align: right;\n",
       "    }\n",
       "</style>\n",
       "<table border=\"1\" class=\"dataframe\">\n",
       "  <thead>\n",
       "    <tr style=\"text-align: right;\">\n",
       "      <th></th>\n",
       "      <th>Unnamed: 0</th>\n",
       "      <th>window</th>\n",
       "      <th>avg_num_people</th>\n",
       "      <th>avg_group_size</th>\n",
       "      <th>avg_velocity</th>\n",
       "      <th>x_centers</th>\n",
       "      <th>y_centers</th>\n",
       "    </tr>\n",
       "  </thead>\n",
       "  <tbody>\n",
       "    <tr>\n",
       "      <th>0</th>\n",
       "      <td>0</td>\n",
       "      <td>Row(start=datetime.datetime(2019, 4, 10, 0, 20...</td>\n",
       "      <td>0.004167</td>\n",
       "      <td>1.0</td>\n",
       "      <td>0.014000</td>\n",
       "      <td>[0.449, 0.709, 0.691, 0.718, 0.718, 0.455, 0.4...</td>\n",
       "      <td>[0.335, 0.339, 0.362, 0.459, 0.466, 0.731, 0.7...</td>\n",
       "    </tr>\n",
       "    <tr>\n",
       "      <th>1</th>\n",
       "      <td>1</td>\n",
       "      <td>Row(start=datetime.datetime(2019, 4, 10, 0, 40...</td>\n",
       "      <td>0.044167</td>\n",
       "      <td>1.0</td>\n",
       "      <td>0.018674</td>\n",
       "      <td>[0.694, 0.691, 0.693, 0.7, 0.688, 0.688, 0.685...</td>\n",
       "      <td>[0.334, 0.337, 0.331, 0.33, 0.334, 0.329, 0.33...</td>\n",
       "    </tr>\n",
       "    <tr>\n",
       "      <th>2</th>\n",
       "      <td>2</td>\n",
       "      <td>Row(start=datetime.datetime(2019, 4, 10, 1, 0)...</td>\n",
       "      <td>0.044583</td>\n",
       "      <td>1.0</td>\n",
       "      <td>0.024130</td>\n",
       "      <td>[0.853, 0.846, 0.837, 0.83, 0.823, 0.815, 0.80...</td>\n",
       "      <td>[0.53, 0.532, 0.534, 0.539, 0.542, 0.546, 0.55...</td>\n",
       "    </tr>\n",
       "  </tbody>\n",
       "</table>\n",
       "</div>"
      ],
      "text/plain": [
       "   Unnamed: 0                                             window  \\\n",
       "0           0  Row(start=datetime.datetime(2019, 4, 10, 0, 20...   \n",
       "1           1  Row(start=datetime.datetime(2019, 4, 10, 0, 40...   \n",
       "2           2  Row(start=datetime.datetime(2019, 4, 10, 1, 0)...   \n",
       "\n",
       "   avg_num_people  avg_group_size  avg_velocity  \\\n",
       "0        0.004167             1.0      0.014000   \n",
       "1        0.044167             1.0      0.018674   \n",
       "2        0.044583             1.0      0.024130   \n",
       "\n",
       "                                           x_centers  \\\n",
       "0  [0.449, 0.709, 0.691, 0.718, 0.718, 0.455, 0.4...   \n",
       "1  [0.694, 0.691, 0.693, 0.7, 0.688, 0.688, 0.685...   \n",
       "2  [0.853, 0.846, 0.837, 0.83, 0.823, 0.815, 0.80...   \n",
       "\n",
       "                                           y_centers  \n",
       "0  [0.335, 0.339, 0.362, 0.459, 0.466, 0.731, 0.7...  \n",
       "1  [0.334, 0.337, 0.331, 0.33, 0.334, 0.329, 0.33...  \n",
       "2  [0.53, 0.532, 0.534, 0.539, 0.542, 0.546, 0.55...  "
      ]
     },
     "execution_count": 3,
     "metadata": {},
     "output_type": "execute_result"
    }
   ],
   "source": [
    "df[:3]"
   ]
  },
  {
   "cell_type": "markdown",
   "metadata": {},
   "source": [
    "Lets first plot the average velocity.\n",
    "Currently the window is in the format of a string.\n",
    "We want to make it in the units of datetime, where datetime\n",
    "is when the windows starts."
   ]
  },
  {
   "cell_type": "code",
   "execution_count": 4,
   "metadata": {},
   "outputs": [
    {
     "data": {
      "text/plain": [
       "'Row(start=datetime.datetime(2019, 4, 10, 0, 20), end=datetime.datetime(2019, 4, 10, 0, 40))'"
      ]
     },
     "execution_count": 4,
     "metadata": {},
     "output_type": "execute_result"
    }
   ],
   "source": [
    "df.window[0]"
   ]
  },
  {
   "cell_type": "markdown",
   "metadata": {},
   "source": [
    "Let's take off the row and the parens, and `start=` and `end=`."
   ]
  },
  {
   "cell_type": "code",
   "execution_count": 5,
   "metadata": {},
   "outputs": [
    {
     "name": "stdout",
     "output_type": "stream",
     "text": [
      "datetime(2019, 4, 10, 0, 20)\n",
      "datetime(2019, 4, 10, 0, 40)\n"
     ]
    }
   ],
   "source": [
    "start, end = df.window[0][4:-1].replace('start=', '').replace('end=', '').split(', datetime.')\n",
    "start = start.replace(\"datetime.\", \"\")\n",
    "end = end.replace('datetime.', '')\n",
    "print(start)\n",
    "print(end)"
   ]
  },
  {
   "cell_type": "code",
   "execution_count": 6,
   "metadata": {},
   "outputs": [],
   "source": [
    "from datetime import datetime\n",
    "def filter_window_row(row):\n",
    "    start, end = row[4:-1].replace('start=', '').replace('end=', '').split(', datetime.')\n",
    "    start = start.replace(\"datetime.\", \"\")\n",
    "    end = end.replace('datetime.', '')\n",
    "    return eval(start)"
   ]
  },
  {
   "cell_type": "code",
   "execution_count": 7,
   "metadata": {},
   "outputs": [],
   "source": [
    "df['start'] = df.window.map(filter_window_row)\n",
    "df['start_string'] = df['start'].map(lambda timestamp: timestamp.strftime(\"%b %d %Y %H:%M:%S %p\"))\n",
    "df.index.name = 'index'"
   ]
  },
  {
   "cell_type": "code",
   "execution_count": 8,
   "metadata": {},
   "outputs": [
    {
     "data": {
      "text/html": [
       "<div>\n",
       "<style scoped>\n",
       "    .dataframe tbody tr th:only-of-type {\n",
       "        vertical-align: middle;\n",
       "    }\n",
       "\n",
       "    .dataframe tbody tr th {\n",
       "        vertical-align: top;\n",
       "    }\n",
       "\n",
       "    .dataframe thead th {\n",
       "        text-align: right;\n",
       "    }\n",
       "</style>\n",
       "<table border=\"1\" class=\"dataframe\">\n",
       "  <thead>\n",
       "    <tr style=\"text-align: right;\">\n",
       "      <th></th>\n",
       "      <th>Unnamed: 0</th>\n",
       "      <th>window</th>\n",
       "      <th>avg_num_people</th>\n",
       "      <th>avg_group_size</th>\n",
       "      <th>avg_velocity</th>\n",
       "      <th>x_centers</th>\n",
       "      <th>y_centers</th>\n",
       "      <th>start</th>\n",
       "      <th>start_string</th>\n",
       "    </tr>\n",
       "    <tr>\n",
       "      <th>index</th>\n",
       "      <th></th>\n",
       "      <th></th>\n",
       "      <th></th>\n",
       "      <th></th>\n",
       "      <th></th>\n",
       "      <th></th>\n",
       "      <th></th>\n",
       "      <th></th>\n",
       "      <th></th>\n",
       "    </tr>\n",
       "  </thead>\n",
       "  <tbody>\n",
       "    <tr>\n",
       "      <th>0</th>\n",
       "      <td>0</td>\n",
       "      <td>Row(start=datetime.datetime(2019, 4, 10, 0, 20...</td>\n",
       "      <td>0.004167</td>\n",
       "      <td>1.0</td>\n",
       "      <td>0.014000</td>\n",
       "      <td>[0.449, 0.709, 0.691, 0.718, 0.718, 0.455, 0.4...</td>\n",
       "      <td>[0.335, 0.339, 0.362, 0.459, 0.466, 0.731, 0.7...</td>\n",
       "      <td>2019-04-10 00:20:00</td>\n",
       "      <td>Apr 10 2019 00:20:00 AM</td>\n",
       "    </tr>\n",
       "    <tr>\n",
       "      <th>1</th>\n",
       "      <td>1</td>\n",
       "      <td>Row(start=datetime.datetime(2019, 4, 10, 0, 40...</td>\n",
       "      <td>0.044167</td>\n",
       "      <td>1.0</td>\n",
       "      <td>0.018674</td>\n",
       "      <td>[0.694, 0.691, 0.693, 0.7, 0.688, 0.688, 0.685...</td>\n",
       "      <td>[0.334, 0.337, 0.331, 0.33, 0.334, 0.329, 0.33...</td>\n",
       "      <td>2019-04-10 00:40:00</td>\n",
       "      <td>Apr 10 2019 00:40:00 AM</td>\n",
       "    </tr>\n",
       "    <tr>\n",
       "      <th>2</th>\n",
       "      <td>2</td>\n",
       "      <td>Row(start=datetime.datetime(2019, 4, 10, 1, 0)...</td>\n",
       "      <td>0.044583</td>\n",
       "      <td>1.0</td>\n",
       "      <td>0.024130</td>\n",
       "      <td>[0.853, 0.846, 0.837, 0.83, 0.823, 0.815, 0.80...</td>\n",
       "      <td>[0.53, 0.532, 0.534, 0.539, 0.542, 0.546, 0.55...</td>\n",
       "      <td>2019-04-10 01:00:00</td>\n",
       "      <td>Apr 10 2019 01:00:00 AM</td>\n",
       "    </tr>\n",
       "  </tbody>\n",
       "</table>\n",
       "</div>"
      ],
      "text/plain": [
       "       Unnamed: 0                                             window  \\\n",
       "index                                                                  \n",
       "0               0  Row(start=datetime.datetime(2019, 4, 10, 0, 20...   \n",
       "1               1  Row(start=datetime.datetime(2019, 4, 10, 0, 40...   \n",
       "2               2  Row(start=datetime.datetime(2019, 4, 10, 1, 0)...   \n",
       "\n",
       "       avg_num_people  avg_group_size  avg_velocity  \\\n",
       "index                                                 \n",
       "0            0.004167             1.0      0.014000   \n",
       "1            0.044167             1.0      0.018674   \n",
       "2            0.044583             1.0      0.024130   \n",
       "\n",
       "                                               x_centers  \\\n",
       "index                                                      \n",
       "0      [0.449, 0.709, 0.691, 0.718, 0.718, 0.455, 0.4...   \n",
       "1      [0.694, 0.691, 0.693, 0.7, 0.688, 0.688, 0.685...   \n",
       "2      [0.853, 0.846, 0.837, 0.83, 0.823, 0.815, 0.80...   \n",
       "\n",
       "                                               y_centers               start  \\\n",
       "index                                                                          \n",
       "0      [0.335, 0.339, 0.362, 0.459, 0.466, 0.731, 0.7... 2019-04-10 00:20:00   \n",
       "1      [0.334, 0.337, 0.331, 0.33, 0.334, 0.329, 0.33... 2019-04-10 00:40:00   \n",
       "2      [0.53, 0.532, 0.534, 0.539, 0.542, 0.546, 0.55... 2019-04-10 01:00:00   \n",
       "\n",
       "                  start_string  \n",
       "index                           \n",
       "0      Apr 10 2019 00:20:00 AM  \n",
       "1      Apr 10 2019 00:40:00 AM  \n",
       "2      Apr 10 2019 01:00:00 AM  "
      ]
     },
     "execution_count": 8,
     "metadata": {},
     "output_type": "execute_result"
    }
   ],
   "source": [
    "df[:3]"
   ]
  },
  {
   "cell_type": "markdown",
   "metadata": {},
   "source": [
    "These are now string with the datetime object."
   ]
  },
  {
   "cell_type": "code",
   "execution_count": 9,
   "metadata": {},
   "outputs": [],
   "source": [
    "HEIGHT = 360\n",
    "WIDTH = 640"
   ]
  },
  {
   "cell_type": "code",
   "execution_count": 10,
   "metadata": {},
   "outputs": [],
   "source": [
    "# Bokeh Library\n",
    "from bokeh.io import output_file, output_notebook\n",
    "from bokeh.models.widgets import Tabs, Panel\n",
    "from bokeh.plotting import show\n",
    "\n",
    "# Output to file\n",
    "# output_notebook()"
   ]
  },
  {
   "cell_type": "code",
   "execution_count": 11,
   "metadata": {},
   "outputs": [],
   "source": [
    "hover = HoverTool()\n",
    "hover.tooltips = [('Timestamp', '@start_string'),\n",
    "                  ('Average Number of People', '@avg_num_people'),]\n",
    "\n",
    "num_people_graph = figure(title=\"Number of People in Science Center Plaza\",\n",
    "    plot_height=500, \n",
    "    plot_width=900,\n",
    "    # y_range=(0, 20),\n",
    "    match_aspect=True,\n",
    "    tools=[hover, \"pan,reset,wheel_zoom\"])\n",
    "\n",
    "num_people_graph.vbar(x='index',\n",
    "       top='avg_num_people',\n",
    "       width=0.9,\n",
    "       color='red',\n",
    "       source=ColumnDataSource(df))\n",
    "\n",
    "num_people_graph.xaxis.axis_label = \"Time Window (Hover for Timestamp)\"\n",
    "num_people_graph.yaxis.axis_label = \"Average Number of People in Camera\"\n",
    "\n",
    "# avg_velocity_graph = figure(title=\"Average Velocity\",\n",
    "#     plot_height=500, \n",
    "#     plot_width=900,\n",
    "#     match_aspect=True,\n",
    "#     y_range=(0, 1),\n",
    "#     tools=[hover, \"pan,reset,wheel_zoom\"])\n",
    "\n",
    "# avg_velocity_graph.vbar(x='index',\n",
    "#        top='avg_velocity',\n",
    "#        width=0.9,\n",
    "#        color='blue',\n",
    "#        source=ColumnDataSource(df))\n",
    "\n",
    "# avg_group_size_graph = figure(title=\"Stuff\",\n",
    "#     plot_height=500, \n",
    "#     plot_width=900,\n",
    "#     match_aspect=True,\n",
    "#     y_range=(0, 4),\n",
    "#     tools=[hover, \"pan,reset,wheel_zoom\"])\n",
    "\n",
    "# avg_group_size_graph.vbar(x='index',\n",
    "#        top='avg_group_size',\n",
    "#        width=0.9,\n",
    "#        color='green',\n",
    "#        source=ColumnDataSource(df))\n",
    "\n",
    "\n",
    "panel1 = Panel(child=num_people_graph, title='Average Number of People')\n",
    "# panel2 = Panel(child=avg_velocity_graph, title='Average Velocity')\n",
    "# panel3 = Panel(child=avg_group_size_graph, title='Average Group Size')\n",
    "\n",
    "# Assign the panels to Tabs\n",
    "# tabs = Tabs(tabs=[panel1, panel2, panel3])\n",
    "tabs = Tabs(tabs=[panel1])"
   ]
  },
  {
   "cell_type": "code",
   "execution_count": 12,
   "metadata": {},
   "outputs": [],
   "source": [
    "show(tabs)"
   ]
  },
  {
   "cell_type": "code",
   "execution_count": null,
   "metadata": {},
   "outputs": [],
   "source": []
  }
 ],
 "metadata": {
  "kernelspec": {
   "display_name": "Python 3",
   "language": "python",
   "name": "python3"
  },
  "language_info": {
   "codemirror_mode": {
    "name": "ipython",
    "version": 3
   },
   "file_extension": ".py",
   "mimetype": "text/x-python",
   "name": "python",
   "nbconvert_exporter": "python",
   "pygments_lexer": "ipython3",
   "version": "3.7.2"
  }
 },
 "nbformat": 4,
 "nbformat_minor": 2
}
