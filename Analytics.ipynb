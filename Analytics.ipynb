{
  "nbformat": 4,
  "nbformat_minor": 0,
  "metadata": {
    "colab": {
      "name": "TestingWindows.ipynb",
      "version": "0.3.2",
      "provenance": [],
      "collapsed_sections": []
    },
    "kernelspec": {
      "name": "python3",
      "display_name": "Python 3"
    }
  },
  "cells": [
    {
      "cell_type": "code",
      "metadata": {
        "id": "VtVHM3oEbixW",
        "colab_type": "code",
        "colab": {
          "base_uri": "https://localhost:8080/",
          "height": 214
        },
        "outputId": "3540c235-ad63-4277-96e6-04d183ae2973"
      },
      "source": [
        "!pip install pyspark"
      ],
      "execution_count": 1,
      "outputs": [
        {
          "output_type": "stream",
          "text": [
            "Collecting pyspark\n",
            "\u001b[?25l  Downloading https://files.pythonhosted.org/packages/ef/88/8e5f4cfb99a4186b4b7f06aa1294353e0be6b05b25802a82f3d16cb30b79/pyspark-2.4.2.tar.gz (193.9MB)\n",
            "\u001b[K     |████████████████████████████████| 193.9MB 1.2MB/s \n",
            "\u001b[?25hCollecting py4j==0.10.7 (from pyspark)\n",
            "\u001b[?25l  Downloading https://files.pythonhosted.org/packages/e3/53/c737818eb9a7dc32a7cd4f1396e787bd94200c3997c72c1dbe028587bd76/py4j-0.10.7-py2.py3-none-any.whl (197kB)\n",
            "\u001b[K     |████████████████████████████████| 204kB 43.6MB/s \n",
            "\u001b[?25hBuilding wheels for collected packages: pyspark\n",
            "  Building wheel for pyspark (setup.py) ... \u001b[?25l\u001b[?25hdone\n",
            "  Stored in directory: /root/.cache/pip/wheels/dc/0e/02/e9fdf0bf3ad20284175307d4ab31afcf967604f25f3b4f1d96\n",
            "Successfully built pyspark\n",
            "Installing collected packages: py4j, pyspark\n",
            "Successfully installed py4j-0.10.7 pyspark-2.4.2\n"
          ],
          "name": "stdout"
        }
      ]
    },
    {
      "cell_type": "code",
      "metadata": {
        "id": "dU6MHYtKbnLX",
        "colab_type": "code",
        "colab": {
          "base_uri": "https://localhost:8080/",
          "height": 119
        },
        "outputId": "b18b0790-2bea-4afa-9693-54c8ae7be425"
      },
      "source": [
        "from google.colab import drive\n",
        "import pandas as pd\n",
        "import numpy as np\n",
        "\n",
        "from pyspark import SparkConf, SparkContext\n",
        "from pyspark.sql import SQLContext, SparkSession\n",
        "from pyspark.mllib.linalg import Vectors\n",
        "from pyspark.sql.functions import udf, array, avg, col, size, struct, lag, window, countDistinct, sum\n",
        "from pyspark.sql.types import DoubleType, IntegerType, StringType, ArrayType, LongType, FloatType\n",
        "from pyspark.sql.window import Window\n",
        "import re\n",
        "\n",
        "drive.mount('/content/gdrive', force_remount=True)"
      ],
      "execution_count": 2,
      "outputs": [
        {
          "output_type": "stream",
          "text": [
            "Go to this URL in a browser: https://accounts.google.com/o/oauth2/auth?client_id=947318989803-6bn6qk8qdgf4n4g3pfee6491hc0brc4i.apps.googleusercontent.com&redirect_uri=urn%3Aietf%3Awg%3Aoauth%3A2.0%3Aoob&scope=email%20https%3A%2F%2Fwww.googleapis.com%2Fauth%2Fdocs.test%20https%3A%2F%2Fwww.googleapis.com%2Fauth%2Fdrive%20https%3A%2F%2Fwww.googleapis.com%2Fauth%2Fdrive.photos.readonly%20https%3A%2F%2Fwww.googleapis.com%2Fauth%2Fpeopleapi.readonly&response_type=code\n",
            "\n",
            "Enter your authorization code:\n",
            "··········\n",
            "Mounted at /content/gdrive\n"
          ],
          "name": "stdout"
        }
      ]
    },
    {
      "cell_type": "code",
      "metadata": {
        "id": "3iHxYt95bqDW",
        "colab_type": "code",
        "colab": {}
      },
      "source": [
        "spark = SparkSession.builder.getOrCreate()\n",
        "directory = '/content/gdrive/My Drive/CS 205 Project/records/'"
      ],
      "execution_count": 0,
      "outputs": []
    },
    {
      "cell_type": "code",
      "metadata": {
        "id": "5GnOb4hPpJrl",
        "colab_type": "code",
        "colab": {}
      },
      "source": [
        "from pyspark.sql.functions import udf, array, avg, col, size, struct, lag, window, countDistinct, sum"
      ],
      "execution_count": 0,
      "outputs": []
    },
    {
      "cell_type": "markdown",
      "metadata": {
        "id": "fmASLabX8UjX",
        "colab_type": "text"
      },
      "source": [
        "# Load data"
      ]
    },
    {
      "cell_type": "code",
      "metadata": {
        "id": "TxgCIEOx8TIn",
        "colab_type": "code",
        "colab": {}
      },
      "source": [
        "df = spark.read.csv(directory + 'first_llorente_video.csv', header='true', multiLine='true')"
      ],
      "execution_count": 0,
      "outputs": []
    },
    {
      "cell_type": "code",
      "metadata": {
        "id": "v8BzcE-P-RSQ",
        "colab_type": "code",
        "colab": {
          "base_uri": "https://localhost:8080/",
          "height": 33
        },
        "outputId": "296a7380-9a68-449b-8654-d4e69182c347"
      },
      "source": [
        "df_test = spark.read.json(directory + '1-min')"
      ],
      "execution_count": 167,
      "outputs": [
        {
          "output_type": "execute_result",
          "data": {
            "text/plain": [
              "DataFrame[bboxes: array<double>, scores: array<double>]"
            ]
          },
          "metadata": {
            "tags": []
          },
          "execution_count": 167
        }
      ]
    },
    {
      "cell_type": "code",
      "metadata": {
        "id": "b2aUQM1AjrXZ",
        "colab_type": "code",
        "colab": {
          "base_uri": "https://localhost:8080/",
          "height": 445
        },
        "outputId": "cb2a56b0-9ebb-47de-e17f-ca72d137d48b"
      },
      "source": [
        "df_test.show()"
      ],
      "execution_count": 168,
      "outputs": [
        {
          "output_type": "stream",
          "text": [
            "+--------------------+--------------------+\n",
            "|              bboxes|              scores|\n",
            "+--------------------+--------------------+\n",
            "|[0.59336024522781...|[0.93980032205581...|\n",
            "|[0.62502855062484...|[0.89926099777221...|\n",
            "|[0.72911220788955...|[0.98777532577514...|\n",
            "|[0.78701549768447...|[0.97126829624176...|\n",
            "|[0.48519986867904...|[0.93738293647766...|\n",
            "|[0.67814970016479...|[0.97286134958267...|\n",
            "|[0.57940828800201...|[0.98793494701385...|\n",
            "|[0.71229845285415...|[0.98705601692199...|\n",
            "|[0.34067243337631...|[0.77425789833068...|\n",
            "|[0.78984218835830...|[0.97743964195251...|\n",
            "|[0.39440840482711...|[0.92999798059463...|\n",
            "|[0.60313117504119...|[0.93863993883132...|\n",
            "|[0.82778960466384...|[0.91649687290191...|\n",
            "|[0.51006656885147...|[0.97323024272918...|\n",
            "|[0.56186217069625...|[0.89469927549362...|\n",
            "|[0.67285186052322...|[0.97309362888336...|\n",
            "|[0.35979881882667...|[0.84619909524917...|\n",
            "|[0.39222764968872...|[0.71783727407455...|\n",
            "|[0.47849225997924...|[0.92085105180740...|\n",
            "|[0.51487535238265...|[0.81251215934753...|\n",
            "+--------------------+--------------------+\n",
            "only showing top 20 rows\n",
            "\n"
          ],
          "name": "stdout"
        }
      ]
    },
    {
      "cell_type": "code",
      "metadata": {
        "id": "72bdxLHxjzC1",
        "colab_type": "code",
        "colab": {
          "base_uri": "https://localhost:8080/",
          "height": 445
        },
        "outputId": "f892536a-0583-4fd5-a021-f0e263eb5111"
      },
      "source": [
        "df_test.withColumn('bboxes test', size('bboxes')).withColumn('scores test', size('scores')).show()"
      ],
      "execution_count": 169,
      "outputs": [
        {
          "output_type": "stream",
          "text": [
            "+--------------------+--------------------+-----------+-----------+\n",
            "|              bboxes|              scores|bboxes test|scores test|\n",
            "+--------------------+--------------------+-----------+-----------+\n",
            "|[0.59336024522781...|[0.93980032205581...|         36|          9|\n",
            "|[0.62502855062484...|[0.89926099777221...|         44|         11|\n",
            "|[0.72911220788955...|[0.98777532577514...|         36|          9|\n",
            "|[0.78701549768447...|[0.97126829624176...|         36|          9|\n",
            "|[0.48519986867904...|[0.93738293647766...|         36|          9|\n",
            "|[0.67814970016479...|[0.97286134958267...|         32|          8|\n",
            "|[0.57940828800201...|[0.98793494701385...|         32|          8|\n",
            "|[0.71229845285415...|[0.98705601692199...|         24|          6|\n",
            "|[0.34067243337631...|[0.77425789833068...|         28|          7|\n",
            "|[0.78984218835830...|[0.97743964195251...|         24|          6|\n",
            "|[0.39440840482711...|[0.92999798059463...|         28|          7|\n",
            "|[0.60313117504119...|[0.93863993883132...|         24|          6|\n",
            "|[0.82778960466384...|[0.91649687290191...|         24|          6|\n",
            "|[0.51006656885147...|[0.97323024272918...|         28|          7|\n",
            "|[0.56186217069625...|[0.89469927549362...|         52|         13|\n",
            "|[0.67285186052322...|[0.97309362888336...|         48|         12|\n",
            "|[0.35979881882667...|[0.84619909524917...|         20|          5|\n",
            "|[0.39222764968872...|[0.71783727407455...|         20|          5|\n",
            "|[0.47849225997924...|[0.92085105180740...|         24|          6|\n",
            "|[0.51487535238265...|[0.81251215934753...|         16|          4|\n",
            "+--------------------+--------------------+-----------+-----------+\n",
            "only showing top 20 rows\n",
            "\n"
          ],
          "name": "stdout"
        }
      ]
    },
    {
      "cell_type": "markdown",
      "metadata": {
        "id": "R9IEO0298Z3C",
        "colab_type": "text"
      },
      "source": [
        "# Compute Velocity and Group Size"
      ]
    },
    {
      "cell_type": "code",
      "metadata": {
        "id": "JwRM-h2B6jzE",
        "colab_type": "code",
        "colab": {}
      },
      "source": [
        "def compute_velocities(cols, fps=2, threshold=0.5):\n",
        "    # Assume frame_1 = [x_i, y_i, x_{i+1}, y_{i+1}, ...]\n",
        "    f_1 = iter(cols[0])\n",
        "    f_2 = iter(cols[1])\n",
        "    frame_1 = list(zip(f_1, f_1))\n",
        "    frame_2 = list(zip(f_2, f_2))\n",
        "    \n",
        "    val_1 = {k: v for k, v in enumerate(frame_1)}\n",
        "    val_2 = {k: v for k, v in enumerate(frame_2)}\n",
        "\n",
        "    # Compute pairwise distances\n",
        "    distances = {}\n",
        "    for i in range(len(frame_1)):\n",
        "        for j in range(len(frame_2)):\n",
        "            # Define distance between two ids (from separate frames) as\n",
        "            # the max difference between x coord and y coord\n",
        "#             distances[i, j] = max(\n",
        "#                 abs(val_1[i][0] - val_2[j][0]), abs(val_1[i][1] - val_2[j][1]))\n",
        "            # Alternatively, use Euclidean distance\n",
        "            distances[i, j] = np.sqrt(\n",
        "                (val_1[i][0] - val_2[j][0]) ** 2 + (val_1[i][1] - val_2[j][1]) ** 2)\n",
        "\n",
        "    # Assigned ids from frame 1 (reference frame), {id_i: vel_i}\n",
        "    velocities = dict()\n",
        "\n",
        "    # Assigned ids from frame 2 (with values as match in frame 1)\n",
        "    targets = dict()\n",
        "    num_assigned = 0\n",
        "    num_ids = min(len(frame_1), len(frame_2))\n",
        "\n",
        "    # Sort distances by key: (id in frame 1, id in frame 2)\n",
        "    pairs = sorted(distances.items(), key=lambda v:v[1])\n",
        "    for p, dist in pairs:\n",
        "        # Stop assigning ids when the distance exceeds a user-defined threshold\n",
        "        # i.e. this covers the case when a person leaves one end of the image\n",
        "        # and another person enters at the opposite side. We should not match\n",
        "        # these ids to each other.\n",
        "        if dist > threshold:\n",
        "            break\n",
        "\n",
        "        # Found closest ids between frames\n",
        "        if p[0] not in velocities and p[1] not in targets and num_assigned < num_ids:\n",
        "            num_assigned += 1\n",
        "            # Velocity (distance units per second)\n",
        "            velocities[p[0]] = dist * fps\n",
        "            targets[p[1]] = p[0]\n",
        "\n",
        "            \n",
        "    return [float(v) for v in velocities.values()]\n",
        "\n",
        "  \n",
        "def dfs_all(graph):\n",
        "    def dfs(node, graph):\n",
        "        stack = [node]\n",
        "        cc = [node]\n",
        "        while stack:\n",
        "            u = stack.pop()\n",
        "            for v in graph[u]:\n",
        "                if not visited[v]:\n",
        "                    visited[v] = True\n",
        "                    cc.append(v)\n",
        "                    stack.append(v)\n",
        "        return cc\n",
        "\n",
        "    ccs = []\n",
        "    visited = [False for _ in range(len(graph))]\n",
        "    for i in range(len(graph)):\n",
        "        if not visited[i]:\n",
        "            visited[i] = True\n",
        "            cc = dfs(i, graph)\n",
        "            ccs.append(cc)\n",
        "    return list(map(len, ccs))\n",
        "\n",
        "  \n",
        "def compute_groups(positions, threshold=0.1):\n",
        "    p_1 = iter(positions)\n",
        "    positions = list(zip(p_1, p_1))\n",
        "                   \n",
        "    # Compute pairwise distances\n",
        "    graph = {i: set() for i in range(len(positions))}\n",
        "    for i in range(len(positions)):\n",
        "        for j in range(i, len(positions)):\n",
        "            # Euclidean distance between two people\n",
        "            dist = np.sqrt(\n",
        "                (positions[i][0] - positions[j][0]) ** 2 + (positions[i][1] - positions[j][1]) ** 2)\n",
        "            # Add edge to graph \n",
        "            if dist < threshold:\n",
        "                graph[i].add(j)\n",
        "                graph[j].add(i)\n",
        "    lengths = dfs_all(graph)           \n",
        "    return lengths"
      ],
      "execution_count": 0,
      "outputs": []
    },
    {
      "cell_type": "markdown",
      "metadata": {
        "id": "8YzPdjAQ8YIN",
        "colab_type": "text"
      },
      "source": [
        "# UDFs"
      ]
    },
    {
      "cell_type": "code",
      "metadata": {
        "id": "2exW6frCbtP7",
        "colab_type": "code",
        "colab": {}
      },
      "source": [
        "def parse_arr(arr_str):\n",
        "    elements = re.split(r'\\s*', arr_str.replace('[', '').replace(']', '').strip())\n",
        "    result = [float(x.strip()) for x in elements]\n",
        "    return result\n",
        "\n",
        "def drop_zeros(columns):\n",
        "    return columns[0][:columns[-1]]\n",
        "\n",
        "def drop_zeros_bbox(columns):\n",
        "    return columns[0][:columns[-1]*4]\n",
        "  \n",
        "def find_people_indices(classes):\n",
        "    return [i for i, val in enumerate(classes) if val == 1.0]\n",
        "  \n",
        "def filter_people(columns):\n",
        "    return list(np.array(columns[0])[[0, 1]])\n",
        "#     return list(np.array(columns[0])[columns[-1]])\n",
        "  \n",
        "def filter_people_bbox(columns):\n",
        "    return [columns[0][4*i:i+4] for i in columns[-1]]  \n",
        "  \n",
        "def find_zeros(scores):\n",
        "    return scores.index(0.)\n",
        "\n",
        "def count(column):\n",
        "    return len(column)\n",
        "  \n",
        "def sum_vals(column):\n",
        "    return sum(column)\n",
        "  \n",
        "def avg_vals(columns):\n",
        "    return columns[1] / columns[0]\n",
        "  \n",
        "def center_pos(values):\n",
        "    res = []\n",
        "    for i in range(int(len(values)/4)):\n",
        "        y1, x1, y2, x2 = values[4*i:4*i+4]\n",
        "        x_mean, y_mean = round(float(x1+x2)/2, 3), round(float(y1+y2)/2, 3)\n",
        "        res.extend([x_mean, y_mean])\n",
        "    return res"
      ],
      "execution_count": 0,
      "outputs": []
    },
    {
      "cell_type": "code",
      "metadata": {
        "id": "DS2CsxSUggwh",
        "colab_type": "code",
        "colab": {}
      },
      "source": [
        "parse_udf = udf(parse_arr, ArrayType(DoubleType()))\n",
        "filter_udf = udf(find_zeros, IntegerType())\n",
        "people_udf = udf(find_people_indices, ArrayType(IntegerType()))\n",
        "count_udf = udf(count, IntegerType())\n",
        "sum_udf = udf(sum_vals, IntegerType())\n",
        "sum_floats_udf = udf(sum_vals, DoubleType())\n",
        "avg_udf = udf(lambda arr: avg_vals(arr), DoubleType())\n",
        "center_udf = udf(center_pos, ArrayType(FloatType()))\n",
        "velocity_udf = udf(lambda arr: compute_velocities(arr), ArrayType(DoubleType()))\n",
        "group_udf = udf(compute_groups, ArrayType(IntegerType()))\n",
        "\n",
        "# Filter out null predictions (score of 0)\n",
        "filter_cols_udf = udf(lambda arr: drop_zeros(arr), ArrayType(DoubleType()))\n",
        "filter_cols_ppl_udf = udf(lambda arr: drop_zeros(arr), ArrayType(IntegerType()))\n",
        "filter_cols_bbox_udf = udf(lambda arr: drop_zeros_bbox(arr), ArrayType(DoubleType()))\n",
        "\n",
        "# Store results from valid people\n",
        "# filter_people_udf = udf(lambda arr: filter_people(arr), ArrayType(DoubleType()))\n",
        "# filter_people_bbox_udf = udf(lambda arr: filter_people_bbox(arr), ArrayType(DoubleType()))"
      ],
      "execution_count": 0,
      "outputs": []
    },
    {
      "cell_type": "markdown",
      "metadata": {
        "id": "YRJEGj8dWHac",
        "colab_type": "text"
      },
      "source": [
        "# Window size for pairwise shifting"
      ]
    },
    {
      "cell_type": "code",
      "metadata": {
        "id": "czV9xoexWKka",
        "colab_type": "code",
        "colab": {}
      },
      "source": [
        "w = Window().partitionBy().orderBy(col(\"frame\"))"
      ],
      "execution_count": 0,
      "outputs": []
    },
    {
      "cell_type": "markdown",
      "metadata": {
        "id": "A88Tq50vWEJY",
        "colab_type": "text"
      },
      "source": [
        "# Modify and Create Columns"
      ]
    },
    {
      "cell_type": "code",
      "metadata": {
        "id": "mW5QnXx-clQW",
        "colab_type": "code",
        "colab": {
          "base_uri": "https://localhost:8080/",
          "height": 465
        },
        "outputId": "3d5833f3-cf01-45ab-ec03-cf16f0973bbe"
      },
      "source": [
        "df = df.withColumn('timestamp', df['timestamp'].cast('timestamp'))\n",
        "df = df.withColumn('bboxes', parse_udf('bboxes'))\n",
        "df = df.withColumn('scores', parse_udf('scores'))\n",
        "df = df.withColumn('classes', parse_udf('classes'))\n",
        "df = df.withColumn('num_people', filter_udf('scores'))\n",
        "df = df.withColumn('people_indices', people_udf('classes'))\n",
        "df = df.withColumn('scores', filter_cols_udf(struct('scores', 'num_people')))\n",
        "df = df.withColumn('classes', filter_cols_udf(struct('classes', 'num_people')))\n",
        "df = df.withColumn('bboxes', filter_cols_bbox_udf(struct('bboxes', 'num_people')))\n",
        "df = df.withColumn('people_indices', filter_cols_ppl_udf(struct('people_indices', 'num_people')))\n",
        "df = df.withColumn('frame', df['frame'].cast(LongType()))\n",
        "df = df.withColumn('centers', center_udf('bboxes'))\n",
        "df = df.withColumn('group_sizes', group_udf('centers'))\n",
        "df = df.withColumn('num_groups', count_udf('group_sizes'))\n",
        "df = df.withColumn('next_frame_centers', lag(\"centers\", -1).over(w)).na.drop()\n",
        "df = df.withColumn('velocities', velocity_udf(struct('centers', 'next_frame_centers')))\n",
        "df.show()"
      ],
      "execution_count": 161,
      "outputs": [
        {
          "output_type": "stream",
          "text": [
            "+---+--------------------+-----+--------------------+--------------------+--------------------+----------+--------------------+--------------------+--------------------+----------+--------------------+--------------------+\n",
            "|_c0|           timestamp|frame|              bboxes|              scores|             classes|num_people|      people_indices|             centers|         group_sizes|num_groups|  next_frame_centers|          velocities|\n",
            "+---+--------------------+-----+--------------------+--------------------+--------------------+----------+--------------------+--------------------+--------------------+----------+--------------------+--------------------+\n",
            "|  0|2019-04-06 01:54:...|    0|[0.5924571, 0.459...|[0.9862345, 0.984...|[1.0, 8.0, 1.0, 1...|        13|[0, 2, 3, 4, 5, 6...|[0.469, 0.639, 0....|[1, 1, 1, 7, 1, 1...|         7|[0.734, 0.685, 0....|[0.00282839070986...|\n",
            "|  1|2019-04-06 01:54:...|    1|[0.55876905, 0.61...|[0.97783583, 0.97...|[8.0, 1.0, 1.0, 1...|        12|[1, 2, 3, 4, 5, 6...|[0.734, 0.685, 0....|  [1, 1, 5, 1, 3, 1]|         6|[0.734, 0.684, 0....|[0.00199997425079...|\n",
            "|  2|2019-04-06 01:54:...|    2|[0.55879766, 0.61...|[0.97587866, 0.97...|[8.0, 1.0, 1.0, 1...|        11|[1, 2, 3, 4, 5, 7...|[0.734, 0.684, 0....|[1, 1, 4, 1, 2, 1...|         7|[0.473, 0.635, 0....|[0.0, 0.001999974...|\n",
            "|  3|2019-04-06 01:54:...|    3|[0.585739, 0.4640...|[0.98206156, 0.97...|[1.0, 8.0, 1.0, 1...|        17|[0, 2, 3, 4, 5, 6...|[0.473, 0.635, 0....|[1, 1, 1, 7, 3, 1...|         8|[0.475, 0.635, 0....|[0.00199997425079...|\n",
            "|  4|2019-04-06 01:54:...|    4|[0.5861195, 0.465...|[0.9818289, 0.980...|[1.0, 8.0, 1.0, 1...|        11|[0, 2, 3, 4, 5, 6...|[0.475, 0.635, 0....|  [1, 1, 4, 1, 2, 2]|         6|[0.735, 0.685, 0....|[0.0, 0.001999974...|\n",
            "|  5|2019-04-06 01:54:...|    5|[0.5595339, 0.615...|[0.98193616, 0.96...|[8.0, 1.0, 1.0, 1...|        13|[1, 2, 3, 4, 5, 6...|[0.735, 0.685, 0....|[1, 1, 1, 6, 1, 1...|         8|[0.736, 0.686, 0....|[0.0, 0.001999974...|\n",
            "|  6|2019-04-06 01:54:...|    6|[0.56109095, 0.61...|[0.98374695, 0.95...|[8.0, 1.0, 1.0, 1...|        13|[1, 2, 3, 4, 5, 6...|[0.736, 0.686, 0....|[1, 2, 1, 1, 6, 1...|         7|[0.518, 0.904, 0....|[0.0, 0.0, 0.0019...|\n",
            "|  7|2019-04-06 01:54:...|    7|[0.843129, 0.5024...|[0.9861422, 0.983...|[1.0, 8.0, 1.0, 1...|        17|[0, 2, 3, 4, 5, 6...|[0.518, 0.904, 0....| [1, 1, 2, 1, 11, 1]|         6|[0.515, 0.901, 0....|[0.0, 0.001999974...|\n",
            "|  8|2019-04-06 01:54:...|    8|[0.84246117, 0.49...|[0.9946509, 0.982...|[1.0, 8.0, 1.0, 1...|        14|[0, 2, 3, 4, 5, 6...|[0.515, 0.901, 0....|  [1, 1, 1, 9, 1, 1]|         6|[0.511, 0.903, 0....|[0.00199997425079...|\n",
            "|  9|2019-04-06 01:54:...|    9|[0.8466456, 0.494...|[0.993614, 0.9804...|[1.0, 8.0, 1.0, 1...|        17|[0, 2, 3, 4, 5, 6...|[0.511, 0.903, 0....|    [2, 1, 1, 12, 1]|         5|[0.736, 0.684, 0....|[0.0, 0.001999974...|\n",
            "| 10|2019-04-06 01:54:...|   10|[0.5586031, 0.616...|[0.9820353, 0.975...|[8.0, 1.0, 1.0, 1...|        13|[1, 2, 3, 4, 5, 6...|[0.736, 0.684, 0....|        [1, 2, 9, 1]|         4|[0.731, 0.68, 0.5...|[0.00199997425079...|\n",
            "| 11|2019-04-06 01:54:...|   11|[0.55206454, 0.61...|[0.98212767, 0.94...|[8.0, 1.0, 1.0, 1...|         8|[1, 2, 3, 4, 5, 6...|[0.731, 0.68, 0.5...|     [1, 1, 3, 1, 2]|         5|[0.731, 0.68, 0.5...|[0.0, 0.004472078...|\n",
            "| 12|2019-04-06 01:54:...|   12|[0.55184585, 0.60...|[0.9841881, 0.975...|[8.0, 1.0, 1.0, 1...|        11|[1, 2, 3, 4, 5, 6...|[0.731, 0.68, 0.5...|[1, 1, 1, 1, 5, 1...|         7|[0.736, 0.684, 0....|[0.0, 0.004472131...|\n",
            "| 13|2019-04-06 01:54:...|   13|[0.55508906, 0.61...|[0.97896564, 0.89...|[8.0, 1.0, 1.0, 1...|        11|[1, 2, 3, 4, 5, 6...|[0.736, 0.684, 0....|     [1, 1, 1, 7, 1]|         5|[0.731, 0.683, 0....|[0.00200003385543...|\n",
            "| 14|2019-04-06 01:54:...|   14|[0.54795176, 0.60...|[0.97637206, 0.74...|[8.0, 1.0, 1.0, 1...|        11|[1, 2, 3, 4, 5, 6...|[0.731, 0.683, 0....|     [1, 2, 1, 6, 1]|         5|[0.73, 0.683, 0.5...|[0.00199997425079...|\n",
            "| 15|2019-04-06 01:54:...|   15|[0.5475777, 0.605...|[0.97996694, 0.95...|[8.0, 1.0, 1.0, 1...|        11|[1, 2, 3, 4, 5, 6...|[0.73, 0.683, 0.5...|     [1, 1, 1, 7, 1]|         5|[0.735, 0.685, 0....|[0.00282843285703...|\n",
            "| 16|2019-04-06 01:54:...|   16|[0.5547014, 0.609...|[0.9811473, 0.950...|[8.0, 1.0, 1.0, 1...|        11|[1, 2, 3, 4, 5, 6...|[0.735, 0.685, 0....|     [1, 1, 1, 7, 1]|         5|[0.735, 0.684, 0....|[0.00199997425079...|\n",
            "| 17|2019-04-06 01:54:...|   17|[0.5535446, 0.608...|[0.9806847, 0.954...|[8.0, 1.0, 1.0, 1...|         7|[1, 2, 3, 4, 5, 6...|[0.735, 0.684, 0....|     [1, 1, 1, 2, 2]|         5|[0.734, 0.685, 0....|[0.00199997425079...|\n",
            "| 18|2019-04-06 01:54:...|   18|[0.557643, 0.6125...|[0.99096656, 0.93...|[8.0, 1.0, 1.0, 1...|        13|[1, 2, 3, 4, 5, 6...|[0.734, 0.685, 0....|       [1, 1, 1, 10]|         4|[0.735, 0.686, 0....|[0.00282839070986...|\n",
            "| 19|2019-04-06 01:54:...|   19|[0.55841905, 0.61...|[0.99026734, 0.94...|[8.0, 1.0, 1.0, 1...|        10|[1, 2, 3, 4, 5, 6...|[0.735, 0.686, 0....|  [1, 1, 1, 3, 3, 1]|         6|[0.734, 0.685, 0....|[0.00282839070986...|\n",
            "+---+--------------------+-----+--------------------+--------------------+--------------------+----------+--------------------+--------------------+--------------------+----------+--------------------+--------------------+\n",
            "only showing top 20 rows\n",
            "\n"
          ],
          "name": "stdout"
        }
      ]
    },
    {
      "cell_type": "code",
      "metadata": {
        "id": "3WTFP3YZW7VU",
        "colab_type": "code",
        "colab": {}
      },
      "source": [
        "df = df.withColumn('num_velocities', count_udf('velocities')).withColumn('sum_velocities', sum_floats_udf('velocities'))"
      ],
      "execution_count": 0,
      "outputs": []
    },
    {
      "cell_type": "code",
      "metadata": {
        "id": "lPEmCTPwkenp",
        "colab_type": "code",
        "colab": {
          "base_uri": "https://localhost:8080/",
          "height": 465
        },
        "outputId": "068d21b8-2f95-4f6b-cc90-407bb9e3354e"
      },
      "source": [
        "df.show()"
      ],
      "execution_count": 171,
      "outputs": [
        {
          "output_type": "stream",
          "text": [
            "+---+--------------------+-----+--------------------+--------------------+--------------------+----------+--------------------+--------------------+--------------------+----------+--------------------+--------------------+--------------+--------------------+\n",
            "|_c0|           timestamp|frame|              bboxes|              scores|             classes|num_people|      people_indices|             centers|         group_sizes|num_groups|  next_frame_centers|          velocities|num_velocities|      sum_velocities|\n",
            "+---+--------------------+-----+--------------------+--------------------+--------------------+----------+--------------------+--------------------+--------------------+----------+--------------------+--------------------+--------------+--------------------+\n",
            "|  0|2019-04-06 01:54:...|    0|[0.5924571, 0.459...|[0.9862345, 0.984...|[1.0, 8.0, 1.0, 1...|        13|[0, 2, 3, 4, 5, 6...|[0.469, 0.639, 0....|[1, 1, 1, 7, 1, 1...|         7|[0.734, 0.685, 0....|[0.00282839070986...|            12|  0.8925704429492411|\n",
            "|  1|2019-04-06 01:54:...|    1|[0.55876905, 0.61...|[0.97783583, 0.97...|[8.0, 1.0, 1.0, 1...|        12|[1, 2, 3, 4, 5, 6...|[0.734, 0.685, 0....|  [1, 1, 5, 1, 3, 1]|         6|[0.734, 0.684, 0....|[0.00199997425079...|            11|  1.0302060222587919|\n",
            "|  2|2019-04-06 01:54:...|    2|[0.55879766, 0.61...|[0.97587866, 0.97...|[8.0, 1.0, 1.0, 1...|        11|[1, 2, 3, 4, 5, 7...|[0.734, 0.684, 0....|[1, 1, 4, 1, 2, 1...|         7|[0.473, 0.635, 0....|[0.0, 0.001999974...|            11|0.050717584121072565|\n",
            "|  3|2019-04-06 01:54:...|    3|[0.585739, 0.4640...|[0.98206156, 0.97...|[1.0, 8.0, 1.0, 1...|        17|[0, 2, 3, 4, 5, 6...|[0.473, 0.635, 0....|[1, 1, 1, 7, 3, 1...|         8|[0.475, 0.635, 0....|[0.00199997425079...|            11|  0.1816696667878031|\n",
            "|  4|2019-04-06 01:54:...|    4|[0.5861195, 0.465...|[0.9818289, 0.980...|[1.0, 8.0, 1.0, 1...|        11|[0, 2, 3, 4, 5, 6...|[0.475, 0.635, 0....|  [1, 1, 4, 1, 2, 2]|         6|[0.735, 0.685, 0....|[0.0, 0.001999974...|            11|   1.373380312203583|\n",
            "|  5|2019-04-06 01:54:...|    5|[0.5595339, 0.615...|[0.98193616, 0.96...|[8.0, 1.0, 1.0, 1...|        13|[1, 2, 3, 4, 5, 6...|[0.735, 0.685, 0....|[1, 1, 1, 6, 1, 1...|         8|[0.736, 0.686, 0....|[0.0, 0.001999974...|            13|  0.6421965269032593|\n",
            "|  6|2019-04-06 01:54:...|    6|[0.56109095, 0.61...|[0.98374695, 0.95...|[8.0, 1.0, 1.0, 1...|        13|[1, 2, 3, 4, 5, 6...|[0.736, 0.686, 0....|[1, 2, 1, 1, 6, 1...|         7|[0.518, 0.904, 0....|[0.0, 0.0, 0.0019...|            13|  0.4812567433529369|\n",
            "|  7|2019-04-06 01:54:...|    7|[0.843129, 0.5024...|[0.9861422, 0.983...|[1.0, 8.0, 1.0, 1...|        17|[0, 2, 3, 4, 5, 6...|[0.518, 0.904, 0....| [1, 1, 2, 1, 11, 1]|         6|[0.515, 0.901, 0....|[0.0, 0.001999974...|            14| 0.12256660836248241|\n",
            "|  8|2019-04-06 01:54:...|    8|[0.84246117, 0.49...|[0.9946509, 0.982...|[1.0, 8.0, 1.0, 1...|        14|[0, 2, 3, 4, 5, 6...|[0.515, 0.901, 0....|  [1, 1, 1, 9, 1, 1]|         6|[0.511, 0.903, 0....|[0.00199997425079...|            14| 0.47723434808889487|\n",
            "|  9|2019-04-06 01:54:...|    9|[0.8466456, 0.494...|[0.993614, 0.9804...|[1.0, 8.0, 1.0, 1...|        17|[0, 2, 3, 4, 5, 6...|[0.511, 0.903, 0....|    [2, 1, 1, 12, 1]|         5|[0.736, 0.684, 0....|[0.0, 0.001999974...|            13|  0.1679987063322334|\n",
            "| 10|2019-04-06 01:54:...|   10|[0.5586031, 0.616...|[0.9820353, 0.975...|[8.0, 1.0, 1.0, 1...|        13|[1, 2, 3, 4, 5, 6...|[0.736, 0.684, 0....|        [1, 2, 9, 1]|         4|[0.731, 0.68, 0.5...|[0.00199997425079...|             8|   0.725275518024578|\n",
            "| 11|2019-04-06 01:54:...|   11|[0.55206454, 0.61...|[0.98212767, 0.94...|[8.0, 1.0, 1.0, 1...|         8|[1, 2, 3, 4, 5, 6...|[0.731, 0.68, 0.5...|     [1, 1, 3, 1, 2]|         5|[0.731, 0.68, 0.5...|[0.0, 0.004472078...|             8|  0.9446546676416815|\n",
            "| 12|2019-04-06 01:54:...|   12|[0.55184585, 0.60...|[0.9841881, 0.975...|[8.0, 1.0, 1.0, 1...|        11|[1, 2, 3, 4, 5, 6...|[0.731, 0.68, 0.5...|[1, 1, 1, 1, 5, 1...|         7|[0.736, 0.684, 0....|[0.0, 0.004472131...|            11|  0.8064134989193079|\n",
            "| 13|2019-04-06 01:54:...|   13|[0.55508906, 0.61...|[0.97896564, 0.89...|[8.0, 1.0, 1.0, 1...|        11|[1, 2, 3, 4, 5, 6...|[0.736, 0.684, 0....|     [1, 1, 1, 7, 1]|         5|[0.731, 0.683, 0....|[0.00200003385543...|            11|  1.4406403228183373|\n",
            "| 14|2019-04-06 01:54:...|   14|[0.54795176, 0.60...|[0.97637206, 0.74...|[8.0, 1.0, 1.0, 1...|        11|[1, 2, 3, 4, 5, 6...|[0.731, 0.683, 0....|     [1, 2, 1, 6, 1]|         5|[0.73, 0.683, 0.5...|[0.00199997425079...|            11|  0.9874430879480585|\n",
            "| 15|2019-04-06 01:54:...|   15|[0.5475777, 0.605...|[0.97996694, 0.95...|[8.0, 1.0, 1.0, 1...|        11|[1, 2, 3, 4, 5, 6...|[0.73, 0.683, 0.5...|     [1, 1, 1, 7, 1]|         5|[0.735, 0.685, 0....|[0.00282843285703...|            11|    1.11141105620775|\n",
            "| 16|2019-04-06 01:54:...|   16|[0.5547014, 0.609...|[0.9811473, 0.950...|[8.0, 1.0, 1.0, 1...|        11|[1, 2, 3, 4, 5, 6...|[0.735, 0.685, 0....|     [1, 1, 1, 7, 1]|         5|[0.735, 0.684, 0....|[0.00199997425079...|             7| 0.35025650941649294|\n",
            "| 17|2019-04-06 01:54:...|   17|[0.5535446, 0.608...|[0.9806847, 0.954...|[8.0, 1.0, 1.0, 1...|         7|[1, 2, 3, 4, 5, 6...|[0.735, 0.684, 0....|     [1, 1, 1, 2, 2]|         5|[0.734, 0.685, 0....|[0.00199997425079...|             7|  1.2871217824078882|\n",
            "| 18|2019-04-06 01:54:...|   18|[0.557643, 0.6125...|[0.99096656, 0.93...|[8.0, 1.0, 1.0, 1...|        13|[1, 2, 3, 4, 5, 6...|[0.734, 0.685, 0....|       [1, 1, 1, 10]|         4|[0.735, 0.686, 0....|[0.00282839070986...|            10|  0.9390052152810181|\n",
            "| 19|2019-04-06 01:54:...|   19|[0.55841905, 0.61...|[0.99026734, 0.94...|[8.0, 1.0, 1.0, 1...|        10|[1, 2, 3, 4, 5, 6...|[0.735, 0.686, 0....|  [1, 1, 1, 3, 3, 1]|         6|[0.734, 0.685, 0....|[0.00282839070986...|             9|  0.5211716568762954|\n",
            "+---+--------------------+-----+--------------------+--------------------+--------------------+----------+--------------------+--------------------+--------------------+----------+--------------------+--------------------+--------------+--------------------+\n",
            "only showing top 20 rows\n",
            "\n"
          ],
          "name": "stdout"
        }
      ]
    },
    {
      "cell_type": "markdown",
      "metadata": {
        "id": "bKvkxJXdnTml",
        "colab_type": "text"
      },
      "source": [
        "# Aggregate each 5 minute window to compute:\n",
        "- average group size\n",
        "- average velocity\n",
        "- average number of people detected"
      ]
    },
    {
      "cell_type": "code",
      "metadata": {
        "id": "XTFm1GS0pFvN",
        "colab_type": "code",
        "colab": {}
      },
      "source": [
        ""
      ],
      "execution_count": 0,
      "outputs": []
    },
    {
      "cell_type": "code",
      "metadata": {
        "id": "41j9407Kf92N",
        "colab_type": "code",
        "colab": {}
      },
      "source": [
        "agg_df = df.groupBy(window(\"timestamp\", \"5 minutes\")).agg(avg('num_people'),sum('num_people'),sum('num_groups'),sum('sum_velocities'),sum('num_velocities'))"
      ],
      "execution_count": 0,
      "outputs": []
    },
    {
      "cell_type": "code",
      "metadata": {
        "id": "ihKAFnzS0Ivp",
        "colab_type": "code",
        "colab": {}
      },
      "source": [
        "agg_df = agg_df.withColumn('avg_group_size', avg_udf(struct('sum(num_groups)', 'sum(num_people)'))).withColumn('avg_velocity', avg_udf(struct('sum(num_velocities)', 'sum(sum_velocities)')))"
      ],
      "execution_count": 0,
      "outputs": []
    },
    {
      "cell_type": "code",
      "metadata": {
        "id": "Ooj4MwGl4fgT",
        "colab_type": "code",
        "colab": {
          "base_uri": "https://localhost:8080/",
          "height": 115
        },
        "outputId": "4af13034-31ca-4112-f703-6306cf161374"
      },
      "source": [
        "agg_df.show()"
      ],
      "execution_count": 184,
      "outputs": [
        {
          "output_type": "stream",
          "text": [
            "+--------------------+-----------------+---------------+---------------+-------------------+-------------------+------------------+-------------------+\n",
            "|              window|  avg(num_people)|sum(num_people)|sum(num_groups)|sum(sum_velocities)|sum(num_velocities)|    avg_group_size|       avg_velocity|\n",
            "+--------------------+-----------------+---------------+---------------+-------------------+-------------------+------------------+-------------------+\n",
            "|[2019-04-06 01:50...|8.812338799254476|         468085|         287439|   21477.1833018067|             430217|1.6284672574007006|0.04992174484459401|\n",
            "+--------------------+-----------------+---------------+---------------+-------------------+-------------------+------------------+-------------------+\n",
            "\n"
          ],
          "name": "stdout"
        }
      ]
    },
    {
      "cell_type": "code",
      "metadata": {
        "id": "pUnL1xHBnDtS",
        "colab_type": "code",
        "colab": {
          "base_uri": "https://localhost:8080/",
          "height": 115
        },
        "outputId": "69efc1c8-0310-4c84-b571-ccb8aca7abc0"
      },
      "source": [
        "agg_df.show()"
      ],
      "execution_count": 177,
      "outputs": [
        {
          "output_type": "stream",
          "text": [
            "+--------------------+---------------+---------------+-------------------+-------------------+------------------+-------------------+\n",
            "|              window|sum(num_people)|sum(num_groups)|sum(sum_velocities)|sum(num_velocities)|    avg_group_size|       avg_velocity|\n",
            "+--------------------+---------------+---------------+-------------------+-------------------+------------------+-------------------+\n",
            "|[2019-04-06 01:50...|         468085|         287439|   21477.1833018067|             430217|1.6284672574007006|0.04992174484459401|\n",
            "+--------------------+---------------+---------------+-------------------+-------------------+------------------+-------------------+\n",
            "\n"
          ],
          "name": "stdout"
        }
      ]
    },
    {
      "cell_type": "markdown",
      "metadata": {
        "id": "zc92MjWQnLYP",
        "colab_type": "text"
      },
      "source": [
        "# Extra code"
      ]
    },
    {
      "cell_type": "code",
      "metadata": {
        "id": "zcwbjB05clTr",
        "colab_type": "code",
        "colab": {}
      },
      "source": [
        "w = Window().partitionBy().orderBy(col(\"frame\"))\n",
        "fps = 2\n",
        "\n",
        "# Units of minutes\n",
        "window_minutes = 5\n",
        "window_seconds = window_minutes * 60"
      ],
      "execution_count": 0,
      "outputs": []
    },
    {
      "cell_type": "code",
      "metadata": {
        "id": "8whT0frejpw1",
        "colab_type": "code",
        "colab": {
          "base_uri": "https://localhost:8080/",
          "height": 496
        },
        "outputId": "b2ab757a-8c8a-4b77-8047-8c55d793befc"
      },
      "source": [
        "df.withColumn('shifted', lag(\"group_sizes\", window_seconds * fps).over(w)).na.drop().limit(10).toPandas()"
      ],
      "execution_count": 70,
      "outputs": [
        {
          "output_type": "execute_result",
          "data": {
            "text/html": [
              "<div>\n",
              "<style scoped>\n",
              "    .dataframe tbody tr th:only-of-type {\n",
              "        vertical-align: middle;\n",
              "    }\n",
              "\n",
              "    .dataframe tbody tr th {\n",
              "        vertical-align: top;\n",
              "    }\n",
              "\n",
              "    .dataframe thead th {\n",
              "        text-align: right;\n",
              "    }\n",
              "</style>\n",
              "<table border=\"1\" class=\"dataframe\">\n",
              "  <thead>\n",
              "    <tr style=\"text-align: right;\">\n",
              "      <th></th>\n",
              "      <th>_c0</th>\n",
              "      <th>timestamp</th>\n",
              "      <th>frame</th>\n",
              "      <th>bboxes</th>\n",
              "      <th>scores</th>\n",
              "      <th>classes</th>\n",
              "      <th>num_valid</th>\n",
              "      <th>people_indices</th>\n",
              "      <th>group_sizes</th>\n",
              "      <th>shifted</th>\n",
              "    </tr>\n",
              "  </thead>\n",
              "  <tbody>\n",
              "    <tr>\n",
              "      <th>0</th>\n",
              "      <td>600</td>\n",
              "      <td>2019-04-06 01:54:54.350262</td>\n",
              "      <td>600</td>\n",
              "      <td>[0.5564988, 0.6051574, 0.83079064, 0.8617946, ...</td>\n",
              "      <td>[0.9569086, 0.9345962, 0.9022663, 0.5717952, 0...</td>\n",
              "      <td>[8.0, 1.0, 1.0, 18.0, 49.0, 62.0, 8.0, 10.0, 1...</td>\n",
              "      <td>8</td>\n",
              "      <td>[1, 2, 8, 9, 10, 11, 12, 13, 14, 15, 16, 17, 1...</td>\n",
              "      <td>[100, 3, 4, 1]</td>\n",
              "      <td>[100, 3, 4, 2]</td>\n",
              "    </tr>\n",
              "    <tr>\n",
              "      <th>1</th>\n",
              "      <td>601</td>\n",
              "      <td>2019-04-06 01:54:54.350262</td>\n",
              "      <td>601</td>\n",
              "      <td>[0.55633837, 0.6051136, 0.8308019, 0.8618444, ...</td>\n",
              "      <td>[0.9572116, 0.932251, 0.46985915, 0.39988732, ...</td>\n",
              "      <td>[8.0, 1.0, 8.0, 18.0, 62.0, 49.0, 10.0, 1.0, 1...</td>\n",
              "      <td>7</td>\n",
              "      <td>[1, 7, 8, 9, 10, 11, 12, 13, 14, 15, 16, 17, 1...</td>\n",
              "      <td>[100, 3, 4, 1]</td>\n",
              "      <td>[100, 3, 4, 3]</td>\n",
              "    </tr>\n",
              "    <tr>\n",
              "      <th>2</th>\n",
              "      <td>602</td>\n",
              "      <td>2019-04-06 01:54:54.350262</td>\n",
              "      <td>602</td>\n",
              "      <td>[0.55513835, 0.60421175, 0.8289719, 0.8616411,...</td>\n",
              "      <td>[0.9585405, 0.64866894, 0.54278594, 0.45582318...</td>\n",
              "      <td>[8.0, 1.0, 1.0, 8.0, 62.0, 10.0, 1.0, 1.0, 1.0...</td>\n",
              "      <td>6</td>\n",
              "      <td>[1, 2, 6, 7, 8, 9, 10, 11, 12, 13, 14, 15, 16,...</td>\n",
              "      <td>[100, 3, 4, 0]</td>\n",
              "      <td>[100, 3, 4, 2]</td>\n",
              "    </tr>\n",
              "    <tr>\n",
              "      <th>3</th>\n",
              "      <td>603</td>\n",
              "      <td>2019-04-06 01:54:54.350262</td>\n",
              "      <td>603</td>\n",
              "      <td>[0.55514705, 0.60438603, 0.8283029, 0.861342, ...</td>\n",
              "      <td>[0.95708096, 0.6157852, 0.5999863, 0.45717746,...</td>\n",
              "      <td>[8.0, 1.0, 44.0, 44.0, 8.0, 62.0, 10.0, 1.0, 1...</td>\n",
              "      <td>7</td>\n",
              "      <td>[1, 7, 8, 9, 10, 11, 12, 13, 14, 15, 16, 17, 1...</td>\n",
              "      <td>[100, 3, 4, 2]</td>\n",
              "      <td>[100, 3, 4, 2]</td>\n",
              "    </tr>\n",
              "    <tr>\n",
              "      <th>4</th>\n",
              "      <td>604</td>\n",
              "      <td>2019-04-06 01:54:54.350262</td>\n",
              "      <td>604</td>\n",
              "      <td>[0.55518764, 0.6043623, 0.8274987, 0.86266273,...</td>\n",
              "      <td>[0.95363075, 0.6808314, 0.47482514, 0.41447762...</td>\n",
              "      <td>[8.0, 1.0, 44.0, 8.0, 62.0, 49.0, 10.0, 1.0, 1...</td>\n",
              "      <td>7</td>\n",
              "      <td>[1, 7, 8, 9, 10, 11, 12, 13, 14, 15, 16, 17, 1...</td>\n",
              "      <td>[100, 3, 4, 0]</td>\n",
              "      <td>[100, 3, 4, 0]</td>\n",
              "    </tr>\n",
              "    <tr>\n",
              "      <th>5</th>\n",
              "      <td>605</td>\n",
              "      <td>2019-04-06 01:54:54.350262</td>\n",
              "      <td>605</td>\n",
              "      <td>[0.55474883, 0.6041525, 0.82736427, 0.8620648,...</td>\n",
              "      <td>[0.95424896, 0.92147774, 0.7168982, 0.6419136,...</td>\n",
              "      <td>[8.0, 1.0, 1.0, 1.0, 49.0, 8.0, 62.0, 10.0, 1....</td>\n",
              "      <td>8</td>\n",
              "      <td>[1, 2, 3, 8, 9, 10, 11, 12, 13, 14, 15, 16, 17...</td>\n",
              "      <td>[100, 3, 4, 3]</td>\n",
              "      <td>[100, 3, 4, 2]</td>\n",
              "    </tr>\n",
              "    <tr>\n",
              "      <th>6</th>\n",
              "      <td>606</td>\n",
              "      <td>2019-04-06 01:54:54.350262</td>\n",
              "      <td>606</td>\n",
              "      <td>[0.5549574, 0.6041098, 0.8275656, 0.8619949, 0...</td>\n",
              "      <td>[0.95343703, 0.88541216, 0.7709682, 0.70414233...</td>\n",
              "      <td>[8.0, 1.0, 1.0, 1.0, 49.0, 8.0, 62.0, 1.0, 1.0...</td>\n",
              "      <td>12</td>\n",
              "      <td>[1, 2, 3, 7, 8, 11, 12, 13, 14, 15, 16, 17, 18...</td>\n",
              "      <td>[100, 3, 4, 0]</td>\n",
              "      <td>[100, 3, 4, 2]</td>\n",
              "    </tr>\n",
              "    <tr>\n",
              "      <th>7</th>\n",
              "      <td>607</td>\n",
              "      <td>2019-04-06 01:54:54.350262</td>\n",
              "      <td>607</td>\n",
              "      <td>[0.55539465, 0.60399354, 0.8273619, 0.86194587...</td>\n",
              "      <td>[0.95520896, 0.81845707, 0.76817584, 0.7071279...</td>\n",
              "      <td>[8.0, 1.0, 1.0, 1.0, 1.0, 1.0, 62.0, 8.0, 49.0...</td>\n",
              "      <td>10</td>\n",
              "      <td>[1, 2, 3, 4, 5, 10, 11, 12, 13, 14, 15, 16, 17...</td>\n",
              "      <td>[100, 3, 4, 2]</td>\n",
              "      <td>[100, 3, 4, 0]</td>\n",
              "    </tr>\n",
              "    <tr>\n",
              "      <th>8</th>\n",
              "      <td>608</td>\n",
              "      <td>2019-04-06 01:54:54.350262</td>\n",
              "      <td>608</td>\n",
              "      <td>[0.5522283, 0.61008024, 0.81290096, 0.8692812,...</td>\n",
              "      <td>[0.9290856, 0.59318215, 0.41274893, 0.390738, ...</td>\n",
              "      <td>[8.0, 14.0, 7.0, 1.0, 62.0, 44.0, 1.0, 1.0, 1....</td>\n",
              "      <td>6</td>\n",
              "      <td>[3, 6, 7, 8, 9, 10, 11, 12, 13, 14, 15, 16, 17...</td>\n",
              "      <td>[100, 3, 4, 2]</td>\n",
              "      <td>[100, 3, 4, 0]</td>\n",
              "    </tr>\n",
              "    <tr>\n",
              "      <th>9</th>\n",
              "      <td>609</td>\n",
              "      <td>2019-04-06 01:54:54.350262</td>\n",
              "      <td>609</td>\n",
              "      <td>[0.5529724, 0.610268, 0.81309533, 0.8688983, 0...</td>\n",
              "      <td>[0.9357266, 0.6040579, 0.40961322, 0.3446233, ...</td>\n",
              "      <td>[8.0, 14.0, 1.0, 7.0, 1.0, 1.0, 1.0, 1.0, 1.0,...</td>\n",
              "      <td>4</td>\n",
              "      <td>[2, 4, 5, 6, 7, 8, 9, 10, 11, 12, 13, 14, 15, ...</td>\n",
              "      <td>[100, 3, 4, 0]</td>\n",
              "      <td>[100, 3, 4, 0]</td>\n",
              "    </tr>\n",
              "  </tbody>\n",
              "</table>\n",
              "</div>"
            ],
            "text/plain": [
              "   _c0                   timestamp  frame  \\\n",
              "0  600  2019-04-06 01:54:54.350262    600   \n",
              "1  601  2019-04-06 01:54:54.350262    601   \n",
              "2  602  2019-04-06 01:54:54.350262    602   \n",
              "3  603  2019-04-06 01:54:54.350262    603   \n",
              "4  604  2019-04-06 01:54:54.350262    604   \n",
              "5  605  2019-04-06 01:54:54.350262    605   \n",
              "6  606  2019-04-06 01:54:54.350262    606   \n",
              "7  607  2019-04-06 01:54:54.350262    607   \n",
              "8  608  2019-04-06 01:54:54.350262    608   \n",
              "9  609  2019-04-06 01:54:54.350262    609   \n",
              "\n",
              "                                              bboxes  \\\n",
              "0  [0.5564988, 0.6051574, 0.83079064, 0.8617946, ...   \n",
              "1  [0.55633837, 0.6051136, 0.8308019, 0.8618444, ...   \n",
              "2  [0.55513835, 0.60421175, 0.8289719, 0.8616411,...   \n",
              "3  [0.55514705, 0.60438603, 0.8283029, 0.861342, ...   \n",
              "4  [0.55518764, 0.6043623, 0.8274987, 0.86266273,...   \n",
              "5  [0.55474883, 0.6041525, 0.82736427, 0.8620648,...   \n",
              "6  [0.5549574, 0.6041098, 0.8275656, 0.8619949, 0...   \n",
              "7  [0.55539465, 0.60399354, 0.8273619, 0.86194587...   \n",
              "8  [0.5522283, 0.61008024, 0.81290096, 0.8692812,...   \n",
              "9  [0.5529724, 0.610268, 0.81309533, 0.8688983, 0...   \n",
              "\n",
              "                                              scores  \\\n",
              "0  [0.9569086, 0.9345962, 0.9022663, 0.5717952, 0...   \n",
              "1  [0.9572116, 0.932251, 0.46985915, 0.39988732, ...   \n",
              "2  [0.9585405, 0.64866894, 0.54278594, 0.45582318...   \n",
              "3  [0.95708096, 0.6157852, 0.5999863, 0.45717746,...   \n",
              "4  [0.95363075, 0.6808314, 0.47482514, 0.41447762...   \n",
              "5  [0.95424896, 0.92147774, 0.7168982, 0.6419136,...   \n",
              "6  [0.95343703, 0.88541216, 0.7709682, 0.70414233...   \n",
              "7  [0.95520896, 0.81845707, 0.76817584, 0.7071279...   \n",
              "8  [0.9290856, 0.59318215, 0.41274893, 0.390738, ...   \n",
              "9  [0.9357266, 0.6040579, 0.40961322, 0.3446233, ...   \n",
              "\n",
              "                                             classes  num_valid  \\\n",
              "0  [8.0, 1.0, 1.0, 18.0, 49.0, 62.0, 8.0, 10.0, 1...          8   \n",
              "1  [8.0, 1.0, 8.0, 18.0, 62.0, 49.0, 10.0, 1.0, 1...          7   \n",
              "2  [8.0, 1.0, 1.0, 8.0, 62.0, 10.0, 1.0, 1.0, 1.0...          6   \n",
              "3  [8.0, 1.0, 44.0, 44.0, 8.0, 62.0, 10.0, 1.0, 1...          7   \n",
              "4  [8.0, 1.0, 44.0, 8.0, 62.0, 49.0, 10.0, 1.0, 1...          7   \n",
              "5  [8.0, 1.0, 1.0, 1.0, 49.0, 8.0, 62.0, 10.0, 1....          8   \n",
              "6  [8.0, 1.0, 1.0, 1.0, 49.0, 8.0, 62.0, 1.0, 1.0...         12   \n",
              "7  [8.0, 1.0, 1.0, 1.0, 1.0, 1.0, 62.0, 8.0, 49.0...         10   \n",
              "8  [8.0, 14.0, 7.0, 1.0, 62.0, 44.0, 1.0, 1.0, 1....          6   \n",
              "9  [8.0, 14.0, 1.0, 7.0, 1.0, 1.0, 1.0, 1.0, 1.0,...          4   \n",
              "\n",
              "                                      people_indices     group_sizes  \\\n",
              "0  [1, 2, 8, 9, 10, 11, 12, 13, 14, 15, 16, 17, 1...  [100, 3, 4, 1]   \n",
              "1  [1, 7, 8, 9, 10, 11, 12, 13, 14, 15, 16, 17, 1...  [100, 3, 4, 1]   \n",
              "2  [1, 2, 6, 7, 8, 9, 10, 11, 12, 13, 14, 15, 16,...  [100, 3, 4, 0]   \n",
              "3  [1, 7, 8, 9, 10, 11, 12, 13, 14, 15, 16, 17, 1...  [100, 3, 4, 2]   \n",
              "4  [1, 7, 8, 9, 10, 11, 12, 13, 14, 15, 16, 17, 1...  [100, 3, 4, 0]   \n",
              "5  [1, 2, 3, 8, 9, 10, 11, 12, 13, 14, 15, 16, 17...  [100, 3, 4, 3]   \n",
              "6  [1, 2, 3, 7, 8, 11, 12, 13, 14, 15, 16, 17, 18...  [100, 3, 4, 0]   \n",
              "7  [1, 2, 3, 4, 5, 10, 11, 12, 13, 14, 15, 16, 17...  [100, 3, 4, 2]   \n",
              "8  [3, 6, 7, 8, 9, 10, 11, 12, 13, 14, 15, 16, 17...  [100, 3, 4, 2]   \n",
              "9  [2, 4, 5, 6, 7, 8, 9, 10, 11, 12, 13, 14, 15, ...  [100, 3, 4, 0]   \n",
              "\n",
              "          shifted  \n",
              "0  [100, 3, 4, 2]  \n",
              "1  [100, 3, 4, 3]  \n",
              "2  [100, 3, 4, 2]  \n",
              "3  [100, 3, 4, 2]  \n",
              "4  [100, 3, 4, 0]  \n",
              "5  [100, 3, 4, 2]  \n",
              "6  [100, 3, 4, 2]  \n",
              "7  [100, 3, 4, 0]  \n",
              "8  [100, 3, 4, 0]  \n",
              "9  [100, 3, 4, 0]  "
            ]
          },
          "metadata": {
            "tags": []
          },
          "execution_count": 70
        }
      ]
    },
    {
      "cell_type": "code",
      "metadata": {
        "id": "gN4ZvkuvrSSm",
        "colab_type": "code",
        "colab": {
          "base_uri": "https://localhost:8080/",
          "height": 496
        },
        "outputId": "9e271ab5-02d8-4a8a-af5f-9f4863baacdf"
      },
      "source": [
        "df.limit(10).toPandas()"
      ],
      "execution_count": 67,
      "outputs": [
        {
          "output_type": "execute_result",
          "data": {
            "text/html": [
              "<div>\n",
              "<style scoped>\n",
              "    .dataframe tbody tr th:only-of-type {\n",
              "        vertical-align: middle;\n",
              "    }\n",
              "\n",
              "    .dataframe tbody tr th {\n",
              "        vertical-align: top;\n",
              "    }\n",
              "\n",
              "    .dataframe thead th {\n",
              "        text-align: right;\n",
              "    }\n",
              "</style>\n",
              "<table border=\"1\" class=\"dataframe\">\n",
              "  <thead>\n",
              "    <tr style=\"text-align: right;\">\n",
              "      <th></th>\n",
              "      <th>_c0</th>\n",
              "      <th>timestamp</th>\n",
              "      <th>frame</th>\n",
              "      <th>bboxes</th>\n",
              "      <th>scores</th>\n",
              "      <th>classes</th>\n",
              "      <th>num_valid</th>\n",
              "      <th>people_indices</th>\n",
              "      <th>group_sizes</th>\n",
              "    </tr>\n",
              "  </thead>\n",
              "  <tbody>\n",
              "    <tr>\n",
              "      <th>0</th>\n",
              "      <td>0</td>\n",
              "      <td>2019-04-06 01:54:54.350262</td>\n",
              "      <td>0</td>\n",
              "      <td>[0.5924571, 0.45952806, 0.686525, 0.47779706, ...</td>\n",
              "      <td>[0.9862345, 0.9846124, 0.96301347, 0.85467225,...</td>\n",
              "      <td>[1.0, 8.0, 1.0, 1.0, 1.0, 1.0, 1.0, 1.0, 1.0, ...</td>\n",
              "      <td>13</td>\n",
              "      <td>[0, 2, 3, 4, 5, 6, 7, 8, 9, 10, 11, 12, 13, 14...</td>\n",
              "      <td>[100, 3, 4, 2]</td>\n",
              "    </tr>\n",
              "    <tr>\n",
              "      <th>1</th>\n",
              "      <td>1</td>\n",
              "      <td>2019-04-06 01:54:54.350262</td>\n",
              "      <td>1</td>\n",
              "      <td>[0.55876905, 0.6130008, 0.81024545, 0.8550498,...</td>\n",
              "      <td>[0.97783583, 0.97685575, 0.7071147, 0.66160876...</td>\n",
              "      <td>[8.0, 1.0, 1.0, 1.0, 1.0, 1.0, 1.0, 1.0, 1.0, ...</td>\n",
              "      <td>12</td>\n",
              "      <td>[1, 2, 3, 4, 5, 6, 7, 8, 9, 11, 12, 13, 14, 15...</td>\n",
              "      <td>[100, 3, 4, 3]</td>\n",
              "    </tr>\n",
              "    <tr>\n",
              "      <th>2</th>\n",
              "      <td>2</td>\n",
              "      <td>2019-04-06 01:54:54.350262</td>\n",
              "      <td>2</td>\n",
              "      <td>[0.55879766, 0.612742, 0.80924284, 0.8545442, ...</td>\n",
              "      <td>[0.97587866, 0.97196656, 0.8321477, 0.82237643...</td>\n",
              "      <td>[8.0, 1.0, 1.0, 1.0, 1.0, 1.0, 16.0, 1.0, 1.0,...</td>\n",
              "      <td>11</td>\n",
              "      <td>[1, 2, 3, 4, 5, 7, 8, 9, 11, 12, 13, 14, 15, 1...</td>\n",
              "      <td>[100, 3, 4, 2]</td>\n",
              "    </tr>\n",
              "    <tr>\n",
              "      <th>3</th>\n",
              "      <td>3</td>\n",
              "      <td>2019-04-06 01:54:54.350262</td>\n",
              "      <td>3</td>\n",
              "      <td>[0.585739, 0.4640477, 0.683594, 0.48238125, 0....</td>\n",
              "      <td>[0.98206156, 0.97774976, 0.93095094, 0.8632616...</td>\n",
              "      <td>[1.0, 8.0, 1.0, 1.0, 1.0, 1.0, 1.0, 1.0, 1.0, ...</td>\n",
              "      <td>17</td>\n",
              "      <td>[0, 2, 3, 4, 5, 6, 7, 8, 9, 10, 11, 12, 13, 14...</td>\n",
              "      <td>[100, 3, 4, 2]</td>\n",
              "    </tr>\n",
              "    <tr>\n",
              "      <th>4</th>\n",
              "      <td>4</td>\n",
              "      <td>2019-04-06 01:54:54.350262</td>\n",
              "      <td>4</td>\n",
              "      <td>[0.5861195, 0.46531188, 0.68410474, 0.48530918...</td>\n",
              "      <td>[0.9818289, 0.98028356, 0.72216564, 0.7162687,...</td>\n",
              "      <td>[1.0, 8.0, 1.0, 1.0, 1.0, 1.0, 1.0, 1.0, 1.0, ...</td>\n",
              "      <td>11</td>\n",
              "      <td>[0, 2, 3, 4, 5, 6, 7, 8, 9, 10, 11, 12, 13, 14...</td>\n",
              "      <td>[100, 3, 4, 0]</td>\n",
              "    </tr>\n",
              "    <tr>\n",
              "      <th>5</th>\n",
              "      <td>5</td>\n",
              "      <td>2019-04-06 01:54:54.350262</td>\n",
              "      <td>5</td>\n",
              "      <td>[0.5595339, 0.6155165, 0.8104876, 0.8549662, 0...</td>\n",
              "      <td>[0.98193616, 0.96152925, 0.7210958, 0.7036052,...</td>\n",
              "      <td>[8.0, 1.0, 1.0, 1.0, 1.0, 1.0, 1.0, 1.0, 1.0, ...</td>\n",
              "      <td>13</td>\n",
              "      <td>[1, 2, 3, 4, 5, 6, 7, 8, 9, 10, 11, 12, 13, 14...</td>\n",
              "      <td>[100, 3, 4, 2]</td>\n",
              "    </tr>\n",
              "    <tr>\n",
              "      <th>6</th>\n",
              "      <td>6</td>\n",
              "      <td>2019-04-06 01:54:54.350262</td>\n",
              "      <td>6</td>\n",
              "      <td>[0.56109095, 0.6154148, 0.8113807, 0.8556289, ...</td>\n",
              "      <td>[0.98374695, 0.95496714, 0.9484551, 0.85788023...</td>\n",
              "      <td>[8.0, 1.0, 1.0, 1.0, 1.0, 1.0, 1.0, 1.0, 1.0, ...</td>\n",
              "      <td>13</td>\n",
              "      <td>[1, 2, 3, 4, 5, 6, 7, 8, 9, 10, 11, 12, 13, 14...</td>\n",
              "      <td>[100, 3, 4, 2]</td>\n",
              "    </tr>\n",
              "    <tr>\n",
              "      <th>7</th>\n",
              "      <td>7</td>\n",
              "      <td>2019-04-06 01:54:54.350262</td>\n",
              "      <td>7</td>\n",
              "      <td>[0.843129, 0.5024977, 0.96392983, 0.5332773, 0...</td>\n",
              "      <td>[0.9861422, 0.98345333, 0.98037064, 0.88236, 0...</td>\n",
              "      <td>[1.0, 8.0, 1.0, 1.0, 1.0, 1.0, 1.0, 1.0, 1.0, ...</td>\n",
              "      <td>17</td>\n",
              "      <td>[0, 2, 3, 4, 5, 6, 7, 8, 9, 10, 11, 12, 13, 14...</td>\n",
              "      <td>[100, 3, 4, 0]</td>\n",
              "    </tr>\n",
              "    <tr>\n",
              "      <th>8</th>\n",
              "      <td>8</td>\n",
              "      <td>2019-04-06 01:54:54.350262</td>\n",
              "      <td>8</td>\n",
              "      <td>[0.84246117, 0.49912694, 0.95856214, 0.530545,...</td>\n",
              "      <td>[0.9946509, 0.98235714, 0.98181605, 0.8806909,...</td>\n",
              "      <td>[1.0, 8.0, 1.0, 1.0, 1.0, 1.0, 1.0, 1.0, 1.0, ...</td>\n",
              "      <td>14</td>\n",
              "      <td>[0, 2, 3, 4, 5, 6, 7, 8, 9, 10, 11, 12, 13, 14...</td>\n",
              "      <td>[100, 3, 4, 0]</td>\n",
              "    </tr>\n",
              "    <tr>\n",
              "      <th>9</th>\n",
              "      <td>9</td>\n",
              "      <td>2019-04-06 01:54:54.350262</td>\n",
              "      <td>9</td>\n",
              "      <td>[0.8466456, 0.4944173, 0.9589074, 0.52855814, ...</td>\n",
              "      <td>[0.993614, 0.98047435, 0.97441375, 0.81668174,...</td>\n",
              "      <td>[1.0, 8.0, 1.0, 1.0, 1.0, 1.0, 1.0, 1.0, 1.0, ...</td>\n",
              "      <td>17</td>\n",
              "      <td>[0, 2, 3, 4, 5, 6, 7, 8, 9, 10, 11, 12, 13, 14...</td>\n",
              "      <td>[100, 3, 4, 0]</td>\n",
              "    </tr>\n",
              "  </tbody>\n",
              "</table>\n",
              "</div>"
            ],
            "text/plain": [
              "  _c0                   timestamp  frame  \\\n",
              "0   0  2019-04-06 01:54:54.350262      0   \n",
              "1   1  2019-04-06 01:54:54.350262      1   \n",
              "2   2  2019-04-06 01:54:54.350262      2   \n",
              "3   3  2019-04-06 01:54:54.350262      3   \n",
              "4   4  2019-04-06 01:54:54.350262      4   \n",
              "5   5  2019-04-06 01:54:54.350262      5   \n",
              "6   6  2019-04-06 01:54:54.350262      6   \n",
              "7   7  2019-04-06 01:54:54.350262      7   \n",
              "8   8  2019-04-06 01:54:54.350262      8   \n",
              "9   9  2019-04-06 01:54:54.350262      9   \n",
              "\n",
              "                                              bboxes  \\\n",
              "0  [0.5924571, 0.45952806, 0.686525, 0.47779706, ...   \n",
              "1  [0.55876905, 0.6130008, 0.81024545, 0.8550498,...   \n",
              "2  [0.55879766, 0.612742, 0.80924284, 0.8545442, ...   \n",
              "3  [0.585739, 0.4640477, 0.683594, 0.48238125, 0....   \n",
              "4  [0.5861195, 0.46531188, 0.68410474, 0.48530918...   \n",
              "5  [0.5595339, 0.6155165, 0.8104876, 0.8549662, 0...   \n",
              "6  [0.56109095, 0.6154148, 0.8113807, 0.8556289, ...   \n",
              "7  [0.843129, 0.5024977, 0.96392983, 0.5332773, 0...   \n",
              "8  [0.84246117, 0.49912694, 0.95856214, 0.530545,...   \n",
              "9  [0.8466456, 0.4944173, 0.9589074, 0.52855814, ...   \n",
              "\n",
              "                                              scores  \\\n",
              "0  [0.9862345, 0.9846124, 0.96301347, 0.85467225,...   \n",
              "1  [0.97783583, 0.97685575, 0.7071147, 0.66160876...   \n",
              "2  [0.97587866, 0.97196656, 0.8321477, 0.82237643...   \n",
              "3  [0.98206156, 0.97774976, 0.93095094, 0.8632616...   \n",
              "4  [0.9818289, 0.98028356, 0.72216564, 0.7162687,...   \n",
              "5  [0.98193616, 0.96152925, 0.7210958, 0.7036052,...   \n",
              "6  [0.98374695, 0.95496714, 0.9484551, 0.85788023...   \n",
              "7  [0.9861422, 0.98345333, 0.98037064, 0.88236, 0...   \n",
              "8  [0.9946509, 0.98235714, 0.98181605, 0.8806909,...   \n",
              "9  [0.993614, 0.98047435, 0.97441375, 0.81668174,...   \n",
              "\n",
              "                                             classes  num_valid  \\\n",
              "0  [1.0, 8.0, 1.0, 1.0, 1.0, 1.0, 1.0, 1.0, 1.0, ...         13   \n",
              "1  [8.0, 1.0, 1.0, 1.0, 1.0, 1.0, 1.0, 1.0, 1.0, ...         12   \n",
              "2  [8.0, 1.0, 1.0, 1.0, 1.0, 1.0, 16.0, 1.0, 1.0,...         11   \n",
              "3  [1.0, 8.0, 1.0, 1.0, 1.0, 1.0, 1.0, 1.0, 1.0, ...         17   \n",
              "4  [1.0, 8.0, 1.0, 1.0, 1.0, 1.0, 1.0, 1.0, 1.0, ...         11   \n",
              "5  [8.0, 1.0, 1.0, 1.0, 1.0, 1.0, 1.0, 1.0, 1.0, ...         13   \n",
              "6  [8.0, 1.0, 1.0, 1.0, 1.0, 1.0, 1.0, 1.0, 1.0, ...         13   \n",
              "7  [1.0, 8.0, 1.0, 1.0, 1.0, 1.0, 1.0, 1.0, 1.0, ...         17   \n",
              "8  [1.0, 8.0, 1.0, 1.0, 1.0, 1.0, 1.0, 1.0, 1.0, ...         14   \n",
              "9  [1.0, 8.0, 1.0, 1.0, 1.0, 1.0, 1.0, 1.0, 1.0, ...         17   \n",
              "\n",
              "                                      people_indices     group_sizes  \n",
              "0  [0, 2, 3, 4, 5, 6, 7, 8, 9, 10, 11, 12, 13, 14...  [100, 3, 4, 2]  \n",
              "1  [1, 2, 3, 4, 5, 6, 7, 8, 9, 11, 12, 13, 14, 15...  [100, 3, 4, 3]  \n",
              "2  [1, 2, 3, 4, 5, 7, 8, 9, 11, 12, 13, 14, 15, 1...  [100, 3, 4, 2]  \n",
              "3  [0, 2, 3, 4, 5, 6, 7, 8, 9, 10, 11, 12, 13, 14...  [100, 3, 4, 2]  \n",
              "4  [0, 2, 3, 4, 5, 6, 7, 8, 9, 10, 11, 12, 13, 14...  [100, 3, 4, 0]  \n",
              "5  [1, 2, 3, 4, 5, 6, 7, 8, 9, 10, 11, 12, 13, 14...  [100, 3, 4, 2]  \n",
              "6  [1, 2, 3, 4, 5, 6, 7, 8, 9, 10, 11, 12, 13, 14...  [100, 3, 4, 2]  \n",
              "7  [0, 2, 3, 4, 5, 6, 7, 8, 9, 10, 11, 12, 13, 14...  [100, 3, 4, 0]  \n",
              "8  [0, 2, 3, 4, 5, 6, 7, 8, 9, 10, 11, 12, 13, 14...  [100, 3, 4, 0]  \n",
              "9  [0, 2, 3, 4, 5, 6, 7, 8, 9, 10, 11, 12, 13, 14...  [100, 3, 4, 0]  "
            ]
          },
          "metadata": {
            "tags": []
          },
          "execution_count": 67
        }
      ]
    },
    {
      "cell_type": "code",
      "metadata": {
        "id": "4LyANNPKn7Yv",
        "colab_type": "code",
        "colab": {
          "base_uri": "https://localhost:8080/",
          "height": 445
        },
        "outputId": "1e4d877f-a220-4444-98ca-f859b768dafa"
      },
      "source": [
        "df.withColumn('num_groups', count_udf('group_sizes')).show()"
      ],
      "execution_count": 83,
      "outputs": [
        {
          "output_type": "stream",
          "text": [
            "+---+--------------------+-----+--------------------+--------------------+--------------------+---------+--------------------+--------------+----------+\n",
            "|_c0|           timestamp|frame|              bboxes|              scores|             classes|num_valid|      people_indices|   group_sizes|num_groups|\n",
            "+---+--------------------+-----+--------------------+--------------------+--------------------+---------+--------------------+--------------+----------+\n",
            "|  0|2019-04-06 01:54:...|    0|[0.5924571, 0.459...|[0.9862345, 0.984...|[1.0, 8.0, 1.0, 1...|       13|[0, 2, 3, 4, 5, 6...|[100, 3, 4, 2]|         4|\n",
            "|  1|2019-04-06 01:54:...|    1|[0.55876905, 0.61...|[0.97783583, 0.97...|[8.0, 1.0, 1.0, 1...|       12|[1, 2, 3, 4, 5, 6...|[100, 3, 4, 2]|         4|\n",
            "|  2|2019-04-06 01:54:...|    2|[0.55879766, 0.61...|[0.97587866, 0.97...|[8.0, 1.0, 1.0, 1...|       11|[1, 2, 3, 4, 5, 7...|[100, 3, 4, 0]|         4|\n",
            "|  3|2019-04-06 01:54:...|    3|[0.585739, 0.4640...|[0.98206156, 0.97...|[1.0, 8.0, 1.0, 1...|       17|[0, 2, 3, 4, 5, 6...|[100, 3, 4, 2]|         4|\n",
            "|  4|2019-04-06 01:54:...|    4|[0.5861195, 0.465...|[0.9818289, 0.980...|[1.0, 8.0, 1.0, 1...|       11|[0, 2, 3, 4, 5, 6...|[100, 3, 4, 0]|         4|\n",
            "|  5|2019-04-06 01:54:...|    5|[0.5595339, 0.615...|[0.98193616, 0.96...|[8.0, 1.0, 1.0, 1...|       13|[1, 2, 3, 4, 5, 6...|[100, 3, 4, 0]|         4|\n",
            "|  6|2019-04-06 01:54:...|    6|[0.56109095, 0.61...|[0.98374695, 0.95...|[8.0, 1.0, 1.0, 1...|       13|[1, 2, 3, 4, 5, 6...|[100, 3, 4, 1]|         4|\n",
            "|  7|2019-04-06 01:54:...|    7|[0.843129, 0.5024...|[0.9861422, 0.983...|[1.0, 8.0, 1.0, 1...|       17|[0, 2, 3, 4, 5, 6...|[100, 3, 4, 1]|         4|\n",
            "|  8|2019-04-06 01:54:...|    8|[0.84246117, 0.49...|[0.9946509, 0.982...|[1.0, 8.0, 1.0, 1...|       14|[0, 2, 3, 4, 5, 6...|[100, 3, 4, 0]|         4|\n",
            "|  9|2019-04-06 01:54:...|    9|[0.8466456, 0.494...|[0.993614, 0.9804...|[1.0, 8.0, 1.0, 1...|       17|[0, 2, 3, 4, 5, 6...|[100, 3, 4, 2]|         4|\n",
            "| 10|2019-04-06 01:54:...|   10|[0.5586031, 0.616...|[0.9820353, 0.975...|[8.0, 1.0, 1.0, 1...|       13|[1, 2, 3, 4, 5, 6...|[100, 3, 4, 1]|         4|\n",
            "| 11|2019-04-06 01:54:...|   11|[0.55206454, 0.61...|[0.98212767, 0.94...|[8.0, 1.0, 1.0, 1...|        8|[1, 2, 3, 4, 5, 6...|[100, 3, 4, 3]|         4|\n",
            "| 12|2019-04-06 01:54:...|   12|[0.55184585, 0.60...|[0.9841881, 0.975...|[8.0, 1.0, 1.0, 1...|       11|[1, 2, 3, 4, 5, 6...|[100, 3, 4, 0]|         4|\n",
            "| 13|2019-04-06 01:54:...|   13|[0.55508906, 0.61...|[0.97896564, 0.89...|[8.0, 1.0, 1.0, 1...|       11|[1, 2, 3, 4, 5, 6...|[100, 3, 4, 1]|         4|\n",
            "| 14|2019-04-06 01:54:...|   14|[0.54795176, 0.60...|[0.97637206, 0.74...|[8.0, 1.0, 1.0, 1...|       11|[1, 2, 3, 4, 5, 6...|[100, 3, 4, 3]|         4|\n",
            "| 15|2019-04-06 01:54:...|   15|[0.5475777, 0.605...|[0.97996694, 0.95...|[8.0, 1.0, 1.0, 1...|       11|[1, 2, 3, 4, 5, 6...|[100, 3, 4, 2]|         4|\n",
            "| 16|2019-04-06 01:54:...|   16|[0.5547014, 0.609...|[0.9811473, 0.950...|[8.0, 1.0, 1.0, 1...|       11|[1, 2, 3, 4, 5, 6...|[100, 3, 4, 0]|         4|\n",
            "| 17|2019-04-06 01:54:...|   17|[0.5535446, 0.608...|[0.9806847, 0.954...|[8.0, 1.0, 1.0, 1...|        7|[1, 2, 3, 4, 5, 6...|[100, 3, 4, 2]|         4|\n",
            "| 18|2019-04-06 01:54:...|   18|[0.557643, 0.6125...|[0.99096656, 0.93...|[8.0, 1.0, 1.0, 1...|       13|[1, 2, 3, 4, 5, 6...|[100, 3, 4, 3]|         4|\n",
            "| 19|2019-04-06 01:54:...|   19|[0.55841905, 0.61...|[0.99026734, 0.94...|[8.0, 1.0, 1.0, 1...|       10|[1, 2, 3, 4, 5, 6...|[100, 3, 4, 2]|         4|\n",
            "+---+--------------------+-----+--------------------+--------------------+--------------------+---------+--------------------+--------------+----------+\n",
            "only showing top 20 rows\n",
            "\n"
          ],
          "name": "stdout"
        }
      ]
    },
    {
      "cell_type": "code",
      "metadata": {
        "id": "DqiwHHaMclYH",
        "colab_type": "code",
        "colab": {}
      },
      "source": [
        "# df.groupBy(\"group_sizes\", window(\"timestamp\", \"2 seconds\")).agg(countDistinct(\"classes\"))"
      ],
      "execution_count": 0,
      "outputs": []
    },
    {
      "cell_type": "code",
      "metadata": {
        "id": "_HQiyoP1clWE",
        "colab_type": "code",
        "colab": {}
      },
      "source": [
        "df = spark.read.csv(directory + 'time_data.csv', header='true', multiLine='true')"
      ],
      "execution_count": 0,
      "outputs": []
    },
    {
      "cell_type": "code",
      "metadata": {
        "id": "pbKZ36KLcaqZ",
        "colab_type": "code",
        "colab": {
          "base_uri": "https://localhost:8080/",
          "height": 119
        },
        "outputId": "00238d74-0c90-403a-a9c1-babe3ddc84b3"
      },
      "source": [
        "df.show()"
      ],
      "execution_count": 5,
      "outputs": [
        {
          "output_type": "stream",
          "text": [
            "+---------+--------------------+------------------------------------------------------------------------------------------------------------------------------------+-------------------------------------------------------------------------------------------------------------------------------------+-------------------------------------------------------------------------------------------------------------------------------------+-------------------------------------------------------------------------------------------------------------------------------------+------------------------------------------------------------------------------------------------------------------------------------+------------------------------------------------------------------------------------------------------------------------------------+-------------------------------------------------------------------------------------------------------------------------------------+--------------------------------------------------------------------------------------------------------------------------------------+-------------------------------------------------------------------------------------------------------------------------------------+-----------------------------------------------------------------------------------------------------------------------------------+-------------------------------------------------------------------------------------------------------------------------------------+-------------------------------------------------------------------------------------------------------------------------------------+-------------------------------------------------------------------------------------------------------------------------------------+--------------------------------------------------------------------------------------------------------------------------------------+------------------------------------------------------------------------------------------------------------------------------------+-------------------------------------------------------------------------------------------------------------------------------------+-------------------------------------------------------------------------------------------------------------------------------------+--------------------------------------------------------------------------------------------------------------------------------------+-------------------------------------------------------------------------------------------------------------------------------------+-----------------------------------------------------------------------------------------------------------------+\n",
            "|Timestamp|Data\r5/3/19 12:10 PM|\"[[.5, .75, .3, .8, .9], [.5, .8, .1, .2, .98], [.2, .7, .1, .1, .15], [.2, .7, .1, .1, .15], [.1, .1, .2, .6, .7]]\"\r5/4/19 12:10 PM|\"[[.5, .8, .1, .2, .98], [.6, .6, .6, .2, .98], [.52, .7, .1, .1, .15], [42, .1, .1, .1, .15], [.1, .1, .2, .6, .7]]\"\r5/5/19 12:10 PM|\"[[.2, .7, .1, .1, .15],  [.5, .8, .1, .2, .98], [.2, .7, .1, .1, .15], [.2, .5, .7, .7, .15], [.1, .1, .2, .6, .7]]\"\r5/6/19 12:10 PM|\"[[.4, .6, .9, .1, .68],  [.5, .8, .1, .2, .98], [.2, .7, .1, .1, .15], [.2, 67, .4, .1, .15], [.1, .1, .2, .6, .7]]\"\r5/7/19 12:10 PM|\"[[.1, .1, .2, .6, .7],  [.3, .1, .1, .2, .34], [.2, .4, .4, .1, .15], [.2, .8, .9, .1, .15], [.5, .4, .2, .6, .7]]\"\r5/8/19 12:10 PM|\"[[.5, .75, .3, .8, .9], [.3, .1, .1, .2, .34], [.2, .4, .4, .1, .15], [.2, .8, .9, .1, .15], [.5, .4, .2, .6, .7]]\"\r5/9/19 12:10 PM|\"[[.5, .8, .1, .2, .51], [.3, .1, .1, .2, .34], [.2, .4, .4, .1, .15], [.2, .8, .9, .1, .15], [.5, .4, .2, .6, .7]]\"\r5/10/19 12:10 PM|\"[[.2, .7, .45, .1, .15], [.5, .8, .1, .2, .98], [.2, .7, .1, .1, .15], [.2, .7, .1, .1, .15], [.1, .1, .2, .6, .7]]\"\r5/11/19 12:10 PM|\"[[.4, .6, .5, .1, .68], [.5, .8, .1, .2, .98], [.2, .7, .1, .1, .15], [.2, .7, .1, .1, .15], [.1, .1, .2, .6, .7]]\"\r5/12/19 12:10 PM|\"[[.3, .1, .2, .6, .7],[.3, .1, .1, .2, .34], [.2, .4, .4, .1, .15], [.2, .8, .9, .1, .15], [.5, .4, .2, .6, .7]]\"\r5/13/19 12:10 PM|\"[[.5, .75, .8, .8, .9], [.5, .8, .1, .2, .98], [.2, .7, .1, .1, .15], [.2, .7, .1, .1, .15], [.1, .1, .2, .6, .7]]\"\r5/14/19 12:10 PM|\"[[.34, .6, .1, .2, .81],[.3, .1, .1, .2, .34], [.2, .4, .4, .1, .15], [.2, .8, .9, .1, .15], [.5, .4, .2, .6, .7]]\"\r5/15/19 12:10 PM|\"[[.2, .7, .4, .4, .15],[.6, .6, .6, .2, .98], [.52, .7, .1, .1, .15], [42, .1, .1, .1, .15], [.1, .1, .2, .6, .7]]\"\r5/16/19 12:10 PM|\"[[.4, .66, .9, .1, .24],[.6, .6, .6, .2, .98], [.52, .7, .1, .1, .15], [42, .1, .1, .1, .15], [.1, .1, .2, .6, .7]]\"\r5/17/19 12:10 PM|\"[[.1, .2, .2, .6, .7],[.6, .6, .6, .2, .98], [.52, .7, .1, .1, .15], [42, .1, .1, .1, .15], [.1, .1, .2, .6, .7]]\"\r5/18/19 12:10 PM|\"[[.5, .75, .6, .8, .9],[.6, .6, .6, .2, .98], [.52, .7, .1, .1, .15], [42, .1, .1, .1, .15], [.1, .1, .2, .6, .7]]\"\r5/19/19 12:10 PM|\"[[.5, .9, .3, .2, .98], [.5, .8, .1, .2, .98], [.2, .7, .1, .1, .15], [.2, .7, .1, .1, .15], [.1, .1, .2, .6, .7]]\"\r5/20/19 12:10 PM|\"[[.2, .8, .1, .77, .15], [.5, .8, .1, .2, .98], [.2, .7, .1, .1, .15], [.2, .7, .1, .1, .15], [.1, .1, .2, .6, .7]]\"\r5/21/19 12:10 PM|\"[[.4, .6, .13, .1, .68],[.3, .1, .1, .2, .34], [.2, .4, .4, .1, .15], [.2, .8, .9, .1, .15], [.5, .4, .2, .6, .7]]\"\r5/22/19 12:10 PM|[[.1, .23, .2, .4, .7],[.3, .1, .1, .2, .34], [.2, .4, .4, .1, .15], [.2, .8, .9, .1, .15], [.5, .4, .2, .6, .7]]|\n",
            "+---------+--------------------+------------------------------------------------------------------------------------------------------------------------------------+-------------------------------------------------------------------------------------------------------------------------------------+-------------------------------------------------------------------------------------------------------------------------------------+-------------------------------------------------------------------------------------------------------------------------------------+------------------------------------------------------------------------------------------------------------------------------------+------------------------------------------------------------------------------------------------------------------------------------+-------------------------------------------------------------------------------------------------------------------------------------+--------------------------------------------------------------------------------------------------------------------------------------+-------------------------------------------------------------------------------------------------------------------------------------+-----------------------------------------------------------------------------------------------------------------------------------+-------------------------------------------------------------------------------------------------------------------------------------+-------------------------------------------------------------------------------------------------------------------------------------+-------------------------------------------------------------------------------------------------------------------------------------+--------------------------------------------------------------------------------------------------------------------------------------+------------------------------------------------------------------------------------------------------------------------------------+-------------------------------------------------------------------------------------------------------------------------------------+-------------------------------------------------------------------------------------------------------------------------------------+--------------------------------------------------------------------------------------------------------------------------------------+-------------------------------------------------------------------------------------------------------------------------------------+-----------------------------------------------------------------------------------------------------------------+\n",
            "+---------+--------------------+------------------------------------------------------------------------------------------------------------------------------------+-------------------------------------------------------------------------------------------------------------------------------------+-------------------------------------------------------------------------------------------------------------------------------------+-------------------------------------------------------------------------------------------------------------------------------------+------------------------------------------------------------------------------------------------------------------------------------+------------------------------------------------------------------------------------------------------------------------------------+-------------------------------------------------------------------------------------------------------------------------------------+--------------------------------------------------------------------------------------------------------------------------------------+-------------------------------------------------------------------------------------------------------------------------------------+-----------------------------------------------------------------------------------------------------------------------------------+-------------------------------------------------------------------------------------------------------------------------------------+-------------------------------------------------------------------------------------------------------------------------------------+-------------------------------------------------------------------------------------------------------------------------------------+--------------------------------------------------------------------------------------------------------------------------------------+------------------------------------------------------------------------------------------------------------------------------------+-------------------------------------------------------------------------------------------------------------------------------------+-------------------------------------------------------------------------------------------------------------------------------------+--------------------------------------------------------------------------------------------------------------------------------------+-------------------------------------------------------------------------------------------------------------------------------------+-----------------------------------------------------------------------------------------------------------------+\n",
            "\n"
          ],
          "name": "stdout"
        }
      ]
    },
    {
      "cell_type": "code",
      "metadata": {
        "id": "M_dsu_VEb2av",
        "colab_type": "code",
        "colab": {}
      },
      "source": [
        "w = Window().partitionBy().orderBy(col(\"Timestamp\"))\n",
        "\n",
        "df.withColumn('shifted', lag(\"data\").over(w)).na.drop().show()"
      ],
      "execution_count": 0,
      "outputs": []
    }
  ]
}